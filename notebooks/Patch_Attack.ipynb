{
 "cells": [
  {
   "cell_type": "code",
   "execution_count": 1,
   "id": "56ec895b",
   "metadata": {},
   "outputs": [
    {
     "data": {
      "text/plain": [
       "<Figure size 432x288 with 0 Axes>"
      ]
     },
     "metadata": {},
     "output_type": "display_data"
    }
   ],
   "source": [
    "import torch\n",
    "from    torch import nn\n",
    "from    torch.nn import functional as F\n",
    "import  numpy as np\n",
    "from torch.utils.data import DataLoader\n",
    "import matplotlib.pyplot as plt\n",
    "from torchvision.utils import make_grid\n",
    "import os\n",
    "\n",
    "# Team Libraries\n",
    "# Needed in order to use modules from a directory level higher\n",
    "import sys\n",
    "sys.path.append('../')\n",
    "\n",
    "from meta_utils import *\n",
    "from Learner import Learner\n",
    "from learner_config import *\n",
    "from Meta import Meta\n",
    "from MiniImagenet import MiniImagenet\n",
    "from poison import *"
   ]
  },
  {
   "cell_type": "code",
   "execution_count": 8,
   "id": "88021994",
   "metadata": {},
   "outputs": [
    {
     "ename": "TypeError",
     "evalue": "load_state_dict() got an unexpected keyword argument 'map_location'",
     "output_type": "error",
     "traceback": [
      "\u001b[1;31m---------------------------------------------------------------------------\u001b[0m",
      "\u001b[1;31mTypeError\u001b[0m                                 Traceback (most recent call last)",
      "\u001b[1;32m~\\AppData\\Local\\Temp/ipykernel_9004/1036812218.py\u001b[0m in \u001b[0;36m<module>\u001b[1;34m\u001b[0m\n\u001b[0;32m      3\u001b[0m \u001b[0mpth\u001b[0m \u001b[1;33m=\u001b[0m \u001b[0mos\u001b[0m\u001b[1;33m.\u001b[0m\u001b[0mgetcwd\u001b[0m\u001b[1;33m(\u001b[0m\u001b[1;33m)\u001b[0m\u001b[1;33m\u001b[0m\u001b[1;33m\u001b[0m\u001b[0m\n\u001b[0;32m      4\u001b[0m \u001b[0mmodel_loc\u001b[0m \u001b[1;33m=\u001b[0m \u001b[1;34mf\"../models/Leaner_OBJ_MiniImagenet_n_way_5_k_shot_5_acc_0.60546875_dateMMDDYYY_10272021\"\u001b[0m\u001b[1;33m\u001b[0m\u001b[1;33m\u001b[0m\u001b[0m\n\u001b[1;32m----> 5\u001b[1;33m \u001b[0mmodel\u001b[0m\u001b[1;33m.\u001b[0m\u001b[0mload_state_dict\u001b[0m\u001b[1;33m(\u001b[0m\u001b[0mmodel_loc\u001b[0m\u001b[1;33m,\u001b[0m \u001b[0mmap_location\u001b[0m\u001b[1;33m=\u001b[0m\u001b[0mtorch\u001b[0m\u001b[1;33m.\u001b[0m\u001b[0mdevice\u001b[0m\u001b[1;33m(\u001b[0m\u001b[1;34m'cpu'\u001b[0m\u001b[1;33m)\u001b[0m\u001b[1;33m)\u001b[0m\u001b[1;33m\u001b[0m\u001b[1;33m\u001b[0m\u001b[0m\n\u001b[0m\u001b[0;32m      6\u001b[0m \u001b[0mmaml\u001b[0m\u001b[1;33m.\u001b[0m\u001b[0mnet\u001b[0m \u001b[1;33m=\u001b[0m \u001b[0mmodel\u001b[0m\u001b[1;33m\u001b[0m\u001b[1;33m\u001b[0m\u001b[0m\n\u001b[0;32m      7\u001b[0m \u001b[1;31m# model_small.train()\u001b[0m\u001b[1;33m\u001b[0m\u001b[1;33m\u001b[0m\u001b[1;33m\u001b[0m\u001b[0m\n",
      "\u001b[1;31mTypeError\u001b[0m: load_state_dict() got an unexpected keyword argument 'map_location'"
     ]
    }
   ],
   "source": [
    "model = Learner(miniImgNet_config,3,84)\n",
    "maml = Meta(miniImgNet_config)\n",
    "pth = os.getcwd()\n",
    "model_loc = \"../models/Leaner_OBJ_MiniImagenet_n_way_5_k_shot_5_acc_0.60546875_dateMMDDYYY_10272021\"\n",
    "model.load_state_dict(model_loc, map_location=torch.device('cpu'))\n",
    "maml.net = model\n",
    "# model_small.train()"
   ]
  },
  {
   "cell_type": "code",
   "execution_count": null,
   "id": "003f1a3e",
   "metadata": {},
   "outputs": [],
   "source": [
    "mini_test = MiniImagenet('miniimagenet/', mode='test', n_way=5, k_shot=5,\n",
    "                         k_query=15,\n",
    "                         batchsz=100, resize=84)"
   ]
  },
  {
   "cell_type": "code",
   "execution_count": null,
   "id": "14507c8b",
   "metadata": {},
   "outputs": [],
   "source": [
    "from random import randrange\n",
    "import  numpy as np\n",
    "\n",
    "torch.manual_seed(222)\n",
    "torch.cuda.manual_seed_all(222)\n",
    "np.random.seed(222)\n",
    "\n",
    "db_test = DataLoader(mini_test, 1, shuffle=True, num_workers=0, pin_memory=True)\n",
    "accs_all_test = []\n",
    "clean_accs_all_test = []\n",
    "poison_accs_all_test = []\n",
    "i = 0\n",
    "base_and_target_imgs = {}\n",
    "display = False\n",
    "for x_spt, y_spt, x_qry, y_qry in db_test:\n",
    "    if display:\n",
    "      # plot support set\n",
    "      show_grid(x_spt, 'Support Set', 5)\n",
    "      # plot query set\n",
    "      show_grid(x_qry, 'Query Set', 15, fig_dim=[25, 25])\n",
    "    x_spt, y_spt, x_qry, y_qry = x_spt.squeeze(0), y_spt.squeeze(0), \\\n",
    "                                 x_qry.squeeze(0), y_qry.squeeze(0)\n",
    "    # Base line accuracy\n",
    "    spt_idx = np.argsort(y_spt.numpy())[0]\n",
    "    qry_idx = np.argsort(y_qry.numpy())[-1]\n",
    "    base = x_spt[spt_idx]\n",
    "    target = x_qry[qry_idx]\n",
    "    x_qry = target\n",
    "    y_qry = y_qry[qry_idx]\n",
    "    x_qry = x_qry.reshape(1, 3, 84, 84)\n",
    "    y_qry = y_qry.reshape(1)\n",
    "    clean_accs = maml.finetuning(x_spt, y_spt, x_qry, y_qry)\n",
    "    clean_accs_all_test.append(clean_accs)\n",
    "    ############## ADD POISONS TO SUPPORT HERE ##############   \n",
    "    # spt_idx = np.argsort(y_spt.numpy())[0]\n",
    "    # qry_idx = np.argsort(y_qry.numpy())[-1]\n",
    "    # base = x_spt[spt_idx]\n",
    "    # target = x_qry[qry_idx]\n",
    "    x_spt[spt_idx] = poison_image_watermark(base, target, .8)\n",
    "    # x_qry = target\n",
    "    # y_qry = y_qry[qry_idx]\n",
    "    poison_accs = maml.finetuning(x_spt, y_spt, x_qry, y_qry)\n",
    "    poison_accs_all_test.append(poison_accs)\n",
    "    \n",
    "    #  base_and_target_imgs[x_spt[support_idx]] = x_qry[query_idx]\n",
    "    # print(base_and_target_imgs)\n",
    "    # accs = maml.finetuning(x_spt, y_spt, x_qry, y_qry)\n",
    "    # accs_all_test.append(accs)\n",
    "    \n",
    "    i += 1\n",
    "    print(i, \" clean: \", clean_accs[-1])\n",
    "    print(i, \" poison: \", poison_accs[-1])\n",
    "total_clean_accs = np.array(clean_accs_all_test).mean(axis=0).astype(np.float16)\n",
    "total_poison_accs = np.array(poison_accs_all_test).mean(axis=0).astype(np.float16)\n",
    "print(\"Total clean accs: \" + str(total_clean_accs))\n",
    "print(\"total_poison_accs: \" + str(total_poison_accs))"
   ]
  }
 ],
 "metadata": {
  "kernelspec": {
   "display_name": "Python 3 (ipykernel)",
   "language": "python",
   "name": "python3"
  },
  "language_info": {
   "codemirror_mode": {
    "name": "ipython",
    "version": 3
   },
   "file_extension": ".py",
   "mimetype": "text/x-python",
   "name": "python",
   "nbconvert_exporter": "python",
   "pygments_lexer": "ipython3",
   "version": "3.8.11"
  }
 },
 "nbformat": 4,
 "nbformat_minor": 5
}
