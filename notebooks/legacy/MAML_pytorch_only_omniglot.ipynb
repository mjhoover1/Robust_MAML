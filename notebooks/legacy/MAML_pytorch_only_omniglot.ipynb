{
  "nbformat": 4,
  "nbformat_minor": 0,
  "metadata": {
    "kernelspec": {
      "display_name": "Python 3",
      "language": "python",
      "name": "python3"
    },
    "language_info": {
      "codemirror_mode": {
        "name": "ipython",
        "version": 3
      },
      "file_extension": ".py",
      "mimetype": "text/x-python",
      "name": "python",
      "nbconvert_exporter": "python",
      "pygments_lexer": "ipython3",
      "version": "3.8.5"
    },
    "colab": {
      "name": "MAML_pytorch_only_omniglot.ipynb",
      "provenance": [],
      "collapsed_sections": [],
      "include_colab_link": true
    },
    "accelerator": "GPU"
  },
  "cells": [
    {
      "cell_type": "markdown",
      "metadata": {
        "id": "view-in-github",
        "colab_type": "text"
      },
      "source": [
        "<a href=\"https://colab.research.google.com/github/mjhoover1/Robust_MAML/blob/main/MAML_pytorch_only_omniglot.ipynb\" target=\"_parent\"><img src=\"https://colab.research.google.com/assets/colab-badge.svg\" alt=\"Open In Colab\"/></a>"
      ]
    },
    {
      "cell_type": "code",
      "metadata": {
        "colab": {
          "base_uri": "https://localhost:8080/"
        },
        "id": "sxIamWZQsAGf",
        "outputId": "b2c03bb4-782e-450d-a94f-d50260209cb4"
      },
      "source": [
        "!pip install easyfsl"
      ],
      "execution_count": 87,
      "outputs": [
        {
          "output_type": "stream",
          "name": "stdout",
          "text": [
            "Requirement already satisfied: easyfsl in /usr/local/lib/python3.7/dist-packages (0.2.0)\n",
            "Requirement already satisfied: matplotlib>=3.0.0 in /usr/local/lib/python3.7/dist-packages (from easyfsl) (3.2.2)\n",
            "Requirement already satisfied: torchvision>=0.7.0 in /usr/local/lib/python3.7/dist-packages (from easyfsl) (0.10.0+cu111)\n",
            "Requirement already satisfied: loguru>=0.5.0 in /usr/local/lib/python3.7/dist-packages (from easyfsl) (0.5.3)\n",
            "Requirement already satisfied: torch>=1.4.0 in /usr/local/lib/python3.7/dist-packages (from easyfsl) (1.9.0+cu111)\n",
            "Requirement already satisfied: tqdm>=4.1.0 in /usr/local/lib/python3.7/dist-packages (from easyfsl) (4.62.3)\n",
            "Requirement already satisfied: pandas>=1.1.0 in /usr/local/lib/python3.7/dist-packages (from easyfsl) (1.1.5)\n",
            "Requirement already satisfied: pyparsing!=2.0.4,!=2.1.2,!=2.1.6,>=2.0.1 in /usr/local/lib/python3.7/dist-packages (from matplotlib>=3.0.0->easyfsl) (2.4.7)\n",
            "Requirement already satisfied: kiwisolver>=1.0.1 in /usr/local/lib/python3.7/dist-packages (from matplotlib>=3.0.0->easyfsl) (1.3.2)\n",
            "Requirement already satisfied: cycler>=0.10 in /usr/local/lib/python3.7/dist-packages (from matplotlib>=3.0.0->easyfsl) (0.10.0)\n",
            "Requirement already satisfied: python-dateutil>=2.1 in /usr/local/lib/python3.7/dist-packages (from matplotlib>=3.0.0->easyfsl) (2.8.2)\n",
            "Requirement already satisfied: numpy>=1.11 in /usr/local/lib/python3.7/dist-packages (from matplotlib>=3.0.0->easyfsl) (1.19.5)\n",
            "Requirement already satisfied: six in /usr/local/lib/python3.7/dist-packages (from cycler>=0.10->matplotlib>=3.0.0->easyfsl) (1.15.0)\n",
            "Requirement already satisfied: pytz>=2017.2 in /usr/local/lib/python3.7/dist-packages (from pandas>=1.1.0->easyfsl) (2018.9)\n",
            "Requirement already satisfied: typing-extensions in /usr/local/lib/python3.7/dist-packages (from torch>=1.4.0->easyfsl) (3.7.4.3)\n",
            "Requirement already satisfied: pillow>=5.3.0 in /usr/local/lib/python3.7/dist-packages (from torchvision>=0.7.0->easyfsl) (7.1.2)\n"
          ]
        }
      ]
    },
    {
      "cell_type": "code",
      "metadata": {
        "id": "fYGIYmP_JBCZ"
      },
      "source": [
        "# Import modules we need\n",
        "import torch.nn as nn\n",
        "import torch.nn.functional as F\n",
        "from torch.utils.data import DataLoader, Dataset\n",
        "import torchvision.transforms as transforms\n",
        "import glob\n",
        "from tqdm import tqdm\n",
        "import numpy as np\n",
        "from collections import OrderedDict\n",
        "import torch\n",
        "from torch import nn\n",
        "from torch.utils.data import DataLoader\n",
        "from torchvision import datasets\n",
        "from torchvision.transforms import ToTensor, Lambda, Compose\n",
        "import matplotlib.pyplot as plt\n",
        "import numpy as np\n",
        "from itertools import compress\n",
        "import random\n",
        "from easyfsl.data_tools import TaskSampler\n",
        "from easyfsl.utils import plot_images, sliding_average"
      ],
      "execution_count": 1,
      "outputs": []
    },
    {
      "cell_type": "code",
      "metadata": {
        "id": "Lk8OZtSp17U-",
        "colab": {
          "base_uri": "https://localhost:8080/",
          "height": 35
        },
        "outputId": "00577bfa-233e-4de1-a3b5-1deaae286fde"
      },
      "source": [
        "device = 'cuda' if torch.cuda.is_available() else 'cpu'\n",
        "device"
      ],
      "execution_count": 3,
      "outputs": [
        {
          "output_type": "execute_result",
          "data": {
            "application/vnd.google.colaboratory.intrinsic+json": {
              "type": "string"
            },
            "text/plain": [
              "'cuda'"
            ]
          },
          "metadata": {},
          "execution_count": 3
        }
      ]
    },
    {
      "cell_type": "code",
      "metadata": {
        "id": "rWrVyHvUJFBz"
      },
      "source": [
        "# # 5 n-way 5 k-shot\n",
        "# def randomSelectSamples(data, samples):\n",
        "\n",
        "#     randomlist = random.sample(range(0, len(data.targets)-1), min(len(data.targets), samples))\n",
        "#     data.targets = [data.targets[i] for i in randomlist]\n",
        "#     data.data = [data.data[i] for i in randomlist]\n",
        "    \n",
        "#     return data\n",
        "\n",
        "# def randomSelectSamplesByClasses(data, classes, sample_size):\n",
        "\n",
        "#     randomlist = random.sample(range(0, len(data.targets)), min(len(data.targets), 100*len(classes)*sample_size))\n",
        "#     counter_by_class = {}\n",
        "#     new_index_list = []\n",
        "#     for i in randomlist:\n",
        "#         if(data.targets[i] not in counter_by_class):\n",
        "#             counter_by_class[data.targets[i]] = 1\n",
        "#             new_index_list.append(i)\n",
        "        \n",
        "#         elif(counter_by_class[data.targets[i]] < sample_size):\n",
        "#             counter_by_class[data.targets[i]] += 1\n",
        "#             new_index_list.append(i)\n",
        "            \n",
        "#     data.targets = [data.targets[i] for i in new_index_list]\n",
        "#     data.data = [data.data[i] for i in new_index_list]\n",
        "#     print(data.targets)\n",
        "#     return data"
      ],
      "execution_count": 4,
      "outputs": []
    },
    {
      "cell_type": "code",
      "metadata": {
        "id": "Jv8b4zCXJNdr"
      },
      "source": [
        "import torchvision.transforms as transforms\n",
        "from    PIL import Image\n",
        "import  os.path\n",
        "import  numpy as np\n",
        "\n",
        "# imgsz=64\n",
        "# image_size = 28\n",
        "\n",
        "# transform = Compose([\n",
        "#                     lambda x: x.resize((imgsz, imgsz)),\n",
        "#                     lambda x: np.reshape(x, (imgsz, imgsz, 1)),\n",
        "#                     lambda x: np.transpose(x, [2, 0, 1]),\n",
        "#                     lambda x: x/255.])\n",
        "# transform1 = Compose(\n",
        "#     [\n",
        "#      transforms.Grayscale(num_output_channels=1), # Omniglot has 1 channel\n",
        "#      transforms.RandomResizedCrop(image_size),\n",
        "#      transforms.RandomHorizontalFlip(),\n",
        "#      transforms.ToTensor()\n",
        "#      ])\n",
        "# transform2 = Compose(\n",
        "#     [\n",
        "#      transforms.Grayscale(num_output_channels=1), # Omniglot has 1 channel\n",
        "#      transforms.Resize([int(image_size * 1.15), int(image_size * 1.15)]),\n",
        "#      transforms.CenterCrop(image_size),\n",
        "#      transforms.ToTensor()\n",
        "#      ])\n",
        "transform3 = Compose(\n",
        "    [\n",
        "     transforms.ToTensor()\n",
        "     ])"
      ],
      "execution_count": 4,
      "outputs": []
    },
    {
      "cell_type": "code",
      "metadata": {
        "id": "4u95CkjSJT5I",
        "colab": {
          "base_uri": "https://localhost:8080/"
        },
        "outputId": "5474ac58-820c-495e-9069-2c760c27eff8"
      },
      "source": [
        "training_set = datasets.Omniglot(\n",
        "    root=\"data\",\n",
        "    background=True, # selects train set\n",
        "    download=True, \n",
        "    transform=transform3\n",
        ")\n",
        "\n",
        "test_set = datasets.Omniglot(\n",
        "    root=\"data\",\n",
        "    background=False, # selects the test set\n",
        "    download=True, \n",
        "    transform=transform3\n",
        ")"
      ],
      "execution_count": 5,
      "outputs": [
        {
          "output_type": "stream",
          "name": "stdout",
          "text": [
            "Files already downloaded and verified\n",
            "Files already downloaded and verified\n"
          ]
        }
      ]
    },
    {
      "cell_type": "code",
      "metadata": {
        "id": "_cjcRyijJYf3",
        "colab": {
          "base_uri": "https://localhost:8080/",
          "height": 302
        },
        "outputId": "04a8930c-9d16-4013-9384-6b52026597fe"
      },
      "source": [
        "%matplotlib inline\n",
        "image, label = training_set[0]\n",
        "print('image.shape:', image.shape)\n",
        "plt.imshow(image[0],cmap='gray')\n",
        "print('Label:', label)"
      ],
      "execution_count": 6,
      "outputs": [
        {
          "output_type": "stream",
          "name": "stdout",
          "text": [
            "image.shape: torch.Size([1, 105, 105])\n",
            "Label: 0\n"
          ]
        },
        {
          "output_type": "display_data",
          "data": {
            "image/png": "[encoded data removed]",
            "text/plain": [
              "<Figure size 432x288 with 1 Axes>"
            ]
          },
          "metadata": {
            "needs_background": "light"
          }
        }
      ]
    },
    {
      "cell_type": "markdown",
      "metadata": {
        "id": "DRvUWH8QzHao"
      },
      "source": [
        "![image.png](data:image/png;base64,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)"
      ]
    },
    {
      "cell_type": "code",
      "metadata": {
        "id": "R2Mfas5ezr6t"
      },
      "source": [
        "def ConvBlock(in_ch, out_ch):\n",
        "  return nn.Sequential(nn.Conv2d(in_ch, out_ch, 3, padding = 1),\n",
        "                       nn.BatchNorm2d(out_ch),\n",
        "                       nn.ReLU(),\n",
        "                       nn.MaxPool2d(kernel_size = 2, stride = 2)) # 原作者在 paper 裡是说她在 omniglot 用的是 strided convolution\n",
        "                                                                  # 不过这裡我改成 max pool (mini imagenet 才是 max pool)\n",
        "                                                                  # 这并不是你们在 report 第三题要找的 tip\n",
        "def ConvBlockFunction(x, w, b, w_bn, b_bn):\n",
        "  x = F.conv2d(x, w, b, padding = 1)\n",
        "  x = F.batch_norm(x, running_mean = None, running_var = None, weight = w_bn, bias = b_bn, training = True)\n",
        "  x = F.relu(x)\n",
        "  x = F.max_pool2d(x, kernel_size = 2, stride = 2)\n",
        "  return x\n",
        "\n",
        "class Classifier(nn.Module):\n",
        "  def __init__(self, in_ch, k_way):\n",
        "    super(Classifier, self).__init__()\n",
        "    self.conv1 = ConvBlock(in_ch, 64)\n",
        "    self.conv2 = ConvBlock(64, 64)\n",
        "    self.conv3 = ConvBlock(64, 64)\n",
        "    self.conv4 = ConvBlock(64, 64)\n",
        "    self.logits = nn.Linear(64, k_way)\n",
        "    \n",
        "  def forward(self, x):\n",
        "    x = self.conv1(x)\n",
        "    x = self.conv2(x)\n",
        "    x = self.conv3(x)\n",
        "    x = self.conv4(x)\n",
        "    x = x.view(x.shape[0], -1)\n",
        "    x = self.logits(x)\n",
        "    return x\n",
        "\n",
        "  def functional_forward(self, x, params):\n",
        "    '''\n",
        "    Arguments:\n",
        "    x: input images [batch, 1, 28, 28]\n",
        "    params: convolution, weight, bias，batchnormalization, weight, bias\n",
        "            OrderedDict\n",
        "    '''\n",
        "    for block in [1, 2, 3, 4]:\n",
        "      x = ConvBlockFunction(x, params[f'conv{block}.0.weight'], params[f'conv{block}.0.bias'],\n",
        "                            params.get(f'conv{block}.1.weight'), params.get(f'conv{block}.1.bias'))\n",
        "    x = x.view(x.shape[0], -1)\n",
        "    x = F.linear(x, params['logits.weight'] , params['logits.bias'])\n",
        "    return x"
      ],
      "execution_count": 7,
      "outputs": []
    },
    {
      "cell_type": "code",
      "metadata": {
        "id": "UYvFVXDjzso1"
      },
      "source": [
        "n_way = 5\n",
        "k_shot = 1\n",
        "q_query = 1\n",
        "inner_train_step = 1\n",
        "inner_lr = 0.4\n",
        "meta_lr = 0.001\n",
        "meta_batch_size = 32\n",
        "max_epoch = 40\n",
        "eval_batches = test_batches = 20\n",
        "# N_WAY = 5 # Number of classes in a task\n",
        "# N_SHOT = 5 # Number of images per class in the support set\n",
        "# N_QUERY = 10 # Number of images per class in the query set\n",
        "# N_EVALUATION_TASKS = 100\n",
        "\n",
        "# # The sampler needs a dataset with a \"labels\" field. Check the code if you have any doubt!\n",
        "# test_set.labels = [instance[1] for instance in test_set._flat_character_images]\n",
        "# test_sampler = TaskSampler(\n",
        "#     test_set, n_way=N_WAY, n_shot=N_SHOT, n_query=N_QUERY, n_tasks=N_EVALUATION_TASKS\n",
        "# )\n",
        "\n",
        "# test_loader = DataLoader(\n",
        "#     test_set,\n",
        "#     batch_sampler=test_sampler,\n",
        "#     num_workers=12,\n",
        "#     pin_memory=True,\n",
        "#     collate_fn=test_sampler.episodic_collate_fn,\n",
        "# )"
      ],
      "execution_count": 8,
      "outputs": []
    },
    {
      "cell_type": "code",
      "metadata": {
        "colab": {
          "base_uri": "https://localhost:8080/",
          "height": 231
        },
        "id": "QY19M0qV0OhG",
        "outputId": "9aeccb49-3c1d-464f-b990-b8d886b0625b"
      },
      "source": [
        "# (\n",
        "#     example_support_images,\n",
        "#     example_support_labels,\n",
        "#     example_query_images,\n",
        "#     example_query_labels,\n",
        "#     example_class_ids,\n",
        "# ) = next(iter(test_loader))\n",
        "\n",
        "# plot_images(example_support_images, \"support images\", images_per_row=N_SHOT)\n",
        "# plot_images(example_query_images, \"query images\", images_per_row=N_QUERY)"
      ],
      "execution_count": 12,
      "outputs": [
        {
          "output_type": "error",
          "ename": "NameError",
          "evalue": "ignored",
          "traceback": [
            "\u001b[0;31m---------------------------------------------------------------------------\u001b[0m",
            "\u001b[0;31mNameError\u001b[0m                                 Traceback (most recent call last)",
            "\u001b[0;32m<ipython-input-12-a386c7d8562a>\u001b[0m in \u001b[0;36m<module>\u001b[0;34m()\u001b[0m\n\u001b[1;32m      5\u001b[0m     \u001b[0mexample_query_labels\u001b[0m\u001b[0;34m,\u001b[0m\u001b[0;34m\u001b[0m\u001b[0;34m\u001b[0m\u001b[0m\n\u001b[1;32m      6\u001b[0m     \u001b[0mexample_class_ids\u001b[0m\u001b[0;34m,\u001b[0m\u001b[0;34m\u001b[0m\u001b[0;34m\u001b[0m\u001b[0m\n\u001b[0;32m----> 7\u001b[0;31m ) = next(iter(test_loader))\n\u001b[0m\u001b[1;32m      8\u001b[0m \u001b[0;34m\u001b[0m\u001b[0m\n\u001b[1;32m      9\u001b[0m \u001b[0mplot_images\u001b[0m\u001b[0;34m(\u001b[0m\u001b[0mexample_support_images\u001b[0m\u001b[0;34m,\u001b[0m \u001b[0;34m\"support images\"\u001b[0m\u001b[0;34m,\u001b[0m \u001b[0mimages_per_row\u001b[0m\u001b[0;34m=\u001b[0m\u001b[0mN_SHOT\u001b[0m\u001b[0;34m)\u001b[0m\u001b[0;34m\u001b[0m\u001b[0;34m\u001b[0m\u001b[0m\n",
            "\u001b[0;31mNameError\u001b[0m: name 'test_loader' is not defined"
          ]
        }
      ]
    },
    {
      "cell_type": "code",
      "metadata": {
        "colab": {
          "base_uri": "https://localhost:8080/",
          "height": 350
        },
        "id": "POmbbmJT0Kmw",
        "outputId": "76ea4ea4-3b84-4b61-aa5b-a5e236fedd63"
      },
      "source": [
        "# meta_model.eval()\n",
        "# example_scores = meta_model(\n",
        "#     example_support_images.cuda(),\n",
        "#     example_support_labels.cuda(),\n",
        "#     example_query_images.cuda(),\n",
        "# ).detach()\n",
        "\n",
        "# _, example_predicted_labels = torch.max(example_scores.data, 1)\n",
        "\n",
        "# print(\"Ground Truth / Predicted\")\n",
        "# for i in range(len(example_query_labels)):\n",
        "#     print(\n",
        "#         f\"{test_set._characters[example_class_ids[example_query_labels[i]]]} / {test_set._characters[example_class_ids[example_predicted_labels[i]]]}\"\n",
        "#     )"
      ],
      "execution_count": 20,
      "outputs": [
        {
          "output_type": "error",
          "ename": "TypeError",
          "evalue": "ignored",
          "traceback": [
            "\u001b[0;31m---------------------------------------------------------------------------\u001b[0m",
            "\u001b[0;31mTypeError\u001b[0m                                 Traceback (most recent call last)",
            "\u001b[0;32m<ipython-input-20-415164052b84>\u001b[0m in \u001b[0;36m<module>\u001b[0;34m()\u001b[0m\n\u001b[1;32m      3\u001b[0m     \u001b[0mexample_support_images\u001b[0m\u001b[0;34m.\u001b[0m\u001b[0mcuda\u001b[0m\u001b[0;34m(\u001b[0m\u001b[0;34m)\u001b[0m\u001b[0;34m,\u001b[0m\u001b[0;34m\u001b[0m\u001b[0;34m\u001b[0m\u001b[0m\n\u001b[1;32m      4\u001b[0m     \u001b[0mexample_support_labels\u001b[0m\u001b[0;34m.\u001b[0m\u001b[0mcuda\u001b[0m\u001b[0;34m(\u001b[0m\u001b[0;34m)\u001b[0m\u001b[0;34m,\u001b[0m\u001b[0;34m\u001b[0m\u001b[0;34m\u001b[0m\u001b[0m\n\u001b[0;32m----> 5\u001b[0;31m     \u001b[0mexample_query_images\u001b[0m\u001b[0;34m.\u001b[0m\u001b[0mcuda\u001b[0m\u001b[0;34m(\u001b[0m\u001b[0;34m)\u001b[0m\u001b[0;34m,\u001b[0m\u001b[0;34m\u001b[0m\u001b[0;34m\u001b[0m\u001b[0m\n\u001b[0m\u001b[1;32m      6\u001b[0m ).detach()\n\u001b[1;32m      7\u001b[0m \u001b[0;34m\u001b[0m\u001b[0m\n",
            "\u001b[0;32m/usr/local/lib/python3.7/dist-packages/torch/nn/modules/module.py\u001b[0m in \u001b[0;36m_call_impl\u001b[0;34m(self, *input, **kwargs)\u001b[0m\n\u001b[1;32m   1049\u001b[0m         if not (self._backward_hooks or self._forward_hooks or self._forward_pre_hooks or _global_backward_hooks\n\u001b[1;32m   1050\u001b[0m                 or _global_forward_hooks or _global_forward_pre_hooks):\n\u001b[0;32m-> 1051\u001b[0;31m             \u001b[0;32mreturn\u001b[0m \u001b[0mforward_call\u001b[0m\u001b[0;34m(\u001b[0m\u001b[0;34m*\u001b[0m\u001b[0minput\u001b[0m\u001b[0;34m,\u001b[0m \u001b[0;34m**\u001b[0m\u001b[0mkwargs\u001b[0m\u001b[0;34m)\u001b[0m\u001b[0;34m\u001b[0m\u001b[0;34m\u001b[0m\u001b[0m\n\u001b[0m\u001b[1;32m   1052\u001b[0m         \u001b[0;31m# Do not call functions when jit is used\u001b[0m\u001b[0;34m\u001b[0m\u001b[0;34m\u001b[0m\u001b[0;34m\u001b[0m\u001b[0m\n\u001b[1;32m   1053\u001b[0m         \u001b[0mfull_backward_hooks\u001b[0m\u001b[0;34m,\u001b[0m \u001b[0mnon_full_backward_hooks\u001b[0m \u001b[0;34m=\u001b[0m \u001b[0;34m[\u001b[0m\u001b[0;34m]\u001b[0m\u001b[0;34m,\u001b[0m \u001b[0;34m[\u001b[0m\u001b[0;34m]\u001b[0m\u001b[0;34m\u001b[0m\u001b[0;34m\u001b[0m\u001b[0m\n",
            "\u001b[0;31mTypeError\u001b[0m: forward() takes 2 positional arguments but 4 were given"
          ]
        }
      ]
    },
    {
      "cell_type": "code",
      "metadata": {
        "id": "SnBpzd0czz8_"
      },
      "source": [
        "meta_model = Classifier(1, n_way).cuda()\n",
        "optimizer = torch.optim.Adam(meta_model.parameters(), lr = meta_lr)\n",
        "loss_fn = nn.CrossEntropyLoss().cuda()"
      ],
      "execution_count": 9,
      "outputs": []
    },
    {
      "cell_type": "code",
      "metadata": {
        "id": "N8zJD-W_JrVV"
      },
      "source": [
        "# class_choosen = [0,1,2,3,4]\n",
        "# boolean_array_train = [label in class_choosen for img, label in training_data]\n",
        "# boolean_array_test = [label in class_choosen for img, label in test_data]\n",
        "\n",
        "# training_data.data = [img for img, label in training_data]\n",
        "# training_data.targets = [label for img, label in training_data]\n",
        "\n",
        "# training_data.data = list(compress(training_data.data,boolean_array_train))\n",
        "# training_data.targets = list(compress(training_data.targets,boolean_array_train))\n",
        "\n",
        "# test_data.data = [img for img, label in test_data]\n",
        "# test_data.targets = [label for img, label in test_data]\n",
        "\n",
        "# test_data.data = list(compress(test_data.data,boolean_array_test))\n",
        "# test_data.targets = list(compress(test_data.targets,boolean_array_test))\n",
        "\n",
        "# Task_1 = {}\n",
        "# Task_1['query'] = randomSelectSamples(test_data, 5)\n",
        "# Task_1['support'] = randomSelectSamplesByClasses(training_data, class_choosen,5)\n",
        "\n",
        "# device = 'cuda' if torch.cuda.is_available() else 'cpu'\n",
        "# device"
      ],
      "execution_count": null,
      "outputs": []
    },
    {
      "cell_type": "markdown",
      "metadata": {
        "id": "HC0HJ5nMmu-9"
      },
      "source": [
        "Terminology:\n",
        "\n",
        "* k-way: We are given k classes (e.g. 5-way means 5 classes)\n",
        "* k-shot: the number of k samples per class (e.g. 1-shot means 1 sample per class)\n",
        "* support-set: the j*k samples we can use for learning\n",
        "* query-set (aka target-set): additional samples (number can vary)\n",
        "* task: support + query sets (used in different ways by different methods)\n",
        "* training: random tasks (both support and query have associated labels)\n",
        "* test: new unseen task (given the support labels predict the query labels); query set no longer has labels."
      ]
    },
    {
      "cell_type": "markdown",
      "metadata": {
        "id": "V6sQGC5boIWc"
      },
      "source": [
        "Omniglot: 1623 handwritten characters from 50 different alphabets, from 20 different people. Each image is 105 x 105 x 1. The training set contains 964 handwritten characters from 20 people, so the actual size of the training set is 964*20.\n",
        "\n",
        "Support set could be randomly picking one character from each alphabet, or consider the same characters from the same alphabet. "
      ]
    },
    {
      "cell_type": "code",
      "metadata": {
        "id": "v4T3nKnlwibg"
      },
      "source": [
        "def ConvBlock(in_ch, out_ch):\n",
        "  return nn.Sequential(nn.Conv2d(in_ch, out_ch, 3, padding = 1),\n",
        "                       nn.BatchNorm2d(out_ch),\n",
        "                       nn.ReLU(),\n",
        "                       nn.MaxPool2d(kernel_size = 2, stride = 2))  \n",
        "  \n",
        "def ConvBlockFunction(x, w, b, w_bn, b_bn):\n",
        "  x = F.conv2d(x, w, b, padding = 1)\n",
        "  x = F.batch_norm(x, running_mean = None, running_var = None, weight = w_bn, bias = b_bn, training = True)\n",
        "  x = F.relu(x)\n",
        "  x = F.max_pool2d(x, kernel_size = 2, stride = 2)\n",
        "  return x\n",
        "\n",
        "class Classifier(nn.Module):\n",
        "  def __init__(self, in_ch, k_way):\n",
        "    super(Classifier, self).__init__()\n",
        "    self.conv1 = ConvBlock(in_ch, 64)\n",
        "    self.conv2 = ConvBlock(64, 64)\n",
        "    self.conv3 = ConvBlock(64, 64)\n",
        "    self.conv4 = ConvBlock(64, 64)\n",
        "    self.logits = nn.Linear(64, k_way)\n",
        "    \n",
        "  def forward(self, x):\n",
        "    x = self.conv1(x)\n",
        "    x = self.conv2(x)\n",
        "    x = self.conv3(x)\n",
        "    x = self.conv4(x)\n",
        "    x = x.view(x.shape[0], -1)\n",
        "    x = self.logits(x)\n",
        "    return x\n",
        "\n",
        "  def functional_forward(self, x, params):\n",
        "    for block in [1, 2, 3, 4]:\n",
        "      x = ConvBlockFunction(x, params[f'conv{block}.0.weight'], params[f'conv{block}.0.bias'],\n",
        "                            params.get(f'conv{block}.1.weight'), params.get(f'conv{block}.1.bias'))\n",
        "    x = x.view(x.shape[0], -1)\n",
        "    x = F.linear(x, params['logits.weight'] , params['logits.bias'])\n",
        "    return x"
      ],
      "execution_count": 10,
      "outputs": []
    },
    {
      "cell_type": "code",
      "metadata": {
        "colab": {
          "base_uri": "https://localhost:8080/"
        },
        "id": "N1Rf_EhDwuMc",
        "outputId": "d6903c72-6c0b-4f0a-c414-fab3919546cb"
      },
      "source": [
        "def create_label(n_way, k_shot):\n",
        "  return torch.arange(n_way).repeat_interleave(k_shot).long()\n",
        "  \n",
        "# 5 way 5 shot\n",
        "create_label(n_way, k_shot)"
      ],
      "execution_count": 11,
      "outputs": [
        {
          "output_type": "execute_result",
          "data": {
            "text/plain": [
              "tensor([0, 1, 2, 3, 4])"
            ]
          },
          "metadata": {},
          "execution_count": 11
        }
      ]
    },
    {
      "cell_type": "code",
      "metadata": {
        "id": "dt-fOWwgw1mA"
      },
      "source": [
        "def MAML(model, optimizer, x, n_way, k_shot, q_query, loss_fn, inner_train_step = 1, inner_lr = 0.4, train = True):\n",
        "  \"\"\"\n",
        "  Args:\n",
        "  x is the input omniglot images for a meta_step, shape = [batch_size, n_way * (k_shot + q_query), 1, 28, 28]\n",
        "  n_way: Per category task How many class\n",
        "  k_shot: Each category is in training How many photos will there be\n",
        "  q_query: exist testing When, how many photos will be used in each category update\n",
        "  \"\"\"\n",
        "  print(x.shape)\n",
        "  criterion = loss_fn\n",
        "  task_loss = []  \n",
        "  task_acc = []  \n",
        "  for meta_batch in x:\n",
        "    train_set = meta_batch[:n_way*k_shot] # train_set We brought it update inner loop 参数的 data\n",
        "    val_set = meta_batch[n_way*k_shot:]   # val_set 是我们拿来 update outer loop 参数的 data\n",
        "    \n",
        "    fast_weights = OrderedDict(model.named_parameters()) # 在 inner loop update 参数时，我们不能动到实际参数，因此用 fast_weights 来储存新的参数 θ'\n",
        "    \n",
        "    for inner_step in range(inner_train_step): # 这个 for loop 是 Algorithm2 的 line 7~8\n",
        "                                                # 实际上我们 inner loop 只有 update 一次 gradients，不过某些 task 可能会需要多次 update inner loop 的 θ'，\n",
        "                                                # 所以我们还是用 for loop 来写\n",
        "      train_label = create_label(n_way, k_shot).cuda()\n",
        "      logits = model.functional_forward(train_set, fast_weights)\n",
        "      loss = criterion(logits, train_label)\n",
        "      grads = torch.autograd.grad(loss, fast_weights.values(), create_graph = True) # 这裡是要计算出 loss 对 θ 的微分 (∇loss)    \n",
        "      fast_weights = OrderedDict((name, param - inner_lr * grad)\n",
        "                                  for ((name, param), grad) in zip(fast_weights.items(), grads)) # 这裡是用刚刚算出的 ∇loss 来 update θ 变成 θ'\n",
        "  \n",
        "    val_label = create_label(n_way, q_query).cuda()\n",
        "    logits = model.functional_forward(val_set, fast_weights) # 这裡用 val_set 和 θ' 算 logit\n",
        "    loss = criterion(logits, val_label)                      # 这裡用 val_set 和 θ' 算 loss\n",
        "    task_loss.append(loss)                                   # 把这个 task 的 loss 丢进 task_loss 裡面\n",
        "    acc = np.asarray([torch.argmax(logits, -1).cpu().numpy() == val_label.cpu().numpy()]).mean() # 算 accuracy\n",
        "    task_acc.append(acc)\n",
        "    \n",
        "  model.train()\n",
        "  optimizer.zero_grad()\n",
        "  meta_batch_loss = torch.stack(task_loss).mean() # 我们要用一整个 batch 的 loss 来 update θ (不是 θ')\n",
        "  if train:\n",
        "    meta_batch_loss.backward()\n",
        "    optimizer.step()\n",
        "  task_acc = np.mean(task_acc)\n",
        "  return meta_batch_loss, task_acc"
      ],
      "execution_count": 12,
      "outputs": []
    },
    {
      "cell_type": "code",
      "metadata": {
        "id": "6W5YMQl3w9Sc"
      },
      "source": [
        "class Omniglot(Dataset):\n",
        "  def __init__(self, data_dir, k_way, q_query):\n",
        "    self.file_list = [f for f in glob.glob(data_dir + \"**/character*\", recursive=True)]\n",
        "    self.transform = transforms.Compose([transforms.ToTensor()])\n",
        "    self.n = k_way + q_query\n",
        "  def __getitem__(self, idx):\n",
        "    sample = np.arange(20)\n",
        "    np.random.shuffle(sample) # 这裡是为了等一下要 random sample 出我们要的 character\n",
        "    img_path = self.file_list[idx]\n",
        "    img_list = [f for f in glob.glob(img_path + \"**/*.png\", recursive=True)]\n",
        "    img_list.sort()\n",
        "    imgs = [self.transform(Image.open(img_file)) for img_file in img_list]\n",
        "    imgs = torch.stack(imgs)[sample[:self.n]] # 每个 character，取出 k_way + q_query 个\n",
        "    return imgs\n",
        "  def __len__(self):\n",
        "    return len(self.file_list)  "
      ],
      "execution_count": 58,
      "outputs": []
    },
    {
      "cell_type": "code",
      "metadata": {
        "colab": {
          "base_uri": "https://localhost:8080/"
        },
        "id": "sa2K40SQ54Wr",
        "outputId": "f1141336-be2e-470c-cb06-8932bdfc12c5"
      },
      "source": [
        "val_size = int(len(training_set)*.2)\n",
        "train_size = int(len(training_set) - val_size)\n",
        "train_size"
      ],
      "execution_count": 14,
      "outputs": [
        {
          "output_type": "execute_result",
          "data": {
            "text/plain": [
              "15424"
            ]
          },
          "metadata": {},
          "execution_count": 14
        }
      ]
    },
    {
      "cell_type": "code",
      "metadata": {
        "id": "aeffsNcE71M3"
      },
      "source": [
        "train_set, val_set = torch.utils.data.random_split(training_set, [train_size,val_size])"
      ],
      "execution_count": 22,
      "outputs": []
    },
    {
      "cell_type": "code",
      "metadata": {
        "colab": {
          "base_uri": "https://localhost:8080/"
        },
        "id": "Xek0ixZ9xBab",
        "outputId": "f34fd854-abcf-4db2-d99c-c04f1e6a58c5"
      },
      "source": [
        "train_loader = DataLoader(train_set,\n",
        "                          batch_size = n_way, \n",
        "                          num_workers = 8,\n",
        "                          shuffle = True,\n",
        "                          drop_last = True)\n",
        "val_loader = DataLoader(val_set,\n",
        "                          batch_size = n_way,\n",
        "                          num_workers = 8,\n",
        "                          shuffle = True,\n",
        "                          drop_last = True)\n",
        "test_loader = DataLoader(test_set,\n",
        "                          batch_size = n_way,\n",
        "                          num_workers = 8,\n",
        "                          shuffle = True,\n",
        "                          drop_last = True)\n",
        "train_iter = iter(train_loader)\n",
        "val_iter = iter(val_loader)\n",
        "test_iter = iter(test_loader)"
      ],
      "execution_count": 23,
      "outputs": [
        {
          "output_type": "stream",
          "name": "stderr",
          "text": [
            "/usr/local/lib/python3.7/dist-packages/torch/utils/data/dataloader.py:481: UserWarning: This DataLoader will create 8 worker processes in total. Our suggested max number of worker in current system is 2, which is smaller than what this DataLoader is going to create. Please be aware that excessive worker creation might get DataLoader running slow or even freeze, lower the worker number to avoid potential slowness/freeze if necessary.\n",
            "  cpuset_checked))\n"
          ]
        }
      ]
    },
    {
      "cell_type": "code",
      "metadata": {
        "id": "yO2BuMr_8YEu"
      },
      "source": [
        "def get_meta_batch(meta_batch_size, k_shot, q_query, data_loader, iterator):\n",
        "  data = []\n",
        "  for _ in range(meta_batch_size):\n",
        "    try:\n",
        "      task_data = iterator.next()  # 一笔 task_data: task, data [n_way, k_shot+q_query, 1, 28, 28]\n",
        "    except StopIteration:\n",
        "      print(\"Oh\")\n",
        "      iterator = iter(data_loader)\n",
        "      task_data = iterator.next()\n",
        "    train_data = task_data[0][:k_shot].reshape(-1, 1, 105, 105)\n",
        "    # train_data = task_data[:, :k_shot].reshape(-1, 1, 28, 28)\n",
        "    val_data = task_data[0][k_shot:].reshape(-1, 1, 105, 105)\n",
        "    # val_data = task_data[:, k_shot:].reshape(-1, 1, 28, 28)\n",
        "    task_data = torch.cat((train_data, val_data), 0)\n",
        "    data.append(task_data)\n",
        "  return torch.stack(data).cuda(), iterator"
      ],
      "execution_count": 24,
      "outputs": []
    },
    {
      "cell_type": "code",
      "metadata": {
        "colab": {
          "base_uri": "https://localhost:8080/",
          "height": 425
        },
        "id": "DvnjFgfw8m-y",
        "outputId": "063c874b-acf1-43cf-8bff-ba3d860446bb"
      },
      "source": [
        "for epoch in range(max_epoch):\n",
        "  print(\"Epoch %d\" %(epoch))\n",
        "  train_meta_loss = []\n",
        "  train_acc = []\n",
        "  for step in tqdm(range(len(train_loader) // (meta_batch_size))): # 这裡的 step 是一次 meta-gradinet update step\n",
        "    x, train_iter = get_meta_batch(meta_batch_size, k_shot, q_query, train_loader, train_iter)\n",
        "    meta_loss, acc = MAML(meta_model, optimizer, x, n_way, k_shot, q_query, loss_fn)\n",
        "    train_meta_loss.append(meta_loss.item())\n",
        "    train_acc.append(acc)\n",
        "  print(\"  Loss    : \", np.mean(train_meta_loss))\n",
        "  print(\"  Accuracy: \", np.mean(train_acc))\n",
        "\n",
        "  # 每个 epoch 结束后，看看 validation accuracy 如何  \n",
        "  # 助教并没有做 early stopping，同学如果觉得有需要是可以做的 \n",
        "  val_acc = []\n",
        "  for eval_step in tqdm(range(len(val_loader) // (eval_batches))):\n",
        "    x, val_iter = get_meta_batch(eval_batches, k_shot, q_query, val_loader, val_iter)\n",
        "    _, acc = MAML(meta_model, optimizer, x, n_way, k_shot, q_query, loss_fn, inner_train_step = 3, train = False) # testing时，我们更新三次 inner-step\n",
        "    val_acc.append(acc)\n",
        "  print(\"  Validation accuracy: \", np.mean(val_acc))"
      ],
      "execution_count": 25,
      "outputs": [
        {
          "output_type": "stream",
          "name": "stdout",
          "text": [
            "Epoch 0\n"
          ]
        },
        {
          "output_type": "stream",
          "name": "stderr",
          "text": [
            "  0%|          | 0/96 [00:00<?, ?it/s]"
          ]
        },
        {
          "output_type": "stream",
          "name": "stdout",
          "text": [
            "torch.Size([32, 5, 1, 105, 105])\n"
          ]
        },
        {
          "output_type": "stream",
          "name": "stderr",
          "text": [
            "\n"
          ]
        },
        {
          "output_type": "error",
          "ename": "RuntimeError",
          "evalue": "ignored",
          "traceback": [
            "\u001b[0;31m---------------------------------------------------------------------------\u001b[0m",
            "\u001b[0;31mRuntimeError\u001b[0m                              Traceback (most recent call last)",
            "\u001b[0;32m<ipython-input-25-2805ec786ff2>\u001b[0m in \u001b[0;36m<module>\u001b[0;34m()\u001b[0m\n\u001b[1;32m      5\u001b[0m   \u001b[0;32mfor\u001b[0m \u001b[0mstep\u001b[0m \u001b[0;32min\u001b[0m \u001b[0mtqdm\u001b[0m\u001b[0;34m(\u001b[0m\u001b[0mrange\u001b[0m\u001b[0;34m(\u001b[0m\u001b[0mlen\u001b[0m\u001b[0;34m(\u001b[0m\u001b[0mtrain_loader\u001b[0m\u001b[0;34m)\u001b[0m \u001b[0;34m//\u001b[0m \u001b[0;34m(\u001b[0m\u001b[0mmeta_batch_size\u001b[0m\u001b[0;34m)\u001b[0m\u001b[0;34m)\u001b[0m\u001b[0;34m)\u001b[0m\u001b[0;34m:\u001b[0m \u001b[0;31m# 这裡的 step 是一次 meta-gradinet update step\u001b[0m\u001b[0;34m\u001b[0m\u001b[0;34m\u001b[0m\u001b[0m\n\u001b[1;32m      6\u001b[0m     \u001b[0mx\u001b[0m\u001b[0;34m,\u001b[0m \u001b[0mtrain_iter\u001b[0m \u001b[0;34m=\u001b[0m \u001b[0mget_meta_batch\u001b[0m\u001b[0;34m(\u001b[0m\u001b[0mmeta_batch_size\u001b[0m\u001b[0;34m,\u001b[0m \u001b[0mk_shot\u001b[0m\u001b[0;34m,\u001b[0m \u001b[0mq_query\u001b[0m\u001b[0;34m,\u001b[0m \u001b[0mtrain_loader\u001b[0m\u001b[0;34m,\u001b[0m \u001b[0mtrain_iter\u001b[0m\u001b[0;34m)\u001b[0m\u001b[0;34m\u001b[0m\u001b[0;34m\u001b[0m\u001b[0m\n\u001b[0;32m----> 7\u001b[0;31m     \u001b[0mmeta_loss\u001b[0m\u001b[0;34m,\u001b[0m \u001b[0macc\u001b[0m \u001b[0;34m=\u001b[0m \u001b[0mMAML\u001b[0m\u001b[0;34m(\u001b[0m\u001b[0mmeta_model\u001b[0m\u001b[0;34m,\u001b[0m \u001b[0moptimizer\u001b[0m\u001b[0;34m,\u001b[0m \u001b[0mx\u001b[0m\u001b[0;34m,\u001b[0m \u001b[0mn_way\u001b[0m\u001b[0;34m,\u001b[0m \u001b[0mk_shot\u001b[0m\u001b[0;34m,\u001b[0m \u001b[0mq_query\u001b[0m\u001b[0;34m,\u001b[0m \u001b[0mloss_fn\u001b[0m\u001b[0;34m)\u001b[0m\u001b[0;34m\u001b[0m\u001b[0;34m\u001b[0m\u001b[0m\n\u001b[0m\u001b[1;32m      8\u001b[0m     \u001b[0mtrain_meta_loss\u001b[0m\u001b[0;34m.\u001b[0m\u001b[0mappend\u001b[0m\u001b[0;34m(\u001b[0m\u001b[0mmeta_loss\u001b[0m\u001b[0;34m.\u001b[0m\u001b[0mitem\u001b[0m\u001b[0;34m(\u001b[0m\u001b[0;34m)\u001b[0m\u001b[0;34m)\u001b[0m\u001b[0;34m\u001b[0m\u001b[0;34m\u001b[0m\u001b[0m\n\u001b[1;32m      9\u001b[0m     \u001b[0mtrain_acc\u001b[0m\u001b[0;34m.\u001b[0m\u001b[0mappend\u001b[0m\u001b[0;34m(\u001b[0m\u001b[0macc\u001b[0m\u001b[0;34m)\u001b[0m\u001b[0;34m\u001b[0m\u001b[0;34m\u001b[0m\u001b[0m\n",
            "\u001b[0;32m<ipython-input-12-89b5a7091f98>\u001b[0m in \u001b[0;36mMAML\u001b[0;34m(model, optimizer, x, n_way, k_shot, q_query, loss_fn, inner_train_step, inner_lr, train)\u001b[0m\n\u001b[1;32m     23\u001b[0m       \u001b[0mlogits\u001b[0m \u001b[0;34m=\u001b[0m \u001b[0mmodel\u001b[0m\u001b[0;34m.\u001b[0m\u001b[0mfunctional_forward\u001b[0m\u001b[0;34m(\u001b[0m\u001b[0mtrain_set\u001b[0m\u001b[0;34m,\u001b[0m \u001b[0mfast_weights\u001b[0m\u001b[0;34m)\u001b[0m\u001b[0;34m\u001b[0m\u001b[0;34m\u001b[0m\u001b[0m\n\u001b[1;32m     24\u001b[0m       \u001b[0mloss\u001b[0m \u001b[0;34m=\u001b[0m \u001b[0mcriterion\u001b[0m\u001b[0;34m(\u001b[0m\u001b[0mlogits\u001b[0m\u001b[0;34m,\u001b[0m \u001b[0mtrain_label\u001b[0m\u001b[0;34m)\u001b[0m\u001b[0;34m\u001b[0m\u001b[0;34m\u001b[0m\u001b[0m\n\u001b[0;32m---> 25\u001b[0;31m       \u001b[0mgrads\u001b[0m \u001b[0;34m=\u001b[0m \u001b[0mtorch\u001b[0m\u001b[0;34m.\u001b[0m\u001b[0mautograd\u001b[0m\u001b[0;34m.\u001b[0m\u001b[0mgrad\u001b[0m\u001b[0;34m(\u001b[0m\u001b[0mloss\u001b[0m\u001b[0;34m,\u001b[0m \u001b[0mfast_weights\u001b[0m\u001b[0;34m.\u001b[0m\u001b[0mvalues\u001b[0m\u001b[0;34m(\u001b[0m\u001b[0;34m)\u001b[0m\u001b[0;34m,\u001b[0m \u001b[0mcreate_graph\u001b[0m \u001b[0;34m=\u001b[0m \u001b[0;32mTrue\u001b[0m\u001b[0;34m)\u001b[0m \u001b[0;31m# 这裡是要计算出 loss 对 θ 的微分 (∇loss)\u001b[0m\u001b[0;34m\u001b[0m\u001b[0;34m\u001b[0m\u001b[0m\n\u001b[0m\u001b[1;32m     26\u001b[0m       fast_weights = OrderedDict((name, param - inner_lr * grad)\n\u001b[1;32m     27\u001b[0m                                   for ((name, param), grad) in zip(fast_weights.items(), grads)) # 这裡是用刚刚算出的 ∇loss 来 update θ 变成 θ'\n",
            "\u001b[0;32m/usr/local/lib/python3.7/dist-packages/torch/autograd/__init__.py\u001b[0m in \u001b[0;36mgrad\u001b[0;34m(outputs, inputs, grad_outputs, retain_graph, create_graph, only_inputs, allow_unused)\u001b[0m\n\u001b[1;32m    226\u001b[0m     return Variable._execution_engine.run_backward(\n\u001b[1;32m    227\u001b[0m         \u001b[0moutputs\u001b[0m\u001b[0;34m,\u001b[0m \u001b[0mgrad_outputs_\u001b[0m\u001b[0;34m,\u001b[0m \u001b[0mretain_graph\u001b[0m\u001b[0;34m,\u001b[0m \u001b[0mcreate_graph\u001b[0m\u001b[0;34m,\u001b[0m\u001b[0;34m\u001b[0m\u001b[0;34m\u001b[0m\u001b[0m\n\u001b[0;32m--> 228\u001b[0;31m         inputs, allow_unused, accumulate_grad=False)\n\u001b[0m\u001b[1;32m    229\u001b[0m \u001b[0;34m\u001b[0m\u001b[0m\n\u001b[1;32m    230\u001b[0m \u001b[0;34m\u001b[0m\u001b[0m\n",
            "\u001b[0;31mRuntimeError\u001b[0m: Function AddmmBackward returned an invalid gradient at index 1 - got [5, 64] but expected shape compatible with [5, 2304]"
          ]
        }
      ]
    },
    {
      "cell_type": "code",
      "metadata": {
        "id": "ASG54sLmJwVn"
      },
      "source": [
        "import  torch\n",
        "from    torch import nn\n",
        "from    torch.nn import functional as F\n",
        "import  numpy as np\n",
        "\n",
        "\n",
        "\n",
        "# \"\"\"Taken From:\n",
        "\n",
        "# @misc{MAML_Pytorch,\n",
        "#   author = {Liangqu Long},\n",
        "#   title = {MAML-Pytorch Implementation},\n",
        "#   year = {2018},\n",
        "#   publisher = {GitHub},\n",
        "#   journal = {GitHub repository},\n",
        "#   howpublished = {\\url{https://github.com/dragen1860/MAML-Pytorch}},\n",
        "#   commit = {master}\n",
        "# }\n",
        "\n",
        "# \"\"\"\n",
        "class Learner(nn.Module):\n",
        "    def __init__(self, config, imgc, imgsz):\n",
        "        \"\"\"\n",
        "        :param config: network config file, type:list of (string, list)\n",
        "        :param imgc: 1 or 3\n",
        "        :param imgsz:  28 or 84\n",
        "        \"\"\"\n",
        "        super(Learner, self).__init__()\n",
        "\n",
        "\n",
        "        self.config = config\n",
        "\n",
        "        # this dict contains all tensors needed to be optimized\n",
        "        self.vars = nn.ParameterList()\n",
        "        # running_mean and running_var\n",
        "        self.vars_bn = nn.ParameterList()\n",
        "\n",
        "        for i, (name, param) in enumerate(self.config):\n",
        "            if name is 'conv2d':\n",
        "                # [ch_out, ch_in, kernelsz, kernelsz]\n",
        "                w = nn.Parameter(torch.ones(*param[:4]))\n",
        "                # gain=1 according to cbfin's implementation\n",
        "                torch.nn.init.kaiming_normal_(w)\n",
        "                self.vars.append(w)\n",
        "                # [ch_out]\n",
        "                self.vars.append(nn.Parameter(torch.zeros(param[0])))\n",
        "\n",
        "            elif name is 'convt2d':\n",
        "                # [ch_in, ch_out, kernelsz, kernelsz, stride, padding]\n",
        "                w = nn.Parameter(torch.ones(*param[:4]))\n",
        "                # gain=1 according to cbfin's implementation\n",
        "                torch.nn.init.kaiming_normal_(w)\n",
        "                self.vars.append(w)\n",
        "                # [ch_in, ch_out]\n",
        "                self.vars.append(nn.Parameter(torch.zeros(param[1])))\n",
        "\n",
        "            elif name is 'linear':\n",
        "                # [ch_out, ch_in]\n",
        "                w = nn.Parameter(torch.ones(*param))\n",
        "                # gain=1 according to cbfinn's implementation\n",
        "                torch.nn.init.kaiming_normal_(w)\n",
        "                self.vars.append(w)\n",
        "                # [ch_out]\n",
        "                self.vars.append(nn.Parameter(torch.zeros(param[0])))\n",
        "\n",
        "            elif name is 'bn':\n",
        "                # [ch_out]\n",
        "                w = nn.Parameter(torch.ones(param[0]))\n",
        "                self.vars.append(w)\n",
        "                # [ch_out]\n",
        "                self.vars.append(nn.Parameter(torch.zeros(param[0])))\n",
        "\n",
        "                # must set requires_grad=False\n",
        "                running_mean = nn.Parameter(torch.zeros(param[0]), requires_grad=False)\n",
        "                running_var = nn.Parameter(torch.ones(param[0]), requires_grad=False)\n",
        "                self.vars_bn.extend([running_mean, running_var])\n",
        "\n",
        "\n",
        "            elif name in ['tanh', 'relu', 'upsample', 'avg_pool2d', 'max_pool2d',\n",
        "                          'flatten', 'reshape', 'leakyrelu', 'sigmoid']:\n",
        "                continue\n",
        "            else:\n",
        "                raise NotImplementedError\n",
        "\n",
        "\n",
        "\n",
        "\n",
        "\n",
        "\n",
        "    def extra_repr(self):\n",
        "        info = ''\n",
        "\n",
        "        for name, param in self.config:\n",
        "            if name is 'conv2d':\n",
        "                tmp = 'conv2d:(ch_in:%d, ch_out:%d, k:%dx%d, stride:%d, padding:%d)'\\\n",
        "                      %(param[1], param[0], param[2], param[3], param[4], param[5],)\n",
        "                info += tmp + '\\n'\n",
        "\n",
        "            elif name is 'convt2d':\n",
        "                tmp = 'convTranspose2d:(ch_in:%d, ch_out:%d, k:%dx%d, stride:%d, padding:%d)'\\\n",
        "                      %(param[0], param[1], param[2], param[3], param[4], param[5],)\n",
        "                info += tmp + '\\n'\n",
        "\n",
        "            elif name is 'linear':\n",
        "                tmp = 'linear:(in:%d, out:%d)'%(param[1], param[0])\n",
        "                info += tmp + '\\n'\n",
        "\n",
        "            elif name is 'leakyrelu':\n",
        "                tmp = 'leakyrelu:(slope:%f)'%(param[0])\n",
        "                info += tmp + '\\n'\n",
        "\n",
        "\n",
        "            elif name is 'avg_pool2d':\n",
        "                tmp = 'avg_pool2d:(k:%d, stride:%d, padding:%d)'%(param[0], param[1], param[2])\n",
        "                info += tmp + '\\n'\n",
        "            elif name is 'max_pool2d':\n",
        "                tmp = 'max_pool2d:(k:%d, stride:%d, padding:%d)'%(param[0], param[1], param[2])\n",
        "                info += tmp + '\\n'\n",
        "            elif name in ['flatten', 'tanh', 'relu', 'upsample', 'reshape', 'sigmoid', 'use_logits', 'bn']:\n",
        "                tmp = name + ':' + str(tuple(param))\n",
        "                info += tmp + '\\n'\n",
        "            else:\n",
        "                raise NotImplementedError\n",
        "\n",
        "        return info\n",
        "\n",
        "\n",
        "\n",
        "    def forward(self, x, vars=None, bn_training=True):\n",
        "        \"\"\"\n",
        "        This function can be called by finetunning, however, in finetunning, we dont wish to update\n",
        "        running_mean/running_var. Thought weights/bias of bn is updated, it has been separated by fast_weights.\n",
        "        Indeed, to not update running_mean/running_var, we need set update_bn_statistics=False\n",
        "        but weight/bias will be updated and not dirty initial theta parameters via fast_weiths.\n",
        "        :param x: [b, 1, 28, 28]\n",
        "        :param vars:\n",
        "        :param bn_training: set False to not update\n",
        "        :return: x, loss, likelihood, kld\n",
        "        \"\"\"\n",
        "\n",
        "        if vars is None:\n",
        "            vars = self.vars\n",
        "\n",
        "        idx = 0\n",
        "        bn_idx = 0\n",
        "\n",
        "        for name, param in self.config:\n",
        "            if name is 'conv2d':\n",
        "                w, b = vars[idx], vars[idx + 1]\n",
        "                # remember to keep synchrozied of forward_encoder and forward_decoder!\n",
        "                x = F.conv2d(x, w, b, stride=param[4], padding=param[5])\n",
        "                idx += 2\n",
        "                # print(name, param, '\\tout:', x.shape)\n",
        "            elif name is 'convt2d':\n",
        "                w, b = vars[idx], vars[idx + 1]\n",
        "                # remember to keep synchrozied of forward_encoder and forward_decoder!\n",
        "                x = F.conv_transpose2d(x, w, b, stride=param[4], padding=param[5])\n",
        "                idx += 2\n",
        "                # print(name, param, '\\tout:', x.shape)\n",
        "            elif name is 'linear':\n",
        "                w, b = vars[idx], vars[idx + 1]\n",
        "                x = F.linear(x, w, b)\n",
        "                idx += 2\n",
        "                # print('forward:', idx, x.norm().item())\n",
        "            elif name is 'bn':\n",
        "                w, b = vars[idx], vars[idx + 1]\n",
        "                running_mean, running_var = self.vars_bn[bn_idx], self.vars_bn[bn_idx+1]\n",
        "                x = F.batch_norm(x, running_mean, running_var, weight=w, bias=b, training=bn_training)\n",
        "                idx += 2\n",
        "                bn_idx += 2\n",
        "\n",
        "            elif name is 'flatten':\n",
        "                # print(x.shape)\n",
        "                x = x.view(x.size(0), -1)\n",
        "            elif name is 'reshape':\n",
        "                # [b, 8] => [b, 2, 2, 2]\n",
        "                x = x.view(x.size(0), *param)\n",
        "            elif name is 'relu':\n",
        "                x = F.relu(x, inplace=param[0])\n",
        "            elif name is 'leakyrelu':\n",
        "                x = F.leaky_relu(x, negative_slope=param[0], inplace=param[1])\n",
        "            elif name is 'tanh':\n",
        "                x = F.tanh(x)\n",
        "            elif name is 'sigmoid':\n",
        "                x = torch.sigmoid(x)\n",
        "            elif name is 'upsample':\n",
        "                x = F.upsample_nearest(x, scale_factor=param[0])\n",
        "            elif name is 'max_pool2d':\n",
        "                x = F.max_pool2d(x, param[0], param[1], param[2])\n",
        "            elif name is 'avg_pool2d':\n",
        "                x = F.avg_pool2d(x, param[0], param[1], param[2])\n",
        "\n",
        "            else:\n",
        "                raise NotImplementedError\n",
        "\n",
        "        # make sure variable is used properly\n",
        "        assert idx == len(vars)\n",
        "        assert bn_idx == len(self.vars_bn)\n",
        "\n",
        "\n",
        "        return x\n",
        "\n",
        "\n",
        "    def zero_grad(self, vars=None):\n",
        "        \"\"\"\n",
        "        :param vars:\n",
        "        :return:\n",
        "        \"\"\"\n",
        "        with torch.no_grad():\n",
        "            if vars is None:\n",
        "                for p in self.vars:\n",
        "                    if p.grad is not None:\n",
        "                        p.grad.zero_()\n",
        "            else:\n",
        "                for p in vars:\n",
        "                    if p.grad is not None:\n",
        "                        p.grad.zero_()\n",
        "\n",
        "    def parameters(self):\n",
        "        \"\"\"\n",
        "        override this function since initial parameters will return with a generator.\n",
        "        :return:\n",
        "        \"\"\"\n",
        "        return self.vars"
      ],
      "execution_count": 23,
      "outputs": []
    },
    {
      "cell_type": "code",
      "metadata": {
        "id": "_sDDcOGSJ6nV"
      },
      "source": [
        "import  torch\n",
        "from    torch import nn\n",
        "from    torch import optim\n",
        "from    torch.nn import functional as F\n",
        "from    torch.utils.data import TensorDataset, DataLoader\n",
        "from    torch import optim\n",
        "import  numpy as np\n",
        "from    copy import deepcopy\n",
        "\n",
        "class Meta(nn.Module):\n",
        "    \"\"\"\n",
        "    Meta Learner\n",
        "    \"\"\"\n",
        "    def __init__(self, config, epoch=40000,n_way=5, k_spt=1, k_qry=15, imgsz=28, imgc=1, task_num=32, meta_lr=1e-3, update_lr = .4, update_step =5, update_step_test = 10):\n",
        "        \"\"\"\n",
        "        :param args:\n",
        "        \"\"\"\n",
        "        super(Meta, self).__init__()\n",
        "\n",
        "        self.update_lr = update_lr\n",
        "        self.meta_lr = meta_lr\n",
        "        self.n_way = n_way\n",
        "        self.k_spt = k_spt\n",
        "        self.k_qry = k_qry\n",
        "        self.task_num = task_num\n",
        "        self.update_step = update_step\n",
        "        self.update_step_test = update_step_test\n",
        "\n",
        "\n",
        "        self.net = Learner(config, imgc, imgsz)\n",
        "        self.meta_optim = optim.Adam(self.net.parameters(), lr=self.meta_lr)\n",
        "\n",
        "\n",
        "\n",
        "\n",
        "    def clip_grad_by_norm_(self, grad, max_norm):\n",
        "        \"\"\"\n",
        "        in-place gradient clipping.\n",
        "        :param grad: list of gradients\n",
        "        :param max_norm: maximum norm allowable\n",
        "        :return:\n",
        "        \"\"\"\n",
        "\n",
        "        total_norm = 0\n",
        "        counter = 0\n",
        "        for g in grad:\n",
        "            param_norm = g.data.norm(2)\n",
        "            total_norm += param_norm.item() ** 2\n",
        "            counter += 1\n",
        "        total_norm = total_norm ** (1. / 2)\n",
        "\n",
        "        clip_coef = max_norm / (total_norm + 1e-6)\n",
        "        if clip_coef < 1:\n",
        "            for g in grad:\n",
        "                g.data.mul_(clip_coef)\n",
        "\n",
        "        return total_norm/counter\n",
        "\n",
        "\n",
        "    def forward(self, x_spt, y_spt, x_qry, y_qry):\n",
        "        \"\"\"\n",
        "        :param x_spt:   [b, setsz, c_, h, w]\n",
        "        :param y_spt:   [b, setsz]\n",
        "        :param x_qry:   [b, querysz, c_, h, w]\n",
        "        :param y_qry:   [b, querysz]\n",
        "        :return:\n",
        "        \"\"\"\n",
        "        task_num, setsz, c_, h, w = x_spt.size()\n",
        "        querysz = x_qry.size(1)\n",
        "\n",
        "        losses_q = [0 for _ in range(self.update_step + 1)]  # losses_q[i] is the loss on step i\n",
        "        corrects = [0 for _ in range(self.update_step + 1)]\n",
        "\n",
        "\n",
        "        for i in range(task_num):\n",
        "\n",
        "            # 1. run the i-th task and compute loss for k=0\n",
        "            logits = self.net(x_spt[i], vars=None, bn_training=True)\n",
        "            loss = F.cross_entropy(logits, y_spt[i])\n",
        "            grad = torch.autograd.grad(loss, self.net.parameters())\n",
        "            fast_weights = list(map(lambda p: p[1] - self.update_lr * p[0], zip(grad, self.net.parameters())))\n",
        "\n",
        "            # this is the loss and accuracy before first update\n",
        "            with torch.no_grad():\n",
        "                # [setsz, nway]\n",
        "                logits_q = self.net(x_qry[i], self.net.parameters(), bn_training=True)\n",
        "                loss_q = F.cross_entropy(logits_q, y_qry[i])\n",
        "                losses_q[0] += loss_q\n",
        "\n",
        "                pred_q = F.softmax(logits_q, dim=1).argmax(dim=1)\n",
        "                correct = torch.eq(pred_q, y_qry[i]).sum().item()\n",
        "                corrects[0] = corrects[0] + correct\n",
        "\n",
        "            # this is the loss and accuracy after the first update\n",
        "            with torch.no_grad():\n",
        "                # [setsz, nway]\n",
        "                logits_q = self.net(x_qry[i], fast_weights, bn_training=True)\n",
        "                loss_q = F.cross_entropy(logits_q, y_qry[i])\n",
        "                losses_q[1] += loss_q\n",
        "                # [setsz]\n",
        "                pred_q = F.softmax(logits_q, dim=1).argmax(dim=1)\n",
        "                correct = torch.eq(pred_q, y_qry[i]).sum().item()\n",
        "                corrects[1] = corrects[1] + correct\n",
        "\n",
        "            for k in range(1, self.update_step):\n",
        "                # 1. run the i-th task and compute loss for k=1~K-1\n",
        "                logits = self.net(x_spt[i], fast_weights, bn_training=True)\n",
        "                loss = F.cross_entropy(logits, y_spt[i])\n",
        "                # 2. compute grad on theta_pi\n",
        "                grad = torch.autograd.grad(loss, fast_weights)\n",
        "                # 3. theta_pi = theta_pi - train_lr * grad\n",
        "                fast_weights = list(map(lambda p: p[1] - self.update_lr * p[0], zip(grad, fast_weights)))\n",
        "\n",
        "                logits_q = self.net(x_qry[i], fast_weights, bn_training=True)\n",
        "                # loss_q will be overwritten and just keep the loss_q on last update step.\n",
        "                loss_q = F.cross_entropy(logits_q, y_qry[i])\n",
        "                losses_q[k + 1] += loss_q\n",
        "\n",
        "                with torch.no_grad():\n",
        "                    pred_q = F.softmax(logits_q, dim=1).argmax(dim=1)\n",
        "                    correct = torch.eq(pred_q, y_qry[i]).sum().item()  # convert to numpy\n",
        "                    corrects[k + 1] = corrects[k + 1] + correct\n",
        "\n",
        "\n",
        "\n",
        "        # end of all tasks\n",
        "        # sum over all losses on query set across all tasks\n",
        "        loss_q = losses_q[-1] / task_num\n",
        "\n",
        "        # optimize theta parameters\n",
        "        self.meta_optim.zero_grad()\n",
        "        loss_q.backward()\n",
        "        # print('meta update')\n",
        "        # for p in self.net.parameters()[:5]:\n",
        "        # \tprint(torch.norm(p).item())\n",
        "        self.meta_optim.step()\n",
        "\n",
        "\n",
        "        accs = np.array(corrects) / (querysz * task_num)\n",
        "\n",
        "        return accs\n",
        "\n",
        "\n",
        "    def finetunning(self, x_spt, y_spt, x_qry, y_qry):\n",
        "        \"\"\"\n",
        "        :param x_spt:   [setsz, c_, h, w]\n",
        "        :param y_spt:   [setsz]\n",
        "        :param x_qry:   [querysz, c_, h, w]\n",
        "        :param y_qry:   [querysz]\n",
        "        :return:\n",
        "        \"\"\"\n",
        "        assert len(x_spt.shape) == 4\n",
        "\n",
        "        querysz = x_qry.size(0)\n",
        "\n",
        "        corrects = [0 for _ in range(self.update_step_test + 1)]\n",
        "\n",
        "        # in order to not ruin the state of running_mean/variance and bn_weight/bias\n",
        "        # we finetunning on the copied model instead of self.net\n",
        "        net = deepcopy(self.net)\n",
        "\n",
        "        # 1. run the i-th task and compute loss for k=0\n",
        "        logits = net(x_spt)\n",
        "        loss = F.cross_entropy(logits, y_spt)\n",
        "        grad = torch.autograd.grad(loss, net.parameters())\n",
        "        fast_weights = list(map(lambda p: p[1] - self.update_lr * p[0], zip(grad, net.parameters())))\n",
        "\n",
        "        # this is the loss and accuracy before first update\n",
        "        with torch.no_grad():\n",
        "            # [setsz, nway]\n",
        "            logits_q = net(x_qry, net.parameters(), bn_training=True)\n",
        "            # [setsz]\n",
        "            pred_q = F.softmax(logits_q, dim=1).argmax(dim=1)\n",
        "            # scalar\n",
        "            correct = torch.eq(pred_q, y_qry).sum().item()\n",
        "            corrects[0] = corrects[0] + correct\n",
        "\n",
        "        # this is the loss and accuracy after the first update\n",
        "        with torch.no_grad():\n",
        "            # [setsz, nway]\n",
        "            logits_q = net(x_qry, fast_weights, bn_training=True)\n",
        "            # [setsz]\n",
        "            pred_q = F.softmax(logits_q, dim=1).argmax(dim=1)\n",
        "            # scalar\n",
        "            correct = torch.eq(pred_q, y_qry).sum().item()\n",
        "            corrects[1] = corrects[1] + correct\n",
        "\n",
        "        for k in range(1, self.update_step_test):\n",
        "            # 1. run the i-th task and compute loss for k=1~K-1\n",
        "            logits = net(x_spt, fast_weights, bn_training=True)\n",
        "            loss = F.cross_entropy(logits, y_spt)\n",
        "            # 2. compute grad on theta_pi\n",
        "            grad = torch.autograd.grad(loss, fast_weights)\n",
        "            # 3. theta_pi = theta_pi - train_lr * grad\n",
        "            fast_weights = list(map(lambda p: p[1] - self.update_lr * p[0], zip(grad, fast_weights)))\n",
        "\n",
        "            logits_q = net(x_qry, fast_weights, bn_training=True)\n",
        "            # loss_q will be overwritten and just keep the loss_q on last update step.\n",
        "            loss_q = F.cross_entropy(logits_q, y_qry)\n",
        "\n",
        "            with torch.no_grad():\n",
        "                pred_q = F.softmax(logits_q, dim=1).argmax(dim=1)\n",
        "                correct = torch.eq(pred_q, y_qry).sum().item()  # convert to numpy\n",
        "                corrects[k + 1] = corrects[k + 1] + correct\n",
        "\n",
        "\n",
        "        del net\n",
        "\n",
        "        accs = np.array(corrects) / querysz\n",
        "\n",
        "        return accs"
      ],
      "execution_count": null,
      "outputs": []
    },
    {
      "cell_type": "code",
      "metadata": {
        "id": "lT2O8t9IKC-N"
      },
      "source": [
        "epoch = 40000\n",
        "n_way = 5\n",
        "k_spt = 1\n",
        "K_qry = 15\n",
        "imgsz = 28\n",
        "imgc = 1\n",
        "task_num = 32\n",
        "meta_lr = 1e-3\n",
        "update_lr = .4\n",
        "update_step = 5\n",
        "update_step_test = 10\n",
        "\n",
        "config = [\n",
        "        ('conv2d', [64, 1, 3, 3, 2, 0]),\n",
        "        ('relu', [True]),\n",
        "        ('bn', [64]),\n",
        "        ('conv2d', [64, 64, 3, 3, 2, 0]),\n",
        "        ('relu', [True]),\n",
        "        ('bn', [64]),\n",
        "        ('conv2d', [64, 64, 3, 3, 2, 0]),\n",
        "        ('relu', [True]),\n",
        "        ('bn', [64]),\n",
        "        ('conv2d', [64, 64, 2, 2, 1, 0]),\n",
        "        ('relu', [True]),\n",
        "        ('bn', [64]),\n",
        "        ('flatten', []),\n",
        "        ('linear', [n_way, 64])\n",
        "    ]"
      ],
      "execution_count": null,
      "outputs": []
    },
    {
      "cell_type": "code",
      "metadata": {
        "id": "wgshj5a1Kgbf"
      },
      "source": [
        "maml = Meta(config).to(device)\n",
        "\n",
        "tmp = filter(lambda x: x.requires_grad, maml.parameters())\n",
        "print(tmp)\n",
        "\n",
        "num = sum(map(lambda x: np.prod(x.shape), tmp))\n",
        "print(num)\n",
        "\n",
        "print(maml)\n",
        "print('Total trainable tensors:', num)\n",
        "\n",
        "dataloader_spt = DataLoader(Task_1['support'], batch_size = 25)\n",
        "dataloader_qry = DataLoader(Task_1['query'], batch_size =5)\n",
        "\n",
        "torch.manual_seed(42)\n",
        "torch.cuda.manual_seed_all(42)\n",
        "np.random.seed(42)"
      ],
      "execution_count": null,
      "outputs": []
    },
    {
      "cell_type": "code",
      "metadata": {
        "id": "1u2fhg-JKl0D"
      },
      "source": [
        "n_ways = 5\n",
        "# [ch_in, ch_out, kernelsz, kernelsz, stride, padding]\n",
        "\n",
        "config = [\n",
        "    ('conv2d', [25, 3, 3, 3, 2, 0]),\n",
        "    ('relu', [True]),\n",
        "    ('bn', [25]),\n",
        "    ('conv2d', [25, 25, 3, 3, 2, 0]),\n",
        "    ('relu', [True]),\n",
        "    ('bn', [25]),\n",
        "    ('conv2d', [25, 25, 3, 3, 2, 0]),\n",
        "    ('relu', [True]),\n",
        "    ('bn', [25]),\n",
        "    ('conv2d', [25, 25, 2, 2, 1, 0]),\n",
        "    ('relu', [True]),\n",
        "    ('bn', [25]),\n",
        "    ('flatten', []),\n",
        "    ('linear', [n_ways, 100])\n",
        "]"
      ],
      "execution_count": null,
      "outputs": []
    },
    {
      "cell_type": "code",
      "metadata": {
        "id": "cCt-UdpoKqJC"
      },
      "source": [
        "model = Learner(config,3,32)\n",
        "batch = [(dataloader_spt,dataloader_qry)]\n",
        "meta_lr = 1e-3\n",
        "meta_opt = torch.optim.SGD(model.parameters(), lr = meta_lr) # torch.optim.Adam\n",
        "for batch in task_batch:     # sample batch of tasks\n",
        "    outer_loss = 0\n",
        "    for task in batch: \n",
        "        train_inputs, train_targets = iter(task[0]).next() # train_inputs, train_targets = task['support'] // input-output train pairs\n",
        "        test_inputs, test_targets = iter(task[1]).next() # test_inputs, test_targets = task['query'] // input-output test pairs\n",
        "        \n",
        "        train_logits = model(train_inputs) \n",
        "        inner_loss = F.cross_entropy(train_logits, train_targets) # on train set\n",
        "        model.zero_grad()\n",
        "        grads = torch.autograd.grad(inner_loss, model.parameters()) #, create_graph = True)\n",
        "        # params = OrderedDict()\n",
        "        # for (name, param), grad in zip(model.meta_named_pars(), grads):\n",
        "        #   params[name] = param - step_size * grad\n",
        "\n",
        "        fast_weights = list(map(lambda p: p[1] - meta_lr * p[0], zip(grads, model.parameters())))\n",
        "\n",
        "        test_logits = model(test_inputs, fast_weights) #, params = params) // assign params to model\n",
        "        # Notice the '+=' which is used to acumulate the loss for each task \n",
        "        outer_loss += F.cross_entropy(test_logits, test_targets) # on test set\n",
        "\n",
        "    meta_opt.zero_grad() # Not found in code\n",
        "    outer_loss.backward()\n",
        "    meta_opt.step()"
      ],
      "execution_count": null,
      "outputs": []
    },
    {
      "cell_type": "code",
      "metadata": {
        "id": "pXJootim9jCK"
      },
      "source": [
        "# old code\n",
        "import torch\n",
        "from torch import nn\n",
        "from torch.utils.data import DataLoader\n",
        "from torchvision import datasets\n",
        "from torchvision.transforms import ToTensor, Lambda, Compose, Normalize\n",
        "import matplotlib.pyplot as plt\n",
        "import numpy as np\n",
        "from itertools import compress\n",
        "import random\n",
        "from torchvision.datasets import Omniglot\n",
        "from PIL import Image"
      ],
      "execution_count": null,
      "outputs": []
    },
    {
      "cell_type": "markdown",
      "metadata": {
        "id": "xABPC24hgRUK"
      },
      "source": [
        "Relevant sites for omniglot:\n",
        "\n",
        "* https://paperswithcode.com/dataset/omniglot-1 contains benchmarks and code\n",
        "\n",
        "* https://github.com/brendenlake/omniglot original github for the omniglot code\n",
        "\n",
        "* https://github.com/dragen1860/MAML-Pytorch/blob/master/omniglotNShot.py omniglot implementation, but Image.open(x).convert('L') causes line 33 to have an error. If this line is commented out, then it works but line 46 ends up being the wrong shape. If both of these problems are ignored, then when attempting to make the boolean_array below for the choosen classes all indices end up being False.\n",
        "\n",
        "* https://colab.research.google.com/github/cnielly/prototypical-networks-omniglot/blob/master/prototypical_networks_pytorch_omniglot.ipynb#scrollTo=RhDNMyG8AjOB An implementation using omniglot, but this model is a Protonet which isn't MAML so if this code is used to attained the data. One needs to determine how to use the model below with the data functions in this code.\n",
        "\n"
      ]
    },
    {
      "cell_type": "code",
      "metadata": {
        "id": "099o75t09qfZ"
      },
      "source": [
        "import torchvision.transforms as transforms\n",
        "# transform = Compose(\n",
        "#     [ToTensor(),\n",
        "#      Normalize((0.5), (0.5))])\n",
        "# dataset = Omniglot(root='data/', download=True, transform=transform)"
      ],
      "execution_count": null,
      "outputs": []
    },
    {
      "cell_type": "code",
      "metadata": {
        "colab": {
          "base_uri": "https://localhost:8080/"
        },
        "id": "Z4siUzAa0B3O",
        "outputId": "c118deb3-7662-448a-a84a-a66ad565bf39"
      },
      "source": [
        "! npm install -g localtunnel\n",
        "get_ipython().system_raw('/usr/local/bin/python -m pip install visdom')\n",
        "get_ipython().system_raw('/usr/local/bin/python -m visdom.server -port 6006 >> visdomlog.txt 2>&1 &')\n",
        "get_ipython().system_raw('lt --port 6006 >> url.txt 2>&1 &')\n",
        "import time\n",
        "time.sleep(5)\n",
        "! cat url.txt\n",
        "import visdom\n",
        "time.sleep(5)\n",
        "vis = visdom.Visdom(port='6006')\n",
        "print(vis)\n",
        "time.sleep(3)\n",
        "vis.text('testing')\n",
        "! cat visdomlog.txt"
      ],
      "execution_count": null,
      "outputs": [
        {
          "output_type": "stream",
          "name": "stderr",
          "text": [
            "[Errno 99] Cannot assign requested address\n",
            "on_close() takes 1 positional argument but 3 were given\n",
            "[Errno 99] Cannot assign requested address\n",
            "on_close() takes 1 positional argument but 3 were given\n",
            "[Errno 99] Cannot assign requested address\n",
            "on_close() takes 1 positional argument but 3 were given\n",
            "[Errno 99] Cannot assign requested address\n",
            "on_close() takes 1 positional argument but 3 were given\n",
            "[Errno 99] Cannot assign requested address\n",
            "on_close() takes 1 positional argument but 3 were given\n",
            "[Errno 99] Cannot assign requested address\n",
            "on_close() takes 1 positional argument but 3 were given\n",
            "[Errno 99] Cannot assign requested address\n",
            "on_close() takes 1 positional argument but 3 were given\n",
            "[Errno 99] Cannot assign requested address\n",
            "on_close() takes 1 positional argument but 3 were given\n",
            "[Errno 99] Cannot assign requested address\n",
            "on_close() takes 1 positional argument but 3 were given\n",
            "[Errno 99] Cannot assign requested address\n",
            "on_close() takes 1 positional argument but 3 were given\n"
          ]
        },
        {
          "output_type": "stream",
          "name": "stdout",
          "text": [
            "\u001b[?25l[\u001b[90m..................\u001b[0m] / rollbackFailedOptional: \u001b[34;40mverb\u001b[0m \u001b[35mnpm-session\u001b[0m e34ffd08eef6e77\u001b[0m\u001b[K\r[\u001b[90m..................\u001b[0m] / rollbackFailedOptional: \u001b[34;40mverb\u001b[0m \u001b[35mnpm-session\u001b[0m e34ffd08eef6e77\u001b[0m\u001b[K\r[\u001b[90m..................\u001b[0m] / rollbackFailedOptional: \u001b[34;40mverb\u001b[0m \u001b[35mnpm-session\u001b[0m e34ffd08eef6e77\u001b[0m\u001b[K\r"
          ]
        },
        {
          "output_type": "stream",
          "name": "stderr",
          "text": [
            "[Errno 99] Cannot assign requested address\n",
            "on_close() takes 1 positional argument but 3 were given\n"
          ]
        },
        {
          "output_type": "stream",
          "name": "stdout",
          "text": [
            ""
          ]
        },
        {
          "output_type": "stream",
          "name": "stderr",
          "text": [
            "[Errno 99] Cannot assign requested address\n",
            "on_close() takes 1 positional argument but 3 were given\n",
            "[Errno 99] Cannot assign requested address\n",
            "on_close() takes 1 positional argument but 3 were given\n",
            "[Errno 99] Cannot assign requested address\n",
            "on_close() takes 1 positional argument but 3 were given\n",
            "[Errno 99] Cannot assign requested address\n",
            "on_close() takes 1 positional argument but 3 were given\n"
          ]
        },
        {
          "output_type": "stream",
          "name": "stdout",
          "text": [
            ""
          ]
        },
        {
          "output_type": "stream",
          "name": "stderr",
          "text": [
            "[Errno 99] Cannot assign requested address\n",
            "on_close() takes 1 positional argument but 3 were given\n"
          ]
        },
        {
          "output_type": "stream",
          "name": "stdout",
          "text": [
            "[\u001b[7m  \u001b[27m\u001b[90m................\u001b[0m] / loadDep:strip-ansi: \u001b[7msill\u001b[0m \u001b[35mresolveWithNewModule\u001b[0m wrap-ansi@\u001b[0m\u001b[K\r[\u001b[7m  \u001b[27m\u001b[90m................\u001b[0m] / loadDep:strip-ansi: \u001b[7msill\u001b[0m \u001b[35mresolveWithNewModule\u001b[0m wrap-ansi@\u001b[0m\u001b[K\r[\u001b[7m  \u001b[27m\u001b[90m................\u001b[0m] | fetchMetadata: \u001b[7msill\u001b[0m \u001b[35mresolveWithNewModule\u001b[0m emoji-regex@8.0\u001b[0m\u001b[K\r[\u001b[7m  \u001b[27m\u001b[90m................\u001b[0m] / fetchMetadata: \u001b[7msill\u001b[0m \u001b[35mresolveWithNewModule\u001b[0m emoji-regex@8.0\u001b[0m\u001b[K\r[\u001b[7m  \u001b[27m\u001b[90m................\u001b[0m] / loadDep:strip-ansi: \u001b[7msill\u001b[0m \u001b[35mresolveWithNewModule\u001b[0m ansi-regex\u001b[0m\u001b[K\r[\u001b[7m  \u001b[27m\u001b[90m................\u001b[0m] | fetchMetadata: \u001b[7msill\u001b[0m \u001b[35mresolveWithNewModule\u001b[0m ansi-styles@4.3\u001b[0m\u001b[K\r"
          ]
        },
        {
          "output_type": "stream",
          "name": "stderr",
          "text": [
            "[Errno 99] Cannot assign requested address\n",
            "on_close() takes 1 positional argument but 3 were given\n",
            "[Errno 99] Cannot assign requested address\n",
            "on_close() takes 1 positional argument but 3 were given\n",
            "[Errno 99] Cannot assign requested address\n",
            "on_close() takes 1 positional argument but 3 were given\n"
          ]
        },
        {
          "output_type": "stream",
          "name": "stdout",
          "text": [
            "[\u001b[7m  \u001b[27m\u001b[90m................\u001b[0m] - fetchMetadata: \u001b[7msill\u001b[0m \u001b[35mresolveWithNewModule\u001b[0m ansi-styles@4.3\u001b[0m\u001b[K\r[\u001b[7m  \u001b[27m\u001b[90m................\u001b[0m] / fetchMetadata: \u001b[7msill\u001b[0m \u001b[35mresolveWithNewModule\u001b[0m color-convert@2\u001b[0m\u001b[K\r[\u001b[7m       \u001b[27m\u001b[90m...........\u001b[0m] / diffTrees: \u001b[7msill\u001b[0m \u001b[35minstall\u001b[0m generateActionsToTake\u001b[0m\u001b[K\r[\u001b[7m       \u001b[27m\u001b[90m...........\u001b[0m] \\ extract:localtunnel: \u001b[34;40mverb\u001b[0m \u001b[35mlock\u001b[0m using /root/.npm/_locks/s\u001b[0m\u001b[K\r[\u001b[7m       \u001b[27m\u001b[90m...........\u001b[0m] \\ extract:localtunnel: \u001b[34;40mverb\u001b[0m \u001b[35mlock\u001b[0m using /root/.npm/_locks/s\u001b[0m\u001b[K\r[\u001b[7m          \u001b[27m\u001b[90m........\u001b[0m] \\ extract:debug: \u001b[7msill\u001b[0m \u001b[35mextract\u001b[0m emoji-regex@^8.0.0 extracted\u001b[0m\u001b[K\r"
          ]
        },
        {
          "output_type": "stream",
          "name": "stderr",
          "text": [
            "[Errno 99] Cannot assign requested address\n",
            "on_close() takes 1 positional argument but 3 were given\n"
          ]
        },
        {
          "output_type": "stream",
          "name": "stdout",
          "text": [
            "[\u001b[7m            \u001b[27m\u001b[90m......\u001b[0m] \\ finalize:localtunnel: \u001b[7msill\u001b[0m \u001b[35mdoSerial\u001b[0m finalize 176\u001b[0m\u001b[K\r[\u001b[7m            \u001b[27m\u001b[90m......\u001b[0m] | refresh-package-json:localtunnel: \u001b[32;40mtiming\u001b[0m \u001b[35maction:finalize\u001b[0m\u001b[0m\u001b[K\r[\u001b[7m            \u001b[27m\u001b[90m......\u001b[0m] | refresh-package-json:localtunnel: \u001b[32;40mtiming\u001b[0m \u001b[35maction:finalize\u001b[0m\u001b[0m\u001b[K\r\r\u001b[K\u001b[?25h/tools/node/bin/lt -> /tools/node/lib/node_modules/localtunnel/bin/lt.js\n",
            "\u001b[?25l[\u001b[7m            \u001b[27m\u001b[90m......\u001b[0m] / install:yargs: \u001b[32minfo\u001b[0m \u001b[35mlifecycle\u001b[0m yargs@17.1.1~install: yarg\u001b[0m\u001b[K\r\r\u001b[K\u001b[?25h+ localtunnel@2.0.2\n",
            "added 22 packages from 22 contributors in 2.606s\n"
          ]
        },
        {
          "output_type": "stream",
          "name": "stderr",
          "text": [
            "[Errno 99] Cannot assign requested address\n",
            "on_close() takes 1 positional argument but 3 were given\n",
            "[Errno 99] Cannot assign requested address\n",
            "on_close() takes 1 positional argument but 3 were given\n",
            "[Errno 99] Cannot assign requested address\n",
            "on_close() takes 1 positional argument but 3 were given\n",
            "[Errno 99] Cannot assign requested address\n",
            "on_close() takes 1 positional argument but 3 were given\n",
            "[Errno 99] Cannot assign requested address\n",
            "on_close() takes 1 positional argument but 3 were given\n",
            "[Errno 99] Cannot assign requested address\n",
            "on_close() takes 1 positional argument but 3 were given\n",
            "[Errno 99] Cannot assign requested address\n",
            "on_close() takes 1 positional argument but 3 were given\n",
            "[Errno 99] Cannot assign requested address\n",
            "on_close() takes 1 positional argument but 3 were given\n",
            "[Errno 99] Cannot assign requested address\n",
            "on_close() takes 1 positional argument but 3 were given\n",
            "[Errno 99] Cannot assign requested address\n",
            "on_close() takes 1 positional argument but 3 were given\n",
            "[Errno 99] Cannot assign requested address\n",
            "on_close() takes 1 positional argument but 3 were given\n",
            "[Errno 99] Cannot assign requested address\n",
            "on_close() takes 1 positional argument but 3 were given\n",
            "[Errno 99] Cannot assign requested address\n",
            "on_close() takes 1 positional argument but 3 were given\n",
            "[Errno 99] Cannot assign requested address\n",
            "on_close() takes 1 positional argument but 3 were given\n",
            "[Errno 99] Cannot assign requested address\n",
            "on_close() takes 1 positional argument but 3 were given\n",
            "[Errno 99] Cannot assign requested address\n",
            "on_close() takes 1 positional argument but 3 were given\n",
            "[Errno 99] Cannot assign requested address\n",
            "on_close() takes 1 positional argument but 3 were given\n",
            "[Errno 99] Cannot assign requested address\n",
            "on_close() takes 1 positional argument but 3 were given\n",
            "[Errno 99] Cannot assign requested address\n",
            "on_close() takes 1 positional argument but 3 were given\n",
            "[Errno 99] Cannot assign requested address\n",
            "on_close() takes 1 positional argument but 3 were given\n",
            "[Errno 99] Cannot assign requested address\n",
            "on_close() takes 1 positional argument but 3 were given\n",
            "[Errno 99] Cannot assign requested address\n",
            "on_close() takes 1 positional argument but 3 were given\n",
            "[Errno 99] Cannot assign requested address\n",
            "on_close() takes 1 positional argument but 3 were given\n",
            "[Errno 99] Cannot assign requested address\n",
            "on_close() takes 1 positional argument but 3 were given\n",
            "[Errno 99] Cannot assign requested address\n",
            "on_close() takes 1 positional argument but 3 were given\n",
            "[Errno 99] Cannot assign requested address\n",
            "on_close() takes 1 positional argument but 3 were given\n",
            "[Errno 99] Cannot assign requested address\n",
            "on_close() takes 1 positional argument but 3 were given\n",
            "[Errno 99] Cannot assign requested address\n",
            "on_close() takes 1 positional argument but 3 were given\n",
            "[Errno 99] Cannot assign requested address\n",
            "on_close() takes 1 positional argument but 3 were given\n",
            "[Errno 99] Cannot assign requested address\n",
            "on_close() takes 1 positional argument but 3 were given\n",
            "[Errno 99] Cannot assign requested address\n",
            "on_close() takes 1 positional argument but 3 were given\n",
            "[Errno 99] Cannot assign requested address\n",
            "on_close() takes 1 positional argument but 3 were given\n",
            "[Errno 99] Cannot assign requested address\n",
            "on_close() takes 1 positional argument but 3 were given\n",
            "[Errno 99] Cannot assign requested address\n",
            "on_close() takes 1 positional argument but 3 were given\n",
            "[Errno 99] Cannot assign requested address\n",
            "on_close() takes 1 positional argument but 3 were given\n",
            "[Errno 99] Cannot assign requested address\n",
            "on_close() takes 1 positional argument but 3 were given\n",
            "[Errno 99] Cannot assign requested address\n",
            "on_close() takes 1 positional argument but 3 were given\n",
            "[Errno 99] Cannot assign requested address\n",
            "on_close() takes 1 positional argument but 3 were given\n",
            "[Errno 99] Cannot assign requested address\n",
            "on_close() takes 1 positional argument but 3 were given\n",
            "[Errno 99] Cannot assign requested address\n",
            "on_close() takes 1 positional argument but 3 were given\n"
          ]
        },
        {
          "output_type": "stream",
          "name": "stdout",
          "text": [
            "your url is: https://selfish-kangaroo-36.loca.lt\n"
          ]
        },
        {
          "output_type": "stream",
          "name": "stderr",
          "text": [
            "[Errno 99] Cannot assign requested address\n",
            "on_close() takes 1 positional argument but 3 were given\n",
            "[Errno 99] Cannot assign requested address\n",
            "on_close() takes 1 positional argument but 3 were given\n",
            "[Errno 99] Cannot assign requested address\n",
            "on_close() takes 1 positional argument but 3 were given\n",
            "[Errno 99] Cannot assign requested address\n",
            "on_close() takes 1 positional argument but 3 were given\n",
            "[Errno 99] Cannot assign requested address\n",
            "on_close() takes 1 positional argument but 3 were given\n",
            "[Errno 99] Cannot assign requested address\n",
            "on_close() takes 1 positional argument but 3 were given\n",
            "[Errno 99] Cannot assign requested address\n",
            "on_close() takes 1 positional argument but 3 were given\n",
            "[Errno 99] Cannot assign requested address\n",
            "on_close() takes 1 positional argument but 3 were given\n",
            "[Errno 99] Cannot assign requested address\n",
            "on_close() takes 1 positional argument but 3 were given\n",
            "[Errno 99] Cannot assign requested address\n",
            "on_close() takes 1 positional argument but 3 were given\n",
            "[Errno 99] Cannot assign requested address\n",
            "on_close() takes 1 positional argument but 3 were given\n",
            "[Errno 99] Cannot assign requested address\n",
            "on_close() takes 1 positional argument but 3 were given\n",
            "[Errno 99] Cannot assign requested address\n",
            "on_close() takes 1 positional argument but 3 were given\n",
            "[Errno 99] Cannot assign requested address\n",
            "on_close() takes 1 positional argument but 3 were given\n",
            "[Errno 99] Cannot assign requested address\n",
            "on_close() takes 1 positional argument but 3 were given\n",
            "[Errno 99] Cannot assign requested address\n",
            "on_close() takes 1 positional argument but 3 were given\n",
            "[Errno 99] Cannot assign requested address\n",
            "on_close() takes 1 positional argument but 3 were given\n",
            "[Errno 99] Cannot assign requested address\n",
            "on_close() takes 1 positional argument but 3 were given\n",
            "[Errno 99] Cannot assign requested address\n",
            "on_close() takes 1 positional argument but 3 were given\n",
            "[Errno 99] Cannot assign requested address\n",
            "on_close() takes 1 positional argument but 3 were given\n",
            "[Errno 99] Cannot assign requested address\n",
            "on_close() takes 1 positional argument but 3 were given\n",
            "[Errno 99] Cannot assign requested address\n",
            "on_close() takes 1 positional argument but 3 were given\n",
            "[Errno 99] Cannot assign requested address\n",
            "on_close() takes 1 positional argument but 3 were given\n",
            "[Errno 99] Cannot assign requested address\n",
            "on_close() takes 1 positional argument but 3 were given\n",
            "[Errno 99] Cannot assign requested address\n",
            "on_close() takes 1 positional argument but 3 were given\n",
            "[Errno 99] Cannot assign requested address\n",
            "on_close() takes 1 positional argument but 3 were given\n",
            "Setting up a new session...\n",
            "[Errno 99] Cannot assign requested address\n",
            "on_close() takes 1 positional argument but 3 were given\n",
            "[Errno 99] Cannot assign requested address\n",
            "on_close() takes 1 positional argument but 3 were given\n",
            "[Errno 99] Cannot assign requested address\n",
            "on_close() takes 1 positional argument but 3 were given\n",
            "[Errno 99] Cannot assign requested address\n",
            "on_close() takes 1 positional argument but 3 were given\n"
          ]
        },
        {
          "output_type": "stream",
          "name": "stdout",
          "text": [
            "<visdom.Visdom object at 0x7faf6bcd1d50>\n"
          ]
        },
        {
          "output_type": "stream",
          "name": "stderr",
          "text": [
            "[Errno 99] Cannot assign requested address\n",
            "on_close() takes 1 positional argument but 3 were given\n",
            "[Errno 99] Cannot assign requested address\n",
            "on_close() takes 1 positional argument but 3 were given\n",
            "[Errno 99] Cannot assign requested address\n",
            "on_close() takes 1 positional argument but 3 were given\n",
            "[Errno 99] Cannot assign requested address\n",
            "on_close() takes 1 positional argument but 3 were given\n",
            "[Errno 99] Cannot assign requested address\n",
            "on_close() takes 1 positional argument but 3 were given\n",
            "[Errno 99] Cannot assign requested address\n",
            "on_close() takes 1 positional argument but 3 were given\n",
            "[Errno 99] Cannot assign requested address\n",
            "on_close() takes 1 positional argument but 3 were given\n",
            "[Errno 99] Cannot assign requested address\n",
            "on_close() takes 1 positional argument but 3 were given\n",
            "[Errno 99] Cannot assign requested address\n",
            "on_close() takes 1 positional argument but 3 were given\n",
            "[Errno 99] Cannot assign requested address\n",
            "on_close() takes 1 positional argument but 3 were given\n",
            "[Errno 99] Cannot assign requested address\n",
            "on_close() takes 1 positional argument but 3 were given\n",
            "[Errno 99] Cannot assign requested address\n",
            "on_close() takes 1 positional argument but 3 were given\n",
            "[Errno 99] Cannot assign requested address\n",
            "on_close() takes 1 positional argument but 3 were given\n",
            "[Errno 99] Cannot assign requested address\n",
            "on_close() takes 1 positional argument but 3 were given\n",
            "[Errno 99] Cannot assign requested address\n",
            "on_close() takes 1 positional argument but 3 were given\n"
          ]
        },
        {
          "output_type": "stream",
          "name": "stdout",
          "text": [
            "/content/visdom/py/visdom/server.py:36: DeprecationWarning: zmq.eventloop.ioloop is deprecated in pyzmq 17. pyzmq now works with default tornado and asyncio eventloops.\n",
            "  ioloop.install()  # Needs to happen before any tornado imports!\n",
            "INFO:root:Application Started\n",
            "INFO:tornado.access:200 POST /env/main (127.0.0.1) 2.40ms\n",
            "INFO:tornado.access:101 GET /vis_socket (127.0.0.1) 0.66ms\n",
            "INFO:root:Opened visdom socket from ip: 127.0.0.1\n",
            "INFO:tornado.access:200 POST /events (127.0.0.1) 2.41ms\n"
          ]
        }
      ]
    },
    {
      "cell_type": "code",
      "metadata": {
        "id": "i04oin6CYarx"
      },
      "source": [
        "import  torch.utils.data as data\n",
        "import  os\n",
        "import  os.path\n",
        "import  errno\n",
        "\n",
        "\n",
        "class Omniglot(data.Dataset):\n",
        "    urls = [\n",
        "        'https://github.com/brendenlake/omniglot/raw/master/python/images_background.zip',\n",
        "        'https://github.com/brendenlake/omniglot/raw/master/python/images_evaluation.zip'\n",
        "    ]\n",
        "    raw_folder = 'raw'\n",
        "    processed_folder = 'processed'\n",
        "    training_file = 'training.pt'\n",
        "    test_file = 'test.pt'\n",
        "\n",
        "    '''\n",
        "    The items are (filename,category). The index of all the categories can be found in self.idx_classes\n",
        "    Args:\n",
        "    - root: the directory where the dataset will be stored\n",
        "    - transform: how to transform the input\n",
        "    - target_transform: how to transform the target\n",
        "    - download: need to download the dataset\n",
        "    '''\n",
        "\n",
        "    def __init__(self, root, transform=None, target_transform=None, download=False):\n",
        "        self.root = root\n",
        "        self.transform = transform\n",
        "        self.target_transform = target_transform\n",
        "\n",
        "        if not self._check_exists():\n",
        "            if download:\n",
        "                self.download()\n",
        "            else:\n",
        "                raise RuntimeError('Dataset not found.' + ' You can use download=True to download it')\n",
        "\n",
        "        self.all_items = find_classes(os.path.join(self.root, self.processed_folder))\n",
        "        self.idx_classes = index_classes(self.all_items)\n",
        "\n",
        "    def __getitem__(self, index):\n",
        "        filename = self.all_items[index][0]\n",
        "        img = str.join('/', [self.all_items[index][2], filename])\n",
        "\n",
        "        target = self.idx_classes[self.all_items[index][1]]\n",
        "        if self.transform is not None:\n",
        "            img = self.transform(img)\n",
        "        if self.target_transform is not None:\n",
        "            target = self.target_transform(target)\n",
        "\n",
        "        return img, target\n",
        "\n",
        "    def __len__(self):\n",
        "        return len(self.all_items)\n",
        "\n",
        "    def _check_exists(self):\n",
        "        return os.path.exists(os.path.join(self.root, self.processed_folder, \"images_evaluation\")) and \\\n",
        "               os.path.exists(os.path.join(self.root, self.processed_folder, \"images_background\"))\n",
        "\n",
        "    def download(self):\n",
        "        from six.moves import urllib\n",
        "        import zipfile\n",
        "\n",
        "        if self._check_exists():\n",
        "            return\n",
        "\n",
        "        # download files\n",
        "        try:\n",
        "            os.makedirs(os.path.join(self.root, self.raw_folder))\n",
        "            os.makedirs(os.path.join(self.root, self.processed_folder))\n",
        "        except OSError as e:\n",
        "            if e.errno == errno.EEXIST:\n",
        "                pass\n",
        "            else:\n",
        "                raise\n",
        "\n",
        "        for url in self.urls:\n",
        "            print('== Downloading ' + url)\n",
        "            data = urllib.request.urlopen(url)\n",
        "            filename = url.rpartition('/')[2]\n",
        "            file_path = os.path.join(self.root, self.raw_folder, filename)\n",
        "            with open(file_path, 'wb') as f:\n",
        "                f.write(data.read())\n",
        "            file_processed = os.path.join(self.root, self.processed_folder)\n",
        "            print(\"== Unzip from \" + file_path + \" to \" + file_processed)\n",
        "            zip_ref = zipfile.ZipFile(file_path, 'r')\n",
        "            zip_ref.extractall(file_processed)\n",
        "            zip_ref.close()\n",
        "        print(\"Download finished.\")\n",
        "\n",
        "\n",
        "def find_classes(root_dir):\n",
        "    retour = []\n",
        "    for (root, dirs, files) in os.walk(root_dir):\n",
        "        for f in files:\n",
        "            if (f.endswith(\"png\")):\n",
        "                r = root.split('/')\n",
        "                lr = len(r)\n",
        "                retour.append((f, r[lr - 2] + \"/\" + r[lr - 1], root))\n",
        "    print(\"== Found %d items \" % len(retour))\n",
        "    return retour\n",
        "\n",
        "\n",
        "def index_classes(items):\n",
        "    idx = {}\n",
        "    for i in items:\n",
        "        if i[1] not in idx:\n",
        "            idx[i[1]] = len(idx)\n",
        "    print(\"== Found %d classes\" % len(idx))\n",
        "    return idx"
      ],
      "execution_count": null,
      "outputs": []
    },
    {
      "cell_type": "code",
      "metadata": {
        "id": "6CZpd_v8YIbp"
      },
      "source": [
        "import  torchvision.transforms as transforms\n",
        "from    PIL import Image\n",
        "import  os.path\n",
        "import  numpy as np\n",
        "\n",
        "class OmniglotNShot:\n",
        "\n",
        "    def __init__(self, root, batchsz, n_way, k_shot, k_query, imgsz):\n",
        "        \"\"\"\n",
        "        Different from mnistNShot, the\n",
        "        :param root:\n",
        "        :param batchsz: task num\n",
        "        :param n_way:\n",
        "        :param k_shot:\n",
        "        :param k_qry:\n",
        "        :param imgsz:\n",
        "        \"\"\"\n",
        "\n",
        "        self.resize = imgsz\n",
        "        if not os.path.isfile(os.path.join(root, 'omniglot.npy')):\n",
        "            # if root/data.npy does not exist, just download it\n",
        "            self.x = Omniglot(root, download=True,\n",
        "                              transform=transforms.Compose([lambda x: Image.open(x).convert('L'),\n",
        "                                                            lambda x: x.resize((imgsz, imgsz)),\n",
        "                                                            lambda x: np.reshape(x, (imgsz, imgsz, 1)),\n",
        "                                                            lambda x: np.transpose(x, [2, 0, 1]),\n",
        "                                                            lambda x: x/255.])\n",
        "                              )\n",
        "\n",
        "            temp = dict()  # {label:img1, img2..., 20 imgs, label2: img1, img2,... in total, 1623 label}\n",
        "            for (img, label) in self.x:\n",
        "                if label in temp.keys():\n",
        "                    temp[label].append(img)\n",
        "                else:\n",
        "                    temp[label] = [img]\n",
        "\n",
        "            self.x = []\n",
        "            for label, imgs in temp.items():  # labels info deserted , each label contains 20imgs\n",
        "                self.x.append(np.array(imgs))\n",
        "\n",
        "            # as different class may have different number of imgs\n",
        "            self.x = np.array(self.x).astype(np.float)  # [[20 imgs],..., 1623 classes in total]\n",
        "            # each character contains 20 imgs\n",
        "            print('data shape:', self.x.shape)  # [1623, 20, 84, 84, 1]\n",
        "            temp = []  # Free memory\n",
        "            # save all dataset into npy file.\n",
        "            np.save(os.path.join(root, 'omniglot.npy'), self.x)\n",
        "            print('write into omniglot.npy.')\n",
        "        else:\n",
        "            # if data.npy exists, just load it.\n",
        "            self.x = np.load(os.path.join(root, 'omniglot.npy'))\n",
        "            print('load from omniglot.npy.')\n",
        "\n",
        "        # [1623, 20, 84, 84, 1]\n",
        "        # TODO: can not shuffle here, we must keep training and test set distinct!\n",
        "        self.x_train, self.x_test = self.x[:1200], self.x[1200:]\n",
        "\n",
        "        # self.normalization()\n",
        "\n",
        "        self.batchsz = batchsz\n",
        "        self.n_cls = self.x.shape[0]  # 1623\n",
        "        self.n_way = n_way  # n way\n",
        "        self.k_shot = k_shot  # k shot\n",
        "        self.k_query = k_query  # k query\n",
        "        assert (k_shot + k_query) <=20\n",
        "\n",
        "        # save pointer of current read batch in total cache\n",
        "        self.indexes = {\"train\": 0, \"test\": 0}\n",
        "        self.datasets = {\"train\": self.x_train, \"test\": self.x_test}  # original data cached\n",
        "        print(\"DB: train\", self.x_train.shape, \"test\", self.x_test.shape)\n",
        "\n",
        "        self.datasets_cache = {\"train\": self.load_data_cache(self.datasets[\"train\"]),  # current epoch data cached\n",
        "                               \"test\": self.load_data_cache(self.datasets[\"test\"])}\n",
        "\n",
        "    def normalization(self):\n",
        "        \"\"\"\n",
        "        Normalizes our data, to have a mean of 0 and sdt of 1\n",
        "        \"\"\"\n",
        "        self.mean = np.mean(self.x_train)\n",
        "        self.std = np.std(self.x_train)\n",
        "        self.max = np.max(self.x_train)\n",
        "        self.min = np.min(self.x_train)\n",
        "        # print(\"before norm:\", \"mean\", self.mean, \"max\", self.max, \"min\", self.min, \"std\", self.std)\n",
        "        self.x_train = (self.x_train - self.mean) / self.std\n",
        "        self.x_test = (self.x_test - self.mean) / self.std\n",
        "\n",
        "        self.mean = np.mean(self.x_train)\n",
        "        self.std = np.std(self.x_train)\n",
        "        self.max = np.max(self.x_train)\n",
        "        self.min = np.min(self.x_train)\n",
        "\n",
        "    # print(\"after norm:\", \"mean\", self.mean, \"max\", self.max, \"min\", self.min, \"std\", self.std)\n",
        "\n",
        "    def load_data_cache(self, data_pack):\n",
        "        \"\"\"\n",
        "        Collects several batches data for N-shot learning\n",
        "        :param data_pack: [cls_num, 20, 84, 84, 1]\n",
        "        :return: A list with [support_set_x, support_set_y, target_x, target_y] ready to be fed to our networks\n",
        "        \"\"\"\n",
        "        #  take 5 way 1 shot as example: 5 * 1\n",
        "        setsz = self.k_shot * self.n_way\n",
        "        querysz = self.k_query * self.n_way\n",
        "        data_cache = []\n",
        "\n",
        "        # print('preload next 50 caches of batchsz of batch.')\n",
        "        for sample in range(10):  # num of episodes\n",
        "\n",
        "            x_spts, y_spts, x_qrys, y_qrys = [], [], [], []\n",
        "            for i in range(self.batchsz):  # one batch means one set\n",
        "\n",
        "                x_spt, y_spt, x_qry, y_qry = [], [], [], []\n",
        "                selected_cls = np.random.choice(data_pack.shape[0], self.n_way, False)\n",
        "\n",
        "                for j, cur_class in enumerate(selected_cls):\n",
        "\n",
        "                    selected_img = np.random.choice(20, self.k_shot + self.k_query, False)\n",
        "\n",
        "                    # meta-training and meta-test\n",
        "                    x_spt.append(data_pack[cur_class][selected_img[:self.k_shot]])\n",
        "                    x_qry.append(data_pack[cur_class][selected_img[self.k_shot:]])\n",
        "                    y_spt.append([j for _ in range(self.k_shot)])\n",
        "                    y_qry.append([j for _ in range(self.k_query)])\n",
        "\n",
        "                # shuffle inside a batch\n",
        "                perm = np.random.permutation(self.n_way * self.k_shot)\n",
        "                x_spt = np.array(x_spt).reshape(self.n_way * self.k_shot, 1, self.resize, self.resize)[perm]\n",
        "                y_spt = np.array(y_spt).reshape(self.n_way * self.k_shot)[perm]\n",
        "                perm = np.random.permutation(self.n_way * self.k_query)\n",
        "                x_qry = np.array(x_qry).reshape(self.n_way * self.k_query, 1, self.resize, self.resize)[perm]\n",
        "                y_qry = np.array(y_qry).reshape(self.n_way * self.k_query)[perm]\n",
        "\n",
        "                # append [sptsz, 1, 84, 84] => [b, setsz, 1, 84, 84]\n",
        "                x_spts.append(x_spt)\n",
        "                y_spts.append(y_spt)\n",
        "                x_qrys.append(x_qry)\n",
        "                y_qrys.append(y_qry)\n",
        "\n",
        "\n",
        "            # [b, setsz, 1, 84, 84]\n",
        "            x_spts = np.array(x_spts).astype(np.float32).reshape(self.batchsz, setsz, 1, self.resize, self.resize)\n",
        "            y_spts = np.array(y_spts).astype(np.int).reshape(self.batchsz, setsz)\n",
        "            # [b, qrysz, 1, 84, 84]\n",
        "            x_qrys = np.array(x_qrys).astype(np.float32).reshape(self.batchsz, querysz, 1, self.resize, self.resize)\n",
        "            y_qrys = np.array(y_qrys).astype(np.int).reshape(self.batchsz, querysz)\n",
        "\n",
        "            data_cache.append([x_spts, y_spts, x_qrys, y_qrys])\n",
        "\n",
        "        return data_cache\n",
        "\n",
        "    def next(self, mode='train'):\n",
        "        \"\"\"\n",
        "        Gets next batch from the dataset with name.\n",
        "        :param mode: The name of the splitting (one of \"train\", \"val\", \"test\")\n",
        "        :return:\n",
        "        \"\"\"\n",
        "        # update cache if indexes is larger cached num\n",
        "        if self.indexes[mode] >= len(self.datasets_cache[mode]):\n",
        "            self.indexes[mode] = 0\n",
        "            self.datasets_cache[mode] = self.load_data_cache(self.datasets[mode])\n",
        "\n",
        "        next_batch = self.datasets_cache[mode][self.indexes[mode]]\n",
        "        self.indexes[mode] += 1\n",
        "\n",
        "        return next_batch\n",
        "\n"
      ],
      "execution_count": null,
      "outputs": []
    },
    {
      "cell_type": "code",
      "metadata": {
        "colab": {
          "base_uri": "https://localhost:8080/"
        },
        "id": "xBqdAdDnbBqI",
        "outputId": "8c5fd6e2-2f8c-4f12-d35c-be5a10553d2c"
      },
      "source": [
        "from visdom import Visdom\n",
        "import time\n",
        "import numpy as np\n",
        "\n",
        "try:\n",
        "    viz = Visdom()\n",
        "\n",
        "    assert viz.check_connection(timeout_seconds=3), \\\n",
        "        'No connection could be formed quickly'\n",
        "\n",
        "    # image callback demo\n",
        "    def show_color_image_window(color, win=None):\n",
        "        image = np.full([3, 256, 256], color, dtype=float)\n",
        "        return viz.image(\n",
        "            image,\n",
        "            opts=dict(title='Colors', caption='Press arrows to alter color.'),\n",
        "            win=win\n",
        "        )\n",
        "\n",
        "    image_color = 0\n",
        "    callback_image_window = show_color_image_window(image_color)\n",
        "\n",
        "    def image_callback(event):\n",
        "        global image_color\n",
        "        if event['event_type'] == 'KeyPress':\n",
        "            if event['key'] == 'ArrowRight':\n",
        "                image_color = min(image_color + 0.2, 1)\n",
        "            if event['key'] == 'ArrowLeft':\n",
        "                image_color = max(image_color - 0.2, 0)\n",
        "            show_color_image_window(image_color, callback_image_window)\n",
        "\n",
        "    viz.register_event_handler(image_callback, callback_image_window)\n",
        "\n",
        "    # text window with Callbacks\n",
        "    txt = 'This is a write demo notepad. Type below. Delete clears text:<br>'\n",
        "    callback_text_window = viz.text(txt)\n",
        "\n",
        "    def type_callback(event):\n",
        "        if event['event_type'] == 'KeyPress':\n",
        "            curr_txt = event['pane_data']['content']\n",
        "            if event['key'] == 'Enter':\n",
        "                curr_txt += '<br>'\n",
        "            elif event['key'] == 'Backspace':\n",
        "                curr_txt = curr_txt[:-1]\n",
        "            elif event['key'] == 'Delete':\n",
        "                curr_txt = txt\n",
        "            elif len(event['key']) == 1:\n",
        "                curr_txt += event['key']\n",
        "            viz.text(curr_txt, win=callback_text_window)\n",
        "\n",
        "    viz.register_event_handler(type_callback, callback_text_window)\n",
        "\n",
        "    # Properties window\n",
        "    properties = [\n",
        "        {'type': 'text', 'name': 'Text input', 'value': 'initial'},\n",
        "        {'type': 'number', 'name': 'Number input', 'value': '12'},\n",
        "        {'type': 'button', 'name': 'Button', 'value': 'Start'},\n",
        "        {'type': 'checkbox', 'name': 'Checkbox', 'value': True},\n",
        "        {'type': 'select', 'name': 'Select', 'value': 1, 'values': ['Red', 'Green', 'Blue']},\n",
        "    ]\n",
        "\n",
        "    properties_window = viz.properties(properties)\n",
        "\n",
        "    def properties_callback(event):\n",
        "        if event['event_type'] == 'PropertyUpdate':\n",
        "            prop_id = event['propertyId']\n",
        "            value = event['value']\n",
        "            if prop_id == 0:\n",
        "                new_value = value + '_updated'\n",
        "            elif prop_id == 1:\n",
        "                new_value = value + '0'\n",
        "            elif prop_id == 2:\n",
        "                new_value = 'Stop' if properties[prop_id]['value'] == 'Start' else 'Start'\n",
        "            else:\n",
        "                new_value = value\n",
        "            properties[prop_id]['value'] = new_value\n",
        "            viz.properties(properties, win=properties_window)\n",
        "            viz.text(\"Updated: {} => {}\".format(properties[event['propertyId']]['name'], str(event['value'])),\n",
        "                     win=callback_text_window, append=True)\n",
        "\n",
        "    viz.register_event_handler(properties_callback, properties_window)\n",
        "\n",
        "    try:\n",
        "        input = raw_input  # for Python 2 compatibility\n",
        "    except NameError:\n",
        "        pass\n",
        "    input('Waiting for callbacks, press enter to quit.')\n",
        "except BaseException as e:\n",
        "    print(\n",
        "        \"The visdom experienced an exception while running: {}\\n\"\n",
        "        \"The demo displays up-to-date functionality with the GitHub version, \"\n",
        "        \"which may not yet be pushed to pip. Please upgrade using \"\n",
        "        \"`pip install -e .` or `easy_install .`\\n\"\n",
        "        \"If this does not resolve the problem, please open an issue on \"\n",
        "        \"our GitHub.\".format(repr(e))\n",
        "    )"
      ],
      "execution_count": null,
      "outputs": [
        {
          "output_type": "stream",
          "name": "stderr",
          "text": [
            "[Errno 99] Cannot assign requested address\n",
            "[Errno 99] Cannot assign requested address\n",
            "on_close() takes 1 positional argument but 3 were given\n",
            "Setting up a new session...\n",
            "on_close() takes 1 positional argument but 3 were given\n",
            "Traceback (most recent call last):\n",
            "  File \"/usr/local/lib/python3.7/dist-packages/urllib3/connection.py\", line 159, in _new_conn\n",
            "    (self._dns_host, self.port), self.timeout, **extra_kw)\n",
            "  File \"/usr/local/lib/python3.7/dist-packages/urllib3/util/connection.py\", line 80, in create_connection\n",
            "    raise err\n",
            "  File \"/usr/local/lib/python3.7/dist-packages/urllib3/util/connection.py\", line 70, in create_connection\n",
            "    sock.connect(sa)\n",
            "ConnectionRefusedError: [Errno 111] Connection refused\n",
            "\n",
            "During handling of the above exception, another exception occurred:\n",
            "\n",
            "Traceback (most recent call last):\n",
            "  File \"/usr/local/lib/python3.7/dist-packages/urllib3/connectionpool.py\", line 600, in urlopen\n",
            "    chunked=chunked)\n",
            "  File \"/usr/local/lib/python3.7/dist-packages/urllib3/connectionpool.py\", line 354, in _make_request\n",
            "    conn.request(method, url, **httplib_request_kw)\n",
            "  File \"/usr/lib/python3.7/http/client.py\", line 1281, in request\n",
            "    self._send_request(method, url, body, headers, encode_chunked)\n",
            "  File \"/usr/lib/python3.7/http/client.py\", line 1327, in _send_request\n",
            "    self.endheaders(body, encode_chunked=encode_chunked)\n",
            "  File \"/usr/lib/python3.7/http/client.py\", line 1276, in endheaders\n",
            "    self._send_output(message_body, encode_chunked=encode_chunked)\n",
            "  File \"/usr/lib/python3.7/http/client.py\", line 1036, in _send_output\n",
            "    self.send(msg)\n",
            "  File \"/usr/lib/python3.7/http/client.py\", line 976, in send\n",
            "    self.connect()\n",
            "  File \"/usr/local/lib/python3.7/dist-packages/urllib3/connection.py\", line 181, in connect\n",
            "    conn = self._new_conn()\n",
            "  File \"/usr/local/lib/python3.7/dist-packages/urllib3/connection.py\", line 168, in _new_conn\n",
            "    self, \"Failed to establish a new connection: %s\" % e)\n",
            "urllib3.exceptions.NewConnectionError: <urllib3.connection.HTTPConnection object at 0x7faf6bd63d10>: Failed to establish a new connection: [Errno 111] Connection refused\n",
            "\n",
            "During handling of the above exception, another exception occurred:\n",
            "\n",
            "Traceback (most recent call last):\n",
            "  File \"/usr/local/lib/python3.7/dist-packages/requests/adapters.py\", line 449, in send\n",
            "    timeout=timeout\n",
            "  File \"/usr/local/lib/python3.7/dist-packages/urllib3/connectionpool.py\", line 638, in urlopen\n",
            "    _stacktrace=sys.exc_info()[2])\n",
            "  File \"/usr/local/lib/python3.7/dist-packages/urllib3/util/retry.py\", line 399, in increment\n",
            "    raise MaxRetryError(_pool, url, error or ResponseError(cause))\n",
            "urllib3.exceptions.MaxRetryError: HTTPConnectionPool(host='localhost', port=8097): Max retries exceeded with url: /env/main (Caused by NewConnectionError('<urllib3.connection.HTTPConnection object at 0x7faf6bd63d10>: Failed to establish a new connection: [Errno 111] Connection refused'))\n",
            "\n",
            "During handling of the above exception, another exception occurred:\n",
            "\n",
            "Traceback (most recent call last):\n",
            "  File \"/usr/local/lib/python3.7/dist-packages/visdom/__init__.py\", line 711, in _send\n",
            "  File \"/usr/local/lib/python3.7/dist-packages/visdom/__init__.py\", line 677, in _handle_post\n",
            "  File \"/usr/local/lib/python3.7/dist-packages/requests/sessions.py\", line 578, in post\n",
            "    return self.request('POST', url, data=data, json=json, **kwargs)\n",
            "  File \"/usr/local/lib/python3.7/dist-packages/requests/sessions.py\", line 530, in request\n",
            "    resp = self.send(prep, **send_kwargs)\n",
            "  File \"/usr/local/lib/python3.7/dist-packages/requests/sessions.py\", line 643, in send\n",
            "    r = adapter.send(request, **kwargs)\n",
            "  File \"/usr/local/lib/python3.7/dist-packages/requests/adapters.py\", line 516, in send\n",
            "    raise ConnectionError(e, request=request)\n",
            "requests.exceptions.ConnectionError: HTTPConnectionPool(host='localhost', port=8097): Max retries exceeded with url: /env/main (Caused by NewConnectionError('<urllib3.connection.HTTPConnection object at 0x7faf6bd63d10>: Failed to establish a new connection: [Errno 111] Connection refused'))\n",
            "[Errno 99] Cannot assign requested address\n",
            "on_close() takes 1 positional argument but 3 were given\n"
          ]
        },
        {
          "output_type": "stream",
          "name": "stdout",
          "text": [
            "Exception in user code:\n",
            "------------------------------------------------------------\n"
          ]
        },
        {
          "output_type": "stream",
          "name": "stderr",
          "text": [
            "[Errno 99] Cannot assign requested address\n",
            "on_close() takes 1 positional argument but 3 were given\n",
            "[Errno 99] Cannot assign requested address\n",
            "on_close() takes 1 positional argument but 3 were given\n",
            "[Errno 99] Cannot assign requested address\n",
            "on_close() takes 1 positional argument but 3 were given\n",
            "[Errno 99] Cannot assign requested address\n",
            "on_close() takes 1 positional argument but 3 were given\n",
            "[Errno 99] Cannot assign requested address\n",
            "on_close() takes 1 positional argument but 3 were given\n",
            "[Errno 99] Cannot assign requested address\n",
            "on_close() takes 1 positional argument but 3 were given\n",
            "[Errno 99] Cannot assign requested address\n",
            "on_close() takes 1 positional argument but 3 were given\n",
            "[Errno 99] Cannot assign requested address\n",
            "on_close() takes 1 positional argument but 3 were given\n",
            "[Errno 99] Cannot assign requested address\n",
            "on_close() takes 1 positional argument but 3 were given\n",
            "[Errno 99] Cannot assign requested address\n",
            "on_close() takes 1 positional argument but 3 were given\n",
            "[Errno 99] Cannot assign requested address\n",
            "on_close() takes 1 positional argument but 3 were given\n",
            "[Errno 99] Cannot assign requested address\n",
            "on_close() takes 1 positional argument but 3 were given\n",
            "[Errno 99] Cannot assign requested address\n",
            "on_close() takes 1 positional argument but 3 were given\n",
            "[Errno 99] Cannot assign requested address\n",
            "on_close() takes 1 positional argument but 3 were given\n",
            "[Errno 99] Cannot assign requested address\n",
            "on_close() takes 1 positional argument but 3 were given\n",
            "[Errno 99] Cannot assign requested address\n",
            "on_close() takes 1 positional argument but 3 were given\n",
            "[Errno 99] Cannot assign requested address\n",
            "on_close() takes 1 positional argument but 3 were given\n",
            "[Errno 99] Cannot assign requested address\n",
            "on_close() takes 1 positional argument but 3 were given\n",
            "[Errno 99] Cannot assign requested address\n",
            "on_close() takes 1 positional argument but 3 were given\n",
            "[Errno 99] Cannot assign requested address\n",
            "on_close() takes 1 positional argument but 3 were given\n",
            "[Errno 99] Cannot assign requested address\n",
            "on_close() takes 1 positional argument but 3 were given\n",
            "[Errno 99] Cannot assign requested address\n",
            "on_close() takes 1 positional argument but 3 were given\n",
            "[Errno 99] Cannot assign requested address\n",
            "on_close() takes 1 positional argument but 3 were given\n",
            "[Errno 99] Cannot assign requested address\n",
            "on_close() takes 1 positional argument but 3 were given\n",
            "[Errno 99] Cannot assign requested address\n",
            "on_close() takes 1 positional argument but 3 were given\n",
            "[Errno 99] Cannot assign requested address\n",
            "on_close() takes 1 positional argument but 3 were given\n",
            "[Errno 99] Cannot assign requested address\n",
            "on_close() takes 1 positional argument but 3 were given\n",
            "[Errno 99] Cannot assign requested address\n",
            "on_close() takes 1 positional argument but 3 were given\n",
            "[Errno 99] Cannot assign requested address\n",
            "on_close() takes 1 positional argument but 3 were given\n",
            "[Errno 99] Cannot assign requested address\n",
            "on_close() takes 1 positional argument but 3 were given\n",
            "[Errno 99] Cannot assign requested address\n",
            "on_close() takes 1 positional argument but 3 were given\n",
            "[Errno 99] Cannot assign requested address\n",
            "on_close() takes 1 positional argument but 3 were given\n",
            "Visdom python client failed to establish socket to get messages from the server. This feature is optional and can be disabled by initializing Visdom with `use_incoming_socket=False`, which will prevent waiting for this request to timeout.\n",
            "[Errno 99] Cannot assign requested address\n",
            "on_close() takes 1 positional argument but 3 were given\n"
          ]
        },
        {
          "output_type": "stream",
          "name": "stdout",
          "text": [
            "waiting\n",
            "waiting\n",
            "waiting\n",
            "waiting\n"
          ]
        },
        {
          "output_type": "stream",
          "name": "stderr",
          "text": [
            "[Errno 99] Cannot assign requested address\n",
            "on_close() takes 1 positional argument but 3 were given\n",
            "[Errno 99] Cannot assign requested address\n",
            "on_close() takes 1 positional argument but 3 were given\n",
            "[Errno 99] Cannot assign requested address\n",
            "on_close() takes 1 positional argument but 3 were given\n",
            "[Errno 99] Cannot assign requested address\n",
            "on_close() takes 1 positional argument but 3 were given\n"
          ]
        },
        {
          "output_type": "stream",
          "name": "stdout",
          "text": [
            "waiting\n",
            "waiting\n",
            "waiting\n",
            "waiting\n",
            "waiting\n",
            "waiting\n",
            "waiting\n",
            "waiting\n",
            "waiting\n",
            "waiting\n"
          ]
        },
        {
          "output_type": "stream",
          "name": "stderr",
          "text": [
            "[Errno 99] Cannot assign requested address\n",
            "on_close() takes 1 positional argument but 3 were given\n"
          ]
        },
        {
          "output_type": "stream",
          "name": "stdout",
          "text": [
            "waiting\n",
            "waiting\n"
          ]
        },
        {
          "output_type": "stream",
          "name": "stderr",
          "text": [
            "[Errno 99] Cannot assign requested address\n",
            "on_close() takes 1 positional argument but 3 were given\n",
            "[Errno 99] Cannot assign requested address\n",
            "on_close() takes 1 positional argument but 3 were given\n",
            "[Errno 99] Cannot assign requested address\n",
            "on_close() takes 1 positional argument but 3 were given\n",
            "[Errno 99] Cannot assign requested address\n",
            "on_close() takes 1 positional argument but 3 were given\n"
          ]
        },
        {
          "output_type": "stream",
          "name": "stdout",
          "text": [
            "waiting\n",
            "waiting\n",
            "waiting\n",
            "waiting\n",
            "waiting\n",
            "waiting\n"
          ]
        },
        {
          "output_type": "stream",
          "name": "stderr",
          "text": [
            "[Errno 99] Cannot assign requested address\n",
            "on_close() takes 1 positional argument but 3 were given\n",
            "[Errno 99] Cannot assign requested address\n",
            "on_close() takes 1 positional argument but 3 were given\n",
            "[Errno 99] Cannot assign requested address\n",
            "on_close() takes 1 positional argument but 3 were given\n",
            "[Errno 99] Cannot assign requested address\n"
          ]
        },
        {
          "output_type": "stream",
          "name": "stdout",
          "text": [
            "waiting\n",
            "waiting\n"
          ]
        },
        {
          "output_type": "stream",
          "name": "stderr",
          "text": [
            "on_close() takes 1 positional argument but 3 were given\n",
            "[Errno 99] Cannot assign requested address\n",
            "on_close() takes 1 positional argument but 3 were given\n",
            "[Errno 99] Cannot assign requested address\n",
            "on_close() takes 1 positional argument but 3 were given\n"
          ]
        },
        {
          "output_type": "stream",
          "name": "stdout",
          "text": [
            "waiting\n",
            "waiting\n"
          ]
        },
        {
          "output_type": "stream",
          "name": "stderr",
          "text": [
            "[Errno 99] Cannot assign requested address\n",
            "on_close() takes 1 positional argument but 3 were given\n"
          ]
        },
        {
          "output_type": "stream",
          "name": "stdout",
          "text": [
            "waiting\n",
            "waiting\n",
            "waiting\n",
            "waiting\n",
            "The visdom experienced an exception while running: AssertionError('No connection could be formed quickly')\n",
            "The demo displays up-to-date functionality with the GitHub version, which may not yet be pushed to pip. Please upgrade using `pip install -e .` or `easy_install .`\n",
            "If this does not resolve the problem, please open an issue on our GitHub.\n"
          ]
        }
      ]
    },
    {
      "cell_type": "code",
      "metadata": {
        "colab": {
          "base_uri": "https://localhost:8080/",
          "height": 1000
        },
        "id": "FKckRKmtYLuQ",
        "outputId": "c60cd729-80b7-43cc-88e7-05a3b5d1a198"
      },
      "source": [
        "import  time\n",
        "import  torch\n",
        "import  visdom\n",
        "from tqdm import tqdm\n",
        "\n",
        "# plt.ion()\n",
        "viz = visdom.Visdom()\n",
        "\n",
        "# db = OmniglotNShot('db/omniglot', batchsz=20, n_way=5, k_shot=5, k_query=15, imgsz=64)\n",
        "\n",
        "# for i in tqdm(range(1)):\n",
        "#         x_spt, y_spt, x_qry, y_qry = db.next('train')\n",
        "\n",
        "\n",
        "#         # [b, setsz, h, w, c] => [b, setsz, c, w, h] => [b, setsz, 3c, w, h]\n",
        "#         x_spt = torch.from_numpy(x_spt)\n",
        "#         x_qry = torch.from_numpy(x_qry)\n",
        "#         y_spt = torch.from_numpy(y_spt)\n",
        "#         y_qry = torch.from_numpy(y_qry)\n",
        "#         batchsz, setsz, c, h, w = x_spt.size()\n",
        "\n",
        "\n",
        "#         viz.images(x_spt[0], nrow=5, win='x_spt', opts=dict(title='x_spt'))\n",
        "#         viz.images(x_qry[0], nrow=15, win='x_qry', opts=dict(title='x_qry'))\n",
        "#         viz.text(str(y_spt[0]), win='y_spt', opts=dict(title='y_spt'))\n",
        "#         viz.text(str(y_qry[0]), win='y_qry', opts=dict(title='y_qry'))"
      ],
      "execution_count": null,
      "outputs": [
        {
          "output_type": "stream",
          "name": "stderr",
          "text": [
            "Setting up a new session...\n",
            "Traceback (most recent call last):\n",
            "  File \"/usr/local/lib/python3.7/dist-packages/urllib3/connection.py\", line 159, in _new_conn\n",
            "    (self._dns_host, self.port), self.timeout, **extra_kw)\n",
            "  File \"/usr/local/lib/python3.7/dist-packages/urllib3/util/connection.py\", line 80, in create_connection\n",
            "    raise err\n",
            "  File \"/usr/local/lib/python3.7/dist-packages/urllib3/util/connection.py\", line 70, in create_connection\n",
            "    sock.connect(sa)\n",
            "ConnectionRefusedError: [Errno 111] Connection refused\n",
            "\n",
            "During handling of the above exception, another exception occurred:\n",
            "\n",
            "Traceback (most recent call last):\n",
            "  File \"/usr/local/lib/python3.7/dist-packages/urllib3/connectionpool.py\", line 600, in urlopen\n",
            "    chunked=chunked)\n",
            "  File \"/usr/local/lib/python3.7/dist-packages/urllib3/connectionpool.py\", line 354, in _make_request\n",
            "    conn.request(method, url, **httplib_request_kw)\n",
            "  File \"/usr/lib/python3.7/http/client.py\", line 1281, in request\n",
            "    self._send_request(method, url, body, headers, encode_chunked)\n",
            "  File \"/usr/lib/python3.7/http/client.py\", line 1327, in _send_request\n",
            "    self.endheaders(body, encode_chunked=encode_chunked)\n",
            "  File \"/usr/lib/python3.7/http/client.py\", line 1276, in endheaders\n",
            "    self._send_output(message_body, encode_chunked=encode_chunked)\n",
            "  File \"/usr/lib/python3.7/http/client.py\", line 1036, in _send_output\n",
            "    self.send(msg)\n",
            "  File \"/usr/lib/python3.7/http/client.py\", line 976, in send\n",
            "    self.connect()\n",
            "  File \"/usr/local/lib/python3.7/dist-packages/urllib3/connection.py\", line 181, in connect\n",
            "    conn = self._new_conn()\n",
            "  File \"/usr/local/lib/python3.7/dist-packages/urllib3/connection.py\", line 168, in _new_conn\n",
            "    self, \"Failed to establish a new connection: %s\" % e)\n",
            "urllib3.exceptions.NewConnectionError: <urllib3.connection.HTTPConnection object at 0x7faf6ac682d0>: Failed to establish a new connection: [Errno 111] Connection refused\n",
            "\n",
            "During handling of the above exception, another exception occurred:\n",
            "\n",
            "Traceback (most recent call last):\n",
            "  File \"/usr/local/lib/python3.7/dist-packages/requests/adapters.py\", line 449, in send\n",
            "    timeout=timeout\n",
            "  File \"/usr/local/lib/python3.7/dist-packages/urllib3/connectionpool.py\", line 638, in urlopen\n",
            "    _stacktrace=sys.exc_info()[2])\n",
            "  File \"/usr/local/lib/python3.7/dist-packages/urllib3/util/retry.py\", line 399, in increment\n",
            "    raise MaxRetryError(_pool, url, error or ResponseError(cause))\n",
            "urllib3.exceptions.MaxRetryError: HTTPConnectionPool(host='localhost', port=8097): Max retries exceeded with url: /env/main (Caused by NewConnectionError('<urllib3.connection.HTTPConnection object at 0x7faf6ac682d0>: Failed to establish a new connection: [Errno 111] Connection refused'))\n",
            "\n",
            "During handling of the above exception, another exception occurred:\n",
            "\n",
            "Traceback (most recent call last):\n",
            "  File \"/usr/local/lib/python3.7/dist-packages/visdom/__init__.py\", line 711, in _send\n",
            "    data=json.dumps(msg),\n",
            "  File \"/usr/local/lib/python3.7/dist-packages/visdom/__init__.py\", line 677, in _handle_post\n",
            "    r = self.session.post(url, data=data)\n",
            "  File \"/usr/local/lib/python3.7/dist-packages/requests/sessions.py\", line 578, in post\n",
            "    return self.request('POST', url, data=data, json=json, **kwargs)\n",
            "  File \"/usr/local/lib/python3.7/dist-packages/requests/sessions.py\", line 530, in request\n",
            "    resp = self.send(prep, **send_kwargs)\n",
            "  File \"/usr/local/lib/python3.7/dist-packages/requests/sessions.py\", line 643, in send\n",
            "    r = adapter.send(request, **kwargs)\n",
            "  File \"/usr/local/lib/python3.7/dist-packages/requests/adapters.py\", line 516, in send\n",
            "    raise ConnectionError(e, request=request)\n",
            "requests.exceptions.ConnectionError: HTTPConnectionPool(host='localhost', port=8097): Max retries exceeded with url: /env/main (Caused by NewConnectionError('<urllib3.connection.HTTPConnection object at 0x7faf6ac682d0>: Failed to establish a new connection: [Errno 111] Connection refused'))\n",
            "[Errno 99] Cannot assign requested address\n",
            "on_close() takes 1 positional argument but 3 were given\n"
          ]
        },
        {
          "output_type": "stream",
          "name": "stdout",
          "text": [
            "Exception in user code:\n",
            "------------------------------------------------------------\n"
          ]
        },
        {
          "output_type": "stream",
          "name": "stderr",
          "text": [
            "[Errno 99] Cannot assign requested address\n",
            "on_close() takes 1 positional argument but 3 were given\n",
            "[Errno 99] Cannot assign requested address\n",
            "on_close() takes 1 positional argument but 3 were given\n",
            "[Errno 99] Cannot assign requested address\n",
            "on_close() takes 1 positional argument but 3 were given\n",
            "[Errno 99] Cannot assign requested address\n",
            "on_close() takes 1 positional argument but 3 were given\n",
            "[Errno 99] Cannot assign requested address\n",
            "on_close() takes 1 positional argument but 3 were given\n",
            "[Errno 99] Cannot assign requested address\n",
            "on_close() takes 1 positional argument but 3 were given\n",
            "[Errno 99] Cannot assign requested address\n",
            "on_close() takes 1 positional argument but 3 were given\n",
            "[Errno 99] Cannot assign requested address\n",
            "on_close() takes 1 positional argument but 3 were given\n",
            "[Errno 99] Cannot assign requested address\n",
            "on_close() takes 1 positional argument but 3 were given\n",
            "[Errno 99] Cannot assign requested address\n",
            "on_close() takes 1 positional argument but 3 were given\n",
            "[Errno 99] Cannot assign requested address\n",
            "on_close() takes 1 positional argument but 3 were given\n",
            "[Errno 99] Cannot assign requested address\n",
            "on_close() takes 1 positional argument but 3 were given\n",
            "[Errno 99] Cannot assign requested address\n",
            "on_close() takes 1 positional argument but 3 were given\n",
            "[Errno 99] Cannot assign requested address\n",
            "on_close() takes 1 positional argument but 3 were given\n",
            "[Errno 99] Cannot assign requested address\n",
            "on_close() takes 1 positional argument but 3 were given\n",
            "[Errno 99] Cannot assign requested address\n",
            "on_close() takes 1 positional argument but 3 were given\n",
            "[Errno 99] Cannot assign requested address\n",
            "on_close() takes 1 positional argument but 3 were given\n",
            "[Errno 99] Cannot assign requested address\n",
            "on_close() takes 1 positional argument but 3 were given\n",
            "[Errno 99] Cannot assign requested address\n",
            "on_close() takes 1 positional argument but 3 were given\n"
          ]
        },
        {
          "output_type": "error",
          "ename": "KeyboardInterrupt",
          "evalue": "ignored",
          "traceback": [
            "\u001b[0;31m---------------------------------------------------------------------------\u001b[0m",
            "\u001b[0;31mKeyboardInterrupt\u001b[0m                         Traceback (most recent call last)",
            "\u001b[0;32m<ipython-input-29-0eb1182099ff>\u001b[0m in \u001b[0;36m<module>\u001b[0;34m()\u001b[0m\n\u001b[1;32m      5\u001b[0m \u001b[0;34m\u001b[0m\u001b[0m\n\u001b[1;32m      6\u001b[0m \u001b[0;31m# plt.ion()\u001b[0m\u001b[0;34m\u001b[0m\u001b[0;34m\u001b[0m\u001b[0;34m\u001b[0m\u001b[0m\n\u001b[0;32m----> 7\u001b[0;31m \u001b[0mviz\u001b[0m \u001b[0;34m=\u001b[0m \u001b[0mvisdom\u001b[0m\u001b[0;34m.\u001b[0m\u001b[0mVisdom\u001b[0m\u001b[0;34m(\u001b[0m\u001b[0;34m)\u001b[0m\u001b[0;34m\u001b[0m\u001b[0;34m\u001b[0m\u001b[0m\n\u001b[0m\u001b[1;32m      8\u001b[0m \u001b[0;34m\u001b[0m\u001b[0m\n\u001b[1;32m      9\u001b[0m \u001b[0;31m# db = OmniglotNShot('db/omniglot', batchsz=20, n_way=5, k_shot=5, k_query=15, imgsz=64)\u001b[0m\u001b[0;34m\u001b[0m\u001b[0;34m\u001b[0m\u001b[0;34m\u001b[0m\u001b[0m\n",
            "\u001b[0;32m/usr/local/lib/python3.7/dist-packages/visdom/__init__.py\u001b[0m in \u001b[0;36m__init__\u001b[0;34m(self, server, endpoint, port, base_url, ipv6, http_proxy_host, http_proxy_port, env, send, raise_exceptions, use_incoming_socket, log_to_filename, username, password, proxies, offline, use_polling)\u001b[0m\n\u001b[1;32m    487\u001b[0m         \u001b[0minc\u001b[0m \u001b[0;34m=\u001b[0m \u001b[0;36m0.1\u001b[0m\u001b[0;34m\u001b[0m\u001b[0;34m\u001b[0m\u001b[0m\n\u001b[1;32m    488\u001b[0m         \u001b[0;32mwhile\u001b[0m \u001b[0mself\u001b[0m\u001b[0;34m.\u001b[0m\u001b[0muse_socket\u001b[0m \u001b[0;32mand\u001b[0m \u001b[0;32mnot\u001b[0m \u001b[0mself\u001b[0m\u001b[0;34m.\u001b[0m\u001b[0msocket_alive\u001b[0m \u001b[0;32mand\u001b[0m \u001b[0mtime_spent\u001b[0m \u001b[0;34m<\u001b[0m \u001b[0;36m5\u001b[0m\u001b[0;34m:\u001b[0m\u001b[0;34m\u001b[0m\u001b[0;34m\u001b[0m\u001b[0m\n\u001b[0;32m--> 489\u001b[0;31m             \u001b[0mtime\u001b[0m\u001b[0;34m.\u001b[0m\u001b[0msleep\u001b[0m\u001b[0;34m(\u001b[0m\u001b[0minc\u001b[0m\u001b[0;34m)\u001b[0m\u001b[0;34m\u001b[0m\u001b[0;34m\u001b[0m\u001b[0m\n\u001b[0m\u001b[1;32m    490\u001b[0m             \u001b[0mtime_spent\u001b[0m \u001b[0;34m+=\u001b[0m \u001b[0minc\u001b[0m\u001b[0;34m\u001b[0m\u001b[0;34m\u001b[0m\u001b[0m\n\u001b[1;32m    491\u001b[0m             \u001b[0minc\u001b[0m \u001b[0;34m*=\u001b[0m \u001b[0;36m2\u001b[0m\u001b[0;34m\u001b[0m\u001b[0;34m\u001b[0m\u001b[0m\n",
            "\u001b[0;31mKeyboardInterrupt\u001b[0m: "
          ]
        }
      ]
    },
    {
      "cell_type": "code",
      "metadata": {
        "colab": {
          "base_uri": "https://localhost:8080/"
        },
        "id": "P-zom7VUIn5U",
        "outputId": "437541bd-b2e7-4942-d381-a8b71c02f65c"
      },
      "source": [
        "ds = Omniglot('data/', download=True, transform=Compose([lambda x: Image.open(x).convert('L'),\n",
        "                                                         lambda x: x.resize((64, 64)),\n",
        "                                                         lambda x: np.reshape(x, (64, 64, 1)),\n",
        "                                                         lambda x: np.transpose(x, [2, 0, 1]),\n",
        "                                                         lambda x: x/255.])\n",
        ")"
      ],
      "execution_count": null,
      "outputs": [
        {
          "output_type": "stream",
          "name": "stdout",
          "text": [
            "Files already downloaded and verified\n"
          ]
        }
      ]
    },
    {
      "cell_type": "code",
      "metadata": {
        "id": "_g2zpF-PY3X0"
      },
      "source": [
        "# !wget https://github.com/brendenlake/omniglot/raw/master/python/images_evaluation.zip\n",
        "# !wget https://github.com/brendenlake/omniglot/raw/master/python/images_background.zip\n",
        "# !unzip -qq images_background.zip\n",
        "# !unzip -qq images_evaluation.zip"
      ],
      "execution_count": null,
      "outputs": []
    },
    {
      "cell_type": "markdown",
      "metadata": {
        "id": "Drifnw9_ZDg5"
      },
      "source": [
        "# Read Data"
      ]
    },
    {
      "cell_type": "markdown",
      "metadata": {
        "id": "y-H38Hw0Y7EV"
      },
      "source": [
        "The Omniglot dataset contains 1,623 different handwritten characters from 50 different alphabets. Each of the 1623 characters was drawn online via Amazon's Mechanical Turk by 20 different people (so 20 examples per character).\n",
        "It is split into a background set of 30 alphabets and an evaluation set of 20 alphabets. We will use the background set for training and the evaluation set for testing."
      ]
    },
    {
      "cell_type": "code",
      "metadata": {
        "id": "B1sfeY_4ZJUS"
      },
      "source": [
        "import multiprocessing as mp\n",
        "import os\n",
        "import cv2\n",
        "from scipy import ndimage\n",
        "\n",
        "def read_alphabets(alphabet_directory_path, alphabet_directory_name):\n",
        "    \"\"\"\n",
        "    Reads all the characters from a given alphabet_directory\n",
        "    \"\"\"\n",
        "    datax = []\n",
        "    datay = []\n",
        "    characters = os.listdir(alphabet_directory_path)\n",
        "    for character in characters:\n",
        "        images = os.listdir(alphabet_directory_path + character + '/')\n",
        "        for img in images:\n",
        "            image = cv2.resize(\n",
        "                cv2.imread(alphabet_directory_path + character + '/' + img),\n",
        "                (28,28)\n",
        "                )\n",
        "            #rotations of image\n",
        "            rotated_90 = ndimage.rotate(image, 90)\n",
        "            rotated_180 = ndimage.rotate(image, 180)\n",
        "            rotated_270 = ndimage.rotate(image, 270)\n",
        "            datax.extend((image, rotated_90, rotated_180, rotated_270))\n",
        "            datay.extend((\n",
        "                alphabet_directory_name + '_' + character + '_0',\n",
        "                alphabet_directory_name + '_' + character + '_90',\n",
        "                alphabet_directory_name + '_' + character + '_180',\n",
        "                alphabet_directory_name + '_' + character + '_270'\n",
        "            ))\n",
        "    return np.array(datax), np.array(datay)\n",
        "\n",
        "def read_images(base_directory):\n",
        "    \"\"\"\n",
        "    Reads all the alphabets from the base_directory\n",
        "    Uses multithreading to decrease the reading time drastically\n",
        "    \"\"\"\n",
        "    datax = None\n",
        "    datay = None\n",
        "    pool = mp.Pool(mp.cpu_count())\n",
        "    results = [pool.apply(read_alphabets,\n",
        "                          args=(\n",
        "                              base_directory + '/' + directory + '/', directory, \n",
        "                              )) for directory in os.listdir(base_directory)]\n",
        "    pool.close()\n",
        "    for result in results:\n",
        "        if datax is None:\n",
        "            datax = result[0]\n",
        "            datay = result[1]\n",
        "        else:\n",
        "            datax = np.vstack([datax, result[0]])\n",
        "            datay = np.concatenate([datay, result[1]])\n",
        "    return datax, datay"
      ],
      "execution_count": null,
      "outputs": []
    },
    {
      "cell_type": "code",
      "metadata": {
        "colab": {
          "base_uri": "https://localhost:8080/"
        },
        "id": "vKltmwcwZeqz",
        "outputId": "d2a0e2e6-bb50-44cd-d274-ba573477c609"
      },
      "source": [
        "%%time \n",
        "trainx, trainy = read_images('images_background')"
      ],
      "execution_count": null,
      "outputs": [
        {
          "output_type": "stream",
          "name": "stdout",
          "text": [
            "CPU times: user 1.26 s, sys: 1.74 s, total: 3 s\n",
            "Wall time: 42 s\n"
          ]
        }
      ]
    },
    {
      "cell_type": "code",
      "metadata": {
        "colab": {
          "base_uri": "https://localhost:8080/"
        },
        "id": "E5iAEC9zZgsC",
        "outputId": "256ffe14-6ab8-49a8-a2fd-989e0b25b25c"
      },
      "source": [
        "%%time \n",
        "testx, testy = read_images('images_evaluation')"
      ],
      "execution_count": null,
      "outputs": [
        {
          "output_type": "stream",
          "name": "stdout",
          "text": [
            "CPU times: user 624 ms, sys: 763 ms, total: 1.39 s\n",
            "Wall time: 27.9 s\n"
          ]
        }
      ]
    },
    {
      "cell_type": "code",
      "metadata": {
        "colab": {
          "base_uri": "https://localhost:8080/"
        },
        "id": "kqAjGhjhZ3jc",
        "outputId": "f0b131c2-d520-447e-aebd-32f0c29547fa"
      },
      "source": [
        "trainx.shape, trainy.shape, testx.shape, testy.shape"
      ],
      "execution_count": null,
      "outputs": [
        {
          "output_type": "execute_result",
          "data": {
            "text/plain": [
              "((77120, 28, 28, 3), (77120,), (52720, 28, 28, 3), (52720,))"
            ]
          },
          "metadata": {},
          "execution_count": 45
        }
      ]
    },
    {
      "cell_type": "markdown",
      "metadata": {
        "id": "YuCyt3N6Z5VV"
      },
      "source": [
        "The training set contains 77,120 images (from 964 * 4 = 3,856 characters in images_background) and the testing set contains 52,720 images (from 659 * 4 = 2,636 characters in images_evaluation)."
      ]
    },
    {
      "cell_type": "markdown",
      "metadata": {
        "id": "y7SNr3wRaURA"
      },
      "source": [
        "# Create samples"
      ]
    },
    {
      "cell_type": "code",
      "metadata": {
        "id": "y7BlrQDxaWm0"
      },
      "source": [
        "import torchvision\n",
        "def extract_sample(n_way, n_support, n_query, datax, datay):\n",
        "  \"\"\"\n",
        "  Picks random sample of size n_support+n_querry, for n_way classes\n",
        "  Args:\n",
        "      n_way (int): number of classes in a classification task\n",
        "      n_support (int): number of labeled examples per class in the support set\n",
        "      n_query (int): number of labeled examples per class in the query set\n",
        "      datax (np.array): dataset of images\n",
        "      datay (np.array): dataset of labels\n",
        "  Returns:\n",
        "      (dict) of:\n",
        "        (torch.Tensor): sample of images. Size (n_way, n_support+n_query, (dim))\n",
        "        (int): n_way\n",
        "        (int): n_support\n",
        "        (int): n_query\n",
        "  \"\"\"\n",
        "  sample = []\n",
        "  K = np.random.choice(np.unique(datay), n_way, replace=False)\n",
        "  for cls in K:\n",
        "    datax_cls = datax[datay == cls]\n",
        "    perm = np.random.permutation(datax_cls)\n",
        "    sample_cls = perm[:(n_support+n_query)]\n",
        "    sample.append(sample_cls)\n",
        "  sample = np.array(sample)\n",
        "  sample = torch.from_numpy(sample).float()\n",
        "  sample = sample.permute(0,1,4,2,3)\n",
        "  return({\n",
        "      'images': sample,\n",
        "      'n_way': n_way,\n",
        "      'n_support': n_support,\n",
        "      'n_query': n_query\n",
        "      })"
      ],
      "execution_count": null,
      "outputs": []
    },
    {
      "cell_type": "code",
      "metadata": {
        "id": "cLM54IcFaZzK"
      },
      "source": [
        "def display_sample(sample):\n",
        "  \"\"\"\n",
        "  Displays sample in a grid\n",
        "  Args:\n",
        "      sample (torch.Tensor): sample of images to display\n",
        "  \"\"\"\n",
        "  #need 4D tensor to create grid, currently 5D\n",
        "  sample_4D = sample.view(sample.shape[0]*sample.shape[1],*sample.shape[2:])\n",
        "  #make a grid\n",
        "  out = torchvision.utils.make_grid(sample_4D, nrow=sample.shape[1])\n",
        "  plt.figure(figsize = (16,7))\n",
        "  plt.imshow(out.permute(1, 2, 0))"
      ],
      "execution_count": null,
      "outputs": []
    },
    {
      "cell_type": "markdown",
      "metadata": {
        "id": "blzEHUqkabw3"
      },
      "source": [
        "As an example, let's pick a sample and display it\n",
        "\n",
        "*   n_way = 8\n",
        "*   n_support = 5\n",
        "*   n_query = 5"
      ]
    },
    {
      "cell_type": "code",
      "metadata": {
        "colab": {
          "base_uri": "https://localhost:8080/",
          "height": 469
        },
        "id": "e2Qe5Qg-aeog",
        "outputId": "379e9d3f-133f-4a7a-d75d-0417a8006070"
      },
      "source": [
        "sample_example = extract_sample(8, 5, 5, trainx, trainy)\n",
        "display_sample(sample_example['images'])"
      ],
      "execution_count": null,
      "outputs": [
        {
          "output_type": "stream",
          "name": "stderr",
          "text": [
            "Clipping input data to the valid range for imshow with RGB data ([0..1] for floats or [0..255] for integers).\n"
          ]
        },
        {
          "output_type": "display_data",
          "data": {
            "image/png": "[encoded data removed]",
            "text/plain": [
              "<Figure size 1152x504 with 1 Axes>"
            ]
          },
          "metadata": {
            "needs_background": "light"
          }
        }
      ]
    },
    {
      "cell_type": "code",
      "metadata": {
        "colab": {
          "base_uri": "https://localhost:8080/"
        },
        "id": "7KdX-iErasi9",
        "outputId": "7ddf826c-1955-452f-8afc-e0bea6064836"
      },
      "source": [
        "sample_example['images'].shape"
      ],
      "execution_count": null,
      "outputs": [
        {
          "output_type": "execute_result",
          "data": {
            "text/plain": [
              "torch.Size([8, 10, 3, 28, 28])"
            ]
          },
          "metadata": {},
          "execution_count": 53
        }
      ]
    },
    {
      "cell_type": "code",
      "metadata": {
        "id": "fcJiXD-JJ8xH"
      },
      "source": [
        "temp = dict() # {label:img1, img2..., 20 imgs, label2: img1, img2,... in total, 1623 label}"
      ],
      "execution_count": null,
      "outputs": []
    },
    {
      "cell_type": "code",
      "metadata": {
        "colab": {
          "base_uri": "https://localhost:8080/",
          "height": 374
        },
        "id": "FILKr6-TKCTL",
        "outputId": "1bb0239e-8e6c-4555-a108-35f4c65e171b"
      },
      "source": [
        "for (img, label) in ds:\n",
        "  if label in temp.keys(): \n",
        "    temp[label].append(img)\n",
        "  else: \n",
        "    temp[label] = [img]"
      ],
      "execution_count": null,
      "outputs": [
        {
          "output_type": "error",
          "ename": "AttributeError",
          "evalue": "ignored",
          "traceback": [
            "\u001b[0;31m---------------------------------------------------------------------------\u001b[0m",
            "\u001b[0;31mAttributeError\u001b[0m                            Traceback (most recent call last)",
            "\u001b[0;32m<ipython-input-66-6045aa628fa9>\u001b[0m in \u001b[0;36m<module>\u001b[0;34m()\u001b[0m\n\u001b[0;32m----> 1\u001b[0;31m \u001b[0;32mfor\u001b[0m \u001b[0;34m(\u001b[0m\u001b[0mimg\u001b[0m\u001b[0;34m,\u001b[0m \u001b[0mlabel\u001b[0m\u001b[0;34m)\u001b[0m \u001b[0;32min\u001b[0m \u001b[0mds\u001b[0m\u001b[0;34m:\u001b[0m\u001b[0;34m\u001b[0m\u001b[0;34m\u001b[0m\u001b[0m\n\u001b[0m\u001b[1;32m      2\u001b[0m   \u001b[0;32mif\u001b[0m \u001b[0mlabel\u001b[0m \u001b[0;32min\u001b[0m \u001b[0mtemp\u001b[0m\u001b[0;34m.\u001b[0m\u001b[0mkeys\u001b[0m\u001b[0;34m(\u001b[0m\u001b[0;34m)\u001b[0m\u001b[0;34m:\u001b[0m\u001b[0;34m\u001b[0m\u001b[0;34m\u001b[0m\u001b[0m\n\u001b[1;32m      3\u001b[0m     \u001b[0mtemp\u001b[0m\u001b[0;34m[\u001b[0m\u001b[0mlabel\u001b[0m\u001b[0;34m]\u001b[0m\u001b[0;34m.\u001b[0m\u001b[0mappend\u001b[0m\u001b[0;34m(\u001b[0m\u001b[0mimg\u001b[0m\u001b[0;34m)\u001b[0m\u001b[0;34m\u001b[0m\u001b[0;34m\u001b[0m\u001b[0m\n\u001b[1;32m      4\u001b[0m   \u001b[0;32melse\u001b[0m\u001b[0;34m:\u001b[0m\u001b[0;34m\u001b[0m\u001b[0;34m\u001b[0m\u001b[0m\n\u001b[1;32m      5\u001b[0m     \u001b[0mtemp\u001b[0m\u001b[0;34m[\u001b[0m\u001b[0mlabel\u001b[0m\u001b[0;34m]\u001b[0m \u001b[0;34m=\u001b[0m \u001b[0;34m[\u001b[0m\u001b[0mimg\u001b[0m\u001b[0;34m]\u001b[0m\u001b[0;34m\u001b[0m\u001b[0;34m\u001b[0m\u001b[0m\n",
            "\u001b[0;32m/usr/local/lib/python3.7/dist-packages/torchvision/datasets/omniglot.py\u001b[0m in \u001b[0;36m__getitem__\u001b[0;34m(self, index)\u001b[0m\n\u001b[1;32m     72\u001b[0m \u001b[0;34m\u001b[0m\u001b[0m\n\u001b[1;32m     73\u001b[0m         \u001b[0;32mif\u001b[0m \u001b[0mself\u001b[0m\u001b[0;34m.\u001b[0m\u001b[0mtransform\u001b[0m\u001b[0;34m:\u001b[0m\u001b[0;34m\u001b[0m\u001b[0;34m\u001b[0m\u001b[0m\n\u001b[0;32m---> 74\u001b[0;31m             \u001b[0mimage\u001b[0m \u001b[0;34m=\u001b[0m \u001b[0mself\u001b[0m\u001b[0;34m.\u001b[0m\u001b[0mtransform\u001b[0m\u001b[0;34m(\u001b[0m\u001b[0mimage\u001b[0m\u001b[0;34m)\u001b[0m\u001b[0;34m\u001b[0m\u001b[0;34m\u001b[0m\u001b[0m\n\u001b[0m\u001b[1;32m     75\u001b[0m \u001b[0;34m\u001b[0m\u001b[0m\n\u001b[1;32m     76\u001b[0m         \u001b[0;32mif\u001b[0m \u001b[0mself\u001b[0m\u001b[0;34m.\u001b[0m\u001b[0mtarget_transform\u001b[0m\u001b[0;34m:\u001b[0m\u001b[0;34m\u001b[0m\u001b[0;34m\u001b[0m\u001b[0m\n",
            "\u001b[0;32m/usr/local/lib/python3.7/dist-packages/torchvision/transforms/transforms.py\u001b[0m in \u001b[0;36m__call__\u001b[0;34m(self, img)\u001b[0m\n\u001b[1;32m     58\u001b[0m     \u001b[0;32mdef\u001b[0m \u001b[0m__call__\u001b[0m\u001b[0;34m(\u001b[0m\u001b[0mself\u001b[0m\u001b[0;34m,\u001b[0m \u001b[0mimg\u001b[0m\u001b[0;34m)\u001b[0m\u001b[0;34m:\u001b[0m\u001b[0;34m\u001b[0m\u001b[0;34m\u001b[0m\u001b[0m\n\u001b[1;32m     59\u001b[0m         \u001b[0;32mfor\u001b[0m \u001b[0mt\u001b[0m \u001b[0;32min\u001b[0m \u001b[0mself\u001b[0m\u001b[0;34m.\u001b[0m\u001b[0mtransforms\u001b[0m\u001b[0;34m:\u001b[0m\u001b[0;34m\u001b[0m\u001b[0;34m\u001b[0m\u001b[0m\n\u001b[0;32m---> 60\u001b[0;31m             \u001b[0mimg\u001b[0m \u001b[0;34m=\u001b[0m \u001b[0mt\u001b[0m\u001b[0;34m(\u001b[0m\u001b[0mimg\u001b[0m\u001b[0;34m)\u001b[0m\u001b[0;34m\u001b[0m\u001b[0;34m\u001b[0m\u001b[0m\n\u001b[0m\u001b[1;32m     61\u001b[0m         \u001b[0;32mreturn\u001b[0m \u001b[0mimg\u001b[0m\u001b[0;34m\u001b[0m\u001b[0;34m\u001b[0m\u001b[0m\n\u001b[1;32m     62\u001b[0m \u001b[0;34m\u001b[0m\u001b[0m\n",
            "\u001b[0;32m<ipython-input-64-76694fbd2111>\u001b[0m in \u001b[0;36m<lambda>\u001b[0;34m(x)\u001b[0m\n\u001b[0;32m----> 1\u001b[0;31m ds = Omniglot('data/', download=True, transform=Compose([lambda x: Image.open(x).convert('L'),\n\u001b[0m\u001b[1;32m      2\u001b[0m                                                          \u001b[0;32mlambda\u001b[0m \u001b[0mx\u001b[0m\u001b[0;34m:\u001b[0m \u001b[0mx\u001b[0m\u001b[0;34m.\u001b[0m\u001b[0mresize\u001b[0m\u001b[0;34m(\u001b[0m\u001b[0;34m(\u001b[0m\u001b[0;36m64\u001b[0m\u001b[0;34m,\u001b[0m \u001b[0;36m64\u001b[0m\u001b[0;34m)\u001b[0m\u001b[0;34m)\u001b[0m\u001b[0;34m,\u001b[0m\u001b[0;34m\u001b[0m\u001b[0;34m\u001b[0m\u001b[0m\n\u001b[1;32m      3\u001b[0m                                                          \u001b[0;32mlambda\u001b[0m \u001b[0mx\u001b[0m\u001b[0;34m:\u001b[0m \u001b[0mnp\u001b[0m\u001b[0;34m.\u001b[0m\u001b[0mreshape\u001b[0m\u001b[0;34m(\u001b[0m\u001b[0mx\u001b[0m\u001b[0;34m,\u001b[0m \u001b[0;34m(\u001b[0m\u001b[0;36m64\u001b[0m\u001b[0;34m,\u001b[0m \u001b[0;36m64\u001b[0m\u001b[0;34m,\u001b[0m \u001b[0;36m1\u001b[0m\u001b[0;34m)\u001b[0m\u001b[0;34m)\u001b[0m\u001b[0;34m,\u001b[0m\u001b[0;34m\u001b[0m\u001b[0;34m\u001b[0m\u001b[0m\n\u001b[1;32m      4\u001b[0m                                                          \u001b[0;32mlambda\u001b[0m \u001b[0mx\u001b[0m\u001b[0;34m:\u001b[0m \u001b[0mnp\u001b[0m\u001b[0;34m.\u001b[0m\u001b[0mtranspose\u001b[0m\u001b[0;34m(\u001b[0m\u001b[0mx\u001b[0m\u001b[0;34m,\u001b[0m \u001b[0;34m[\u001b[0m\u001b[0;36m2\u001b[0m\u001b[0;34m,\u001b[0m \u001b[0;36m0\u001b[0m\u001b[0;34m,\u001b[0m \u001b[0;36m1\u001b[0m\u001b[0;34m]\u001b[0m\u001b[0;34m)\u001b[0m\u001b[0;34m,\u001b[0m\u001b[0;34m\u001b[0m\u001b[0;34m\u001b[0m\u001b[0m\n\u001b[1;32m      5\u001b[0m                                                          lambda x: x/255.])\n",
            "\u001b[0;32m/usr/local/lib/python3.7/dist-packages/PIL/Image.py\u001b[0m in \u001b[0;36mopen\u001b[0;34m(fp, mode)\u001b[0m\n\u001b[1;32m   2850\u001b[0m         \u001b[0mexclusive_fp\u001b[0m \u001b[0;34m=\u001b[0m \u001b[0;32mTrue\u001b[0m\u001b[0;34m\u001b[0m\u001b[0;34m\u001b[0m\u001b[0m\n\u001b[1;32m   2851\u001b[0m \u001b[0;34m\u001b[0m\u001b[0m\n\u001b[0;32m-> 2852\u001b[0;31m     \u001b[0mprefix\u001b[0m \u001b[0;34m=\u001b[0m \u001b[0mfp\u001b[0m\u001b[0;34m.\u001b[0m\u001b[0mread\u001b[0m\u001b[0;34m(\u001b[0m\u001b[0;36m16\u001b[0m\u001b[0;34m)\u001b[0m\u001b[0;34m\u001b[0m\u001b[0;34m\u001b[0m\u001b[0m\n\u001b[0m\u001b[1;32m   2853\u001b[0m \u001b[0;34m\u001b[0m\u001b[0m\n\u001b[1;32m   2854\u001b[0m     \u001b[0mpreinit\u001b[0m\u001b[0;34m(\u001b[0m\u001b[0;34m)\u001b[0m\u001b[0;34m\u001b[0m\u001b[0;34m\u001b[0m\u001b[0m\n",
            "\u001b[0;31mAttributeError\u001b[0m: 'Image' object has no attribute 'read'"
          ]
        }
      ]
    },
    {
      "cell_type": "code",
      "metadata": {
        "colab": {
          "base_uri": "https://localhost:8080/"
        },
        "id": "EeI5SpFKLb8p",
        "outputId": "051b152c-944f-4f66-f861-df36754cd0e0"
      },
      "source": [
        "len(temp)"
      ],
      "execution_count": null,
      "outputs": [
        {
          "output_type": "execute_result",
          "data": {
            "text/plain": [
              "964"
            ]
          },
          "metadata": {},
          "execution_count": 62
        }
      ]
    },
    {
      "cell_type": "code",
      "metadata": {
        "id": "tI0rdNJoLove"
      },
      "source": [
        "ds = []"
      ],
      "execution_count": null,
      "outputs": []
    },
    {
      "cell_type": "code",
      "metadata": {
        "id": "fquEZwV4LqVl"
      },
      "source": [
        "for label, imgs in temp.items(): # labels info deserted , each label contains 20imgs\n",
        "  ds.append(np.array(imgs))"
      ],
      "execution_count": null,
      "outputs": []
    },
    {
      "cell_type": "code",
      "metadata": {
        "id": "8BZqgFAJMG2P"
      },
      "source": [
        "ds = np.array(ds).astype(np.float) # [[20 imgs],..., 1623 classes in total]"
      ],
      "execution_count": null,
      "outputs": []
    },
    {
      "cell_type": "code",
      "metadata": {
        "colab": {
          "base_uri": "https://localhost:8080/"
        },
        "id": "VIO-J575OX42",
        "outputId": "67d10abe-1185-4a38-a615-86b13e5f887b"
      },
      "source": [
        "# each character contains 20 imgs\n",
        "print('data shape:', ds.shape) # [1623, 20, 84, 84, 1]"
      ],
      "execution_count": null,
      "outputs": [
        {
          "output_type": "stream",
          "name": "stdout",
          "text": [
            "data shape: (964, 20, 1, 84, 84)\n"
          ]
        }
      ]
    },
    {
      "cell_type": "code",
      "metadata": {
        "id": "EcEv6RCtOxHE"
      },
      "source": [
        "temp = [] # Free memory"
      ],
      "execution_count": null,
      "outputs": []
    },
    {
      "cell_type": "code",
      "metadata": {
        "id": "H4uXglHxPOUT"
      },
      "source": [
        "ds_train, ds_test = ds[:1200], ds[1200:]"
      ],
      "execution_count": null,
      "outputs": []
    },
    {
      "cell_type": "code",
      "metadata": {
        "colab": {
          "base_uri": "https://localhost:8080/"
        },
        "id": "ZcmNy52WRF7a",
        "outputId": "aee71813-57f8-415d-811d-85223ae86e3a"
      },
      "source": [
        "len(ds_train), len(ds_test)"
      ],
      "execution_count": null,
      "outputs": [
        {
          "output_type": "execute_result",
          "data": {
            "text/plain": [
              "(964, 0)"
            ]
          },
          "metadata": {},
          "execution_count": 15
        }
      ]
    },
    {
      "cell_type": "code",
      "metadata": {
        "id": "6IUALMcz-IJa",
        "colab": {
          "base_uri": "https://localhost:8080/",
          "height": 319
        },
        "outputId": "9025b0c1-bbcd-46de-8b65-9c29a4b92d87"
      },
      "source": [
        "%matplotlib inline\n",
        "image, label = dataset[0]\n",
        "print('image.shape:', image.shape)\n",
        "plt.imshow(image[0],cmap='gray')\n",
        "print('Label:', label)\n",
        "len(dataset)"
      ],
      "execution_count": null,
      "outputs": [
        {
          "output_type": "stream",
          "name": "stdout",
          "text": [
            "image.shape: torch.Size([1, 105, 105])\n",
            "Label: 0\n"
          ]
        },
        {
          "output_type": "execute_result",
          "data": {
            "text/plain": [
              "19280"
            ]
          },
          "metadata": {},
          "execution_count": 38
        },
        {
          "output_type": "display_data",
          "data": {
            "image/png": "[encoded data removed]",
            "text/plain": [
              "<Figure size 432x288 with 1 Axes>"
            ]
          },
          "metadata": {
            "needs_background": "light"
          }
        }
      ]
    },
    {
      "cell_type": "code",
      "metadata": {
        "id": "YqwaF3379jCN"
      },
      "source": [
        "def split_indices(n, test_percentage):\n",
        "  # Determine size of test set\n",
        "  n_test = int(test_percentage*n)\n",
        "  # Create random permutation of 0 to n-1\n",
        "  idxs = np.random.permutation(n)\n",
        "  # Pick first n_test indices for test set\n",
        "  return idxs[n_test:], idxs[:n_test]"
      ],
      "execution_count": null,
      "outputs": []
    },
    {
      "cell_type": "code",
      "metadata": {
        "colab": {
          "base_uri": "https://localhost:8080/"
        },
        "id": "iYiKMclDC_4W",
        "outputId": "f54afca7-ea4a-4a3c-e352-f7e335e5b400"
      },
      "source": [
        "train_indices, test_indices = split_indices(len(dataset), test_percentage=.2)\n",
        "print(len(train_indices), len(test_indices))\n",
        "print('Sample test indices: ', test_indices[:20])"
      ],
      "execution_count": null,
      "outputs": [
        {
          "output_type": "stream",
          "name": "stdout",
          "text": [
            "15424 3856\n",
            "Sample test indices:  [ 2247 16641  3557  3230 14350   614  4876  3999 14459  8493  5451  9993\n",
            "  2449 15385 16276 18856 17646  8595 14122 15830]\n"
          ]
        }
      ]
    },
    {
      "cell_type": "code",
      "metadata": {
        "colab": {
          "base_uri": "https://localhost:8080/",
          "height": 319
        },
        "id": "maqH2cmtDeoy",
        "outputId": "325cf6d8-7407-4288-951d-a7bb5a8600d5"
      },
      "source": [
        "from torch.utils.data import random_split\n",
        "batch_size = 100\n",
        "\n",
        "training_data, test_data = random_split(dataset, [len(train_indices), len(test_indices)])\n",
        "len(training_data), len(test_ds)\n",
        "image, label = training_data[0]\n",
        "print('image.shape:', image.shape)\n",
        "plt.imshow(image[0],cmap='gray')\n",
        "print('Label:', label)\n",
        "len(dataset)"
      ],
      "execution_count": null,
      "outputs": [
        {
          "output_type": "stream",
          "name": "stdout",
          "text": [
            "image.shape: torch.Size([1, 105, 105])\n",
            "Label: 688\n"
          ]
        },
        {
          "output_type": "execute_result",
          "data": {
            "text/plain": [
              "19280"
            ]
          },
          "metadata": {},
          "execution_count": 48
        },
        {
          "output_type": "display_data",
          "data": {
            "image/png": "[encoded data removed]",
            "text/plain": [
              "<Figure size 432x288 with 1 Axes>"
            ]
          },
          "metadata": {
            "needs_background": "light"
          }
        }
      ]
    },
    {
      "cell_type": "code",
      "metadata": {
        "id": "ybTyR5T49jCY"
      },
      "source": [
        ""
      ],
      "execution_count": null,
      "outputs": []
    },
    {
      "cell_type": "code",
      "metadata": {
        "id": "Ss6f5hgs9jCZ"
      },
      "source": [
        "# len(train_ds), len(test_ds)\n",
        "\n",
        "# # Training sampler and data loader \n",
        "# train_sampler = SubsetRandomSampler(train_indices)\n",
        "# train_dl = DataLoader(dataset, batch_size, sampler=train_sampler)\n",
        "\n",
        "# # Test sampler and data loader \n",
        "# test_sampler = SubsetRandomSampler(test_indices)\n",
        "# test_dl = DataLoader(dataset, batch_size, sampler=test_sampler)"
      ],
      "execution_count": null,
      "outputs": []
    }
  ]
}