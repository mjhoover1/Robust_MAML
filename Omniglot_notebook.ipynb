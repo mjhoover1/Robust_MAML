{
  "nbformat": 4,
  "nbformat_minor": 0,
  "metadata": {
    "colab": {
      "name": "Omniglot_notebook.ipynb",
      "provenance": [],
      "collapsed_sections": [],
      "authorship_tag": "ABX9TyN+LkT5JTaWj+6eKcENGt8E",
      "include_colab_link": true
    },
    "kernelspec": {
      "name": "python3",
      "display_name": "Python 3"
    },
    "language_info": {
      "name": "python"
    },
    "widgets": {
      "application/vnd.jupyter.widget-state+json": {
        "097a6ba1c70f436d89601ef726b787bc": {
          "model_module": "@jupyter-widgets/controls",
          "model_name": "HBoxModel",
          "model_module_version": "1.5.0",
          "state": {
            "_view_name": "HBoxView",
            "_dom_classes": [],
            "_model_name": "HBoxModel",
            "_view_module": "@jupyter-widgets/controls",
            "_model_module_version": "1.5.0",
            "_view_count": null,
            "_view_module_version": "1.5.0",
            "box_style": "",
            "layout": "IPY_MODEL_14589dd90e0b457a82cb069fc66208e0",
            "_model_module": "@jupyter-widgets/controls",
            "children": [
              "IPY_MODEL_d461e6c7b69c4d1f9e38e41c085a176b",
              "IPY_MODEL_c0cef75e102d4bccb9ae9c808a896155",
              "IPY_MODEL_19a5cb75aab8422e83f3aa29af98f629"
            ]
          }
        },
        "14589dd90e0b457a82cb069fc66208e0": {
          "model_module": "@jupyter-widgets/base",
          "model_name": "LayoutModel",
          "model_module_version": "1.2.0",
          "state": {
            "_view_name": "LayoutView",
            "grid_template_rows": null,
            "right": null,
            "justify_content": null,
            "_view_module": "@jupyter-widgets/base",
            "overflow": null,
            "_model_module_version": "1.2.0",
            "_view_count": null,
            "flex_flow": null,
            "width": null,
            "min_width": null,
            "border": null,
            "align_items": null,
            "bottom": null,
            "_model_module": "@jupyter-widgets/base",
            "top": null,
            "grid_column": null,
            "overflow_y": null,
            "overflow_x": null,
            "grid_auto_flow": null,
            "grid_area": null,
            "grid_template_columns": null,
            "flex": null,
            "_model_name": "LayoutModel",
            "justify_items": null,
            "grid_row": null,
            "max_height": null,
            "align_content": null,
            "visibility": null,
            "align_self": null,
            "height": null,
            "min_height": null,
            "padding": null,
            "grid_auto_rows": null,
            "grid_gap": null,
            "max_width": null,
            "order": null,
            "_view_module_version": "1.2.0",
            "grid_template_areas": null,
            "object_position": null,
            "object_fit": null,
            "grid_auto_columns": null,
            "margin": null,
            "display": null,
            "left": null
          }
        },
        "d461e6c7b69c4d1f9e38e41c085a176b": {
          "model_module": "@jupyter-widgets/controls",
          "model_name": "HTMLModel",
          "model_module_version": "1.5.0",
          "state": {
            "_view_name": "HTMLView",
            "style": "IPY_MODEL_3a5095073b0e46f88e1f606300cbd364",
            "_dom_classes": [],
            "description": "",
            "_model_name": "HTMLModel",
            "placeholder": "​",
            "_view_module": "@jupyter-widgets/controls",
            "_model_module_version": "1.5.0",
            "value": "",
            "_view_count": null,
            "_view_module_version": "1.5.0",
            "description_tooltip": null,
            "_model_module": "@jupyter-widgets/controls",
            "layout": "IPY_MODEL_71ff586944a44f1598f5ef05ff07c556"
          }
        },
        "c0cef75e102d4bccb9ae9c808a896155": {
          "model_module": "@jupyter-widgets/controls",
          "model_name": "FloatProgressModel",
          "model_module_version": "1.5.0",
          "state": {
            "_view_name": "ProgressView",
            "style": "IPY_MODEL_41fa27b6239b42a78a661a3fe45a4c85",
            "_dom_classes": [],
            "description": "",
            "_model_name": "FloatProgressModel",
            "bar_style": "success",
            "max": 9464212,
            "_view_module": "@jupyter-widgets/controls",
            "_model_module_version": "1.5.0",
            "value": 9464212,
            "_view_count": null,
            "_view_module_version": "1.5.0",
            "orientation": "horizontal",
            "min": 0,
            "description_tooltip": null,
            "_model_module": "@jupyter-widgets/controls",
            "layout": "IPY_MODEL_6ed9bbaf5dec4389bca5b9ec25dfc331"
          }
        },
        "19a5cb75aab8422e83f3aa29af98f629": {
          "model_module": "@jupyter-widgets/controls",
          "model_name": "HTMLModel",
          "model_module_version": "1.5.0",
          "state": {
            "_view_name": "HTMLView",
            "style": "IPY_MODEL_8b45ba9827ac436b81315ada6b9973b8",
            "_dom_classes": [],
            "description": "",
            "_model_name": "HTMLModel",
            "placeholder": "​",
            "_view_module": "@jupyter-widgets/controls",
            "_model_module_version": "1.5.0",
            "value": " 9464832/? [00:00&lt;00:00, 45063160.10it/s]",
            "_view_count": null,
            "_view_module_version": "1.5.0",
            "description_tooltip": null,
            "_model_module": "@jupyter-widgets/controls",
            "layout": "IPY_MODEL_3a51e0046109494dba07d1a18e4adf64"
          }
        },
        "3a5095073b0e46f88e1f606300cbd364": {
          "model_module": "@jupyter-widgets/controls",
          "model_name": "DescriptionStyleModel",
          "model_module_version": "1.5.0",
          "state": {
            "_view_name": "StyleView",
            "_model_name": "DescriptionStyleModel",
            "description_width": "",
            "_view_module": "@jupyter-widgets/base",
            "_model_module_version": "1.5.0",
            "_view_count": null,
            "_view_module_version": "1.2.0",
            "_model_module": "@jupyter-widgets/controls"
          }
        },
        "71ff586944a44f1598f5ef05ff07c556": {
          "model_module": "@jupyter-widgets/base",
          "model_name": "LayoutModel",
          "model_module_version": "1.2.0",
          "state": {
            "_view_name": "LayoutView",
            "grid_template_rows": null,
            "right": null,
            "justify_content": null,
            "_view_module": "@jupyter-widgets/base",
            "overflow": null,
            "_model_module_version": "1.2.0",
            "_view_count": null,
            "flex_flow": null,
            "width": null,
            "min_width": null,
            "border": null,
            "align_items": null,
            "bottom": null,
            "_model_module": "@jupyter-widgets/base",
            "top": null,
            "grid_column": null,
            "overflow_y": null,
            "overflow_x": null,
            "grid_auto_flow": null,
            "grid_area": null,
            "grid_template_columns": null,
            "flex": null,
            "_model_name": "LayoutModel",
            "justify_items": null,
            "grid_row": null,
            "max_height": null,
            "align_content": null,
            "visibility": null,
            "align_self": null,
            "height": null,
            "min_height": null,
            "padding": null,
            "grid_auto_rows": null,
            "grid_gap": null,
            "max_width": null,
            "order": null,
            "_view_module_version": "1.2.0",
            "grid_template_areas": null,
            "object_position": null,
            "object_fit": null,
            "grid_auto_columns": null,
            "margin": null,
            "display": null,
            "left": null
          }
        },
        "41fa27b6239b42a78a661a3fe45a4c85": {
          "model_module": "@jupyter-widgets/controls",
          "model_name": "ProgressStyleModel",
          "model_module_version": "1.5.0",
          "state": {
            "_view_name": "StyleView",
            "_model_name": "ProgressStyleModel",
            "description_width": "",
            "_view_module": "@jupyter-widgets/base",
            "_model_module_version": "1.5.0",
            "_view_count": null,
            "_view_module_version": "1.2.0",
            "bar_color": null,
            "_model_module": "@jupyter-widgets/controls"
          }
        },
        "6ed9bbaf5dec4389bca5b9ec25dfc331": {
          "model_module": "@jupyter-widgets/base",
          "model_name": "LayoutModel",
          "model_module_version": "1.2.0",
          "state": {
            "_view_name": "LayoutView",
            "grid_template_rows": null,
            "right": null,
            "justify_content": null,
            "_view_module": "@jupyter-widgets/base",
            "overflow": null,
            "_model_module_version": "1.2.0",
            "_view_count": null,
            "flex_flow": null,
            "width": null,
            "min_width": null,
            "border": null,
            "align_items": null,
            "bottom": null,
            "_model_module": "@jupyter-widgets/base",
            "top": null,
            "grid_column": null,
            "overflow_y": null,
            "overflow_x": null,
            "grid_auto_flow": null,
            "grid_area": null,
            "grid_template_columns": null,
            "flex": null,
            "_model_name": "LayoutModel",
            "justify_items": null,
            "grid_row": null,
            "max_height": null,
            "align_content": null,
            "visibility": null,
            "align_self": null,
            "height": null,
            "min_height": null,
            "padding": null,
            "grid_auto_rows": null,
            "grid_gap": null,
            "max_width": null,
            "order": null,
            "_view_module_version": "1.2.0",
            "grid_template_areas": null,
            "object_position": null,
            "object_fit": null,
            "grid_auto_columns": null,
            "margin": null,
            "display": null,
            "left": null
          }
        },
        "8b45ba9827ac436b81315ada6b9973b8": {
          "model_module": "@jupyter-widgets/controls",
          "model_name": "DescriptionStyleModel",
          "model_module_version": "1.5.0",
          "state": {
            "_view_name": "StyleView",
            "_model_name": "DescriptionStyleModel",
            "description_width": "",
            "_view_module": "@jupyter-widgets/base",
            "_model_module_version": "1.5.0",
            "_view_count": null,
            "_view_module_version": "1.2.0",
            "_model_module": "@jupyter-widgets/controls"
          }
        },
        "3a51e0046109494dba07d1a18e4adf64": {
          "model_module": "@jupyter-widgets/base",
          "model_name": "LayoutModel",
          "model_module_version": "1.2.0",
          "state": {
            "_view_name": "LayoutView",
            "grid_template_rows": null,
            "right": null,
            "justify_content": null,
            "_view_module": "@jupyter-widgets/base",
            "overflow": null,
            "_model_module_version": "1.2.0",
            "_view_count": null,
            "flex_flow": null,
            "width": null,
            "min_width": null,
            "border": null,
            "align_items": null,
            "bottom": null,
            "_model_module": "@jupyter-widgets/base",
            "top": null,
            "grid_column": null,
            "overflow_y": null,
            "overflow_x": null,
            "grid_auto_flow": null,
            "grid_area": null,
            "grid_template_columns": null,
            "flex": null,
            "_model_name": "LayoutModel",
            "justify_items": null,
            "grid_row": null,
            "max_height": null,
            "align_content": null,
            "visibility": null,
            "align_self": null,
            "height": null,
            "min_height": null,
            "padding": null,
            "grid_auto_rows": null,
            "grid_gap": null,
            "max_width": null,
            "order": null,
            "_view_module_version": "1.2.0",
            "grid_template_areas": null,
            "object_position": null,
            "object_fit": null,
            "grid_auto_columns": null,
            "margin": null,
            "display": null,
            "left": null
          }
        }
      }
    }
  },
  "cells": [
    {
      "cell_type": "markdown",
      "metadata": {
        "id": "view-in-github",
        "colab_type": "text"
      },
      "source": [
        "<a href=\"https://colab.research.google.com/github/mjhoover1/Robust_MAML/blob/main/Omniglot_notebook.ipynb\" target=\"_parent\"><img src=\"https://colab.research.google.com/assets/colab-badge.svg\" alt=\"Open In Colab\"/></a>"
      ]
    },
    {
      "cell_type": "code",
      "metadata": {
        "id": "Tlo6_1-32hQz"
      },
      "source": [
        "import torch\n",
        "import torch.nn as nn\n",
        "import torch.nn.init as init\n",
        "import torch.nn.functional as F\n",
        "import torch.optim as optim\n",
        "from torchvision import datasets, transforms\n",
        "from torch.utils.data import Dataset, DataLoader\n",
        "\n",
        "import os\n",
        "import random\n",
        "import matplotlib.pyplot as plt\n",
        "import numpy as np\n",
        "\n",
        "from skimage import io\n",
        "from tqdm import tqdm\n",
        "from time import sleep\n",
        "from collections import OrderedDict\n",
        "from more_itertools import chunked\n",
        "from torchvision.datasets import Omniglot"
      ],
      "execution_count": 12,
      "outputs": []
    },
    {
      "cell_type": "code",
      "metadata": {
        "id": "mcK3ZmpS2imr"
      },
      "source": [
        "n_shot = 1\n",
        "n_class = 10\n",
        "n_local_update = 5\n",
        "batch_size = n_class"
      ],
      "execution_count": 13,
      "outputs": []
    },
    {
      "cell_type": "code",
      "metadata": {
        "id": "ReOnXn672ku2"
      },
      "source": [
        "device = 'cuda' if torch.cuda.is_available() else 'cpu'"
      ],
      "execution_count": 14,
      "outputs": []
    },
    {
      "cell_type": "code",
      "metadata": {
        "colab": {
          "base_uri": "https://localhost:8080/",
          "height": 103,
          "referenced_widgets": [
            "097a6ba1c70f436d89601ef726b787bc",
            "14589dd90e0b457a82cb069fc66208e0",
            "d461e6c7b69c4d1f9e38e41c085a176b",
            "c0cef75e102d4bccb9ae9c808a896155",
            "19a5cb75aab8422e83f3aa29af98f629",
            "3a5095073b0e46f88e1f606300cbd364",
            "71ff586944a44f1598f5ef05ff07c556",
            "41fa27b6239b42a78a661a3fe45a4c85",
            "6ed9bbaf5dec4389bca5b9ec25dfc331",
            "8b45ba9827ac436b81315ada6b9973b8",
            "3a51e0046109494dba07d1a18e4adf64"
          ]
        },
        "id": "hNQ_rEAs3eAM",
        "outputId": "206cb35c-05ae-4a84-b5ef-85476f200357"
      },
      "source": [
        "ds = Omniglot('data/', download=True)"
      ],
      "execution_count": 15,
      "outputs": [
        {
          "output_type": "stream",
          "name": "stdout",
          "text": [
            "Downloading https://raw.githubusercontent.com/brendenlake/omniglot/master/python/images_background.zip to data/omniglot-py/images_background.zip\n"
          ]
        },
        {
          "output_type": "display_data",
          "data": {
            "application/vnd.jupyter.widget-view+json": {
              "model_id": "097a6ba1c70f436d89601ef726b787bc",
              "version_minor": 0,
              "version_major": 2
            },
            "text/plain": [
              "  0%|          | 0/9464212 [00:00<?, ?it/s]"
            ]
          },
          "metadata": {}
        },
        {
          "output_type": "stream",
          "name": "stdout",
          "text": [
            "Extracting data/omniglot-py/images_background.zip to data/omniglot-py\n"
          ]
        }
      ]
    },
    {
      "cell_type": "code",
      "metadata": {
        "id": "GySD92Uc2oCG"
      },
      "source": [
        "class OmniglotNet(nn.Module):\n",
        "    def __init__(self, n_class):\n",
        "        super(OmniglotNet, self).__init__()\n",
        "        \n",
        "        self.h=105\n",
        "        self.conv1 = nn.Conv2d(1, self.h, kernel_size=3)\n",
        "        self.conv2 = nn.Conv2d(self.h, self.h, kernel_size=3)\n",
        "        self.conv3 = nn.Conv2d(self.h, self.h, kernel_size=3)\n",
        "        self.bn1 = nn.BatchNorm2d(self.h, momentum=1, affine=True)\n",
        "        self.bn2 = nn.BatchNorm2d(self.h, momentum=1, affine=True)\n",
        "        self.bn3 = nn.BatchNorm2d(self.h, momentum=1, affine=True)\n",
        "        self.fc = nn.Linear(self.h, n_class)\n",
        "        \n",
        "        # init is very very important!!!\n",
        "        # no init version -> HASH:ef56239\n",
        "        init.xavier_normal_(self.conv1.weight)\n",
        "        init.constant_(self.conv1.bias, 0)\n",
        "        init.xavier_normal_(self.conv2.weight)\n",
        "        init.constant_(self.conv2.bias, 0)\n",
        "        init.xavier_normal_(self.conv3.weight)\n",
        "        init.constant_(self.conv3.bias, 0)\n",
        "        \n",
        "        init.constant_(self.bn1.weight, 1)\n",
        "        init.constant_(self.bn1.bias, 0)\n",
        "        init.constant_(self.bn2.weight, 1)\n",
        "        init.constant_(self.bn2.bias, 0)\n",
        "        init.constant_(self.bn3.weight, 1)\n",
        "        init.constant_(self.bn3.bias, 0)\n",
        "        \n",
        "        init.normal_(self.fc.weight, 0, 0.01)\n",
        "        init.constant_(self.fc.bias, 1) # not 0 but 1.\n",
        "        \n",
        "    def forward(self, x):\n",
        "        \n",
        "        x = F.max_pool2d(F.relu(self.bn1(self.conv1(x))), 2)\n",
        "        x = F.max_pool2d(F.relu(self.bn2(self.conv2(x))), 2)\n",
        "        x = F.max_pool2d(F.relu(self.bn3(self.conv3(x))), 2)\n",
        "        print(x.shape)\n",
        "        # x = x.view(x.shape[0]*x.shape[1],*x.shape[2:])\n",
        "        #x = x.view(x.size(0), self.h)\n",
        "        x = self.fc(x)\n",
        "        x = F.log_softmax(x, dim=1)\n",
        "        \n",
        "        return x\n",
        "\n",
        "    # for MAML local optimization\n",
        "    def manual_forward(self, x, params):\n",
        "        \n",
        "        x = F.conv2d(x, params['conv1.weight'].to(device), params['conv1.bias'].to(device))\n",
        "        dumy = torch.ones(np.prod(np.array(x.data.size()[1]))).cuda()*999999999999999999 # momentnum=1\n",
        "        x = F.batch_norm(x, dumy, dumy, params['bn1.weight'], params['bn1.bias'], True, momentum=1)\n",
        "        x = F.max_pool2d(F.relu(x), 2)\n",
        "        \n",
        "        x = F.conv2d(x, params['conv2.weight'].to(device), params['conv2.bias'].to(device))\n",
        "        dumy = torch.ones(np.prod(np.array(x.data.size()[1]))).cuda()*999999999999999999 # momentnum=1\n",
        "        x = F.batch_norm(x, dumy, dumy, params['bn2.weight'], params['bn2.bias'], True, momentum=1)\n",
        "        x = F.max_pool2d(F.relu(x), 2)\n",
        "        \n",
        "        x = F.conv2d(x, params['conv3.weight'].to(device), params['conv3.bias'].to(device))\n",
        "        dumy = torch.ones(np.prod(np.array(x.data.size()[1]))).cuda()*999999999999999999 # momentnum=1\n",
        "        x = F.batch_norm(x, dumy, dumy, params['bn3.weight'], params['bn3.bias'], True, momentum=1)\n",
        "        x = F.max_pool2d(F.relu(x), 2)\n",
        "        \n",
        "        x = x.view(x.size(0), self.h, -1)\n",
        "        x = F.linear(x, params['fc.weight'].to(device), params['fc.bias'].to(device))\n",
        "        x = F.log_softmax(x, dim=1)\n",
        "        \n",
        "        return x"
      ],
      "execution_count": 96,
      "outputs": []
    },
    {
      "cell_type": "code",
      "metadata": {
        "id": "FaYbX1QmMQ83"
      },
      "source": [
        "# class OmniglotNet(nn.Module):\n",
        "#     '''\n",
        "#     The base model for few-shot learning on Omniglot\n",
        "#     '''\n",
        "\n",
        "#     def __init__(self, num_classes, loss_fn, num_in_channels=3):\n",
        "#         super(OmniglotNet, self).__init__()\n",
        "#         # Define the network\n",
        "#         self.features = nn.Sequential(OrderedDict([\n",
        "#                 ('conv1', nn.Conv2d(num_in_channels, 64, 3)),\n",
        "#                 ('bn1', nn.BatchNorm2d(64, momentum=1, affine=True)),\n",
        "#                 ('relu1', nn.ReLU(inplace=True)),\n",
        "#                 ('pool1', nn.MaxPool2d(2,2)),\n",
        "#                 ('conv2', nn.Conv2d(64,64,3)),\n",
        "#                 ('bn2', nn.BatchNorm2d(64, momentum=1, affine=True)),\n",
        "#                 ('relu2', nn.ReLU(inplace=True)),\n",
        "#                 ('pool2', nn.MaxPool2d(2,2)),\n",
        "#                 ('conv3', nn.Conv2d(64,64,3)),\n",
        "#                 ('bn3', nn.BatchNorm2d(64, momentum=1, affine=True)),\n",
        "#                 ('relu3', nn.ReLU(inplace=True)),\n",
        "#                 ('pool3', nn.MaxPool2d(2,2))\n",
        "#         ]))\n",
        "#         self.add_module('fc', nn.Linear(64, num_classes))\n",
        "        \n",
        "#         # Define loss function\n",
        "#         self.loss_fn = loss_fn\n",
        "\n",
        "#         # Initialize weights\n",
        "#         self._init_weights()\n",
        "\n",
        "#     def forward(self, x, weights=None):\n",
        "#         ''' Define what happens to data in the net '''\n",
        "#         if weights == None:\n",
        "#             x = self.features(x)\n",
        "#             x = x.view(x.size(0), 64)\n",
        "#             x = self.fc(x)\n",
        "#         else:\n",
        "#             x = conv2d(x, weights['features.conv1.weight'], weights['features.conv1.bias'])\n",
        "#             x = batchnorm(x, weight = weights['features.bn1.weight'], bias = weights['features.bn1.bias'], momentum=1)\n",
        "#             x = relu(x)\n",
        "#             x = maxpool(x, kernel_size=2, stride=2) \n",
        "#             x = conv2d(x, weights['features.conv2.weight'], weights['features.conv2.bias'])\n",
        "#             x = batchnorm(x, weight = weights['features.bn2.weight'], bias = weights['features.bn2.bias'], momentum=1)\n",
        "#             x = relu(x)\n",
        "#             x = maxpool(x, kernel_size=2, stride=2) \n",
        "#             x = conv2d(x, weights['features.conv3.weight'], weights['features.conv3.bias'])\n",
        "#             x = batchnorm(x, weight = weights['features.bn3.weight'], bias = weights['features.bn3.bias'], momentum=1)\n",
        "#             x = relu(x)\n",
        "#             x = maxpool(x, kernel_size=2, stride=2) \n",
        "#             x = x.view(x.size(0), 64)\n",
        "#             x = linear(x, weights['fc.weight'], weights['fc.bias'])\n",
        "#         return x\n",
        "\n",
        "#     def net_forward(self, x, weights=None):\n",
        "#         return self.forward(x, weights)\n",
        "    \n",
        "#     def _init_weights(self):\n",
        "#         ''' Set weights to Gaussian, biases to zero '''\n",
        "#         torch.manual_seed(1337)\n",
        "#         torch.cuda.manual_seed(1337)\n",
        "#         torch.cuda.manual_seed_all(1337)\n",
        "#         print('init weights')\n",
        "#         for m in self.modules():\n",
        "#             if isinstance(m, nn.Conv2d):\n",
        "#                 n = m.kernel_size[0] * m.kernel_size[1] * m.out_channels\n",
        "#                 m.weight.data.normal_(0, math.sqrt(2. / n))\n",
        "#                 if m.bias is not None:\n",
        "#                     m.bias.data.zero_()\n",
        "#             elif isinstance(m, nn.BatchNorm2d):\n",
        "#                 m.weight.data.fill_(1)\n",
        "#                 m.bias.data.zero_()\n",
        "#             elif isinstance(m, nn.Linear):\n",
        "#                 n = m.weight.size(1)\n",
        "#                 m.weight.data.normal_(0, 0.01)\n",
        "#                 #m.bias.data.zero_() + 1\n",
        "#                 m.bias.data = torch.ones(m.bias.data.size())\n",
        "    \n",
        "#     def copy_weights(self, net):\n",
        "#         ''' Set this module's weights to be the same as those of 'net' '''\n",
        "#         # TODO: breaks if nets are not identical\n",
        "#         # TODO: won't copy buffers, e.g. for batch norm\n",
        "#         for m_from, m_to in zip(net.modules(), self.modules()):\n",
        "#             if isinstance(m_to, nn.Linear) or isinstance(m_to, nn.Conv2d) or isinstance(m_to, nn.BatchNorm2d):\n",
        "#                 m_to.weight.data = m_from.weight.data.clone()\n",
        "#                 if m_to.bias is not None:\n",
        "#                     m_to.bias.data = m_from.bias.data.clone()"
      ],
      "execution_count": 90,
      "outputs": []
    },
    {
      "cell_type": "code",
      "metadata": {
        "id": "TyQRW7Te2t7W"
      },
      "source": [
        "def train(model, device, train_data_loader, optimizer, epoch):\n",
        "    model.train()\n",
        "    train_loss = 0\n",
        "    train_acc = 0\n",
        "    \n",
        "    for data, target in train_data_loader:\n",
        "        data, target = data.to(device), target.to(device)\n",
        "        output = model(data)\n",
        "        loss = F.nll_loss(output, target)\n",
        "        pred = output.max(1, keepdim=True)[1]\n",
        "\n",
        "        optimizer.zero_grad()\n",
        "        loss.backward()\n",
        "        optimizer.step()\n",
        "        \n",
        "        train_loss += loss.item()\n",
        "        train_acc += pred.eq(target.view_as(pred)).sum().item()\n",
        "    \n",
        "    train_loss /= len(train_data_loader.dataset)\n",
        "    train_acc /= len(train_data_loader.dataset)\n",
        "    return train_loss, train_acc"
      ],
      "execution_count": 64,
      "outputs": []
    },
    {
      "cell_type": "code",
      "metadata": {
        "id": "nC0Qb0Nd2vom"
      },
      "source": [
        "def test(model, device, test_data_loader):\n",
        "    model.eval()\n",
        "    test_loss = 0\n",
        "    test_acc = 0\n",
        "    \n",
        "    with torch.no_grad():\n",
        "        for data, target in test_data_loader:\n",
        "            data, target = data.to(device), target.to(device)\n",
        "            output = model(data)\n",
        "            loss = F.nll_loss(output, target, reduction='sum').item() # sum up batch loss\n",
        "            pred = output.max(1, keepdim=True)[1]\n",
        "            \n",
        "            test_loss += loss\n",
        "            test_acc += pred.eq(target.view_as(pred)).sum().item()\n",
        "\n",
        "    test_loss /= len(test_data_loader.dataset)\n",
        "    test_acc /= len(test_data_loader.dataset)\n",
        "    return test_loss, test_acc"
      ],
      "execution_count": 65,
      "outputs": []
    },
    {
      "cell_type": "code",
      "metadata": {
        "id": "oh1pmdfG2w56"
      },
      "source": [
        "class OmniglotOriginDataset(Dataset):\n",
        "    def __init__(self, path_to_lang, n_class, train, train_index, transform):\n",
        "\n",
        "        self.data = []\n",
        "        self.path = path_to_lang\n",
        "        \n",
        "        labels = sorted(os.listdir(path_to_lang))[:n_class]\n",
        "        \n",
        "        for label_i, label in enumerate(labels):\n",
        "            path_to_label = os.path.join(path_to_lang, label)\n",
        "            chars = np.array(sorted(os.listdir(path_to_label)))\n",
        "            if train:\n",
        "                chars = chars[train_index]\n",
        "            else:\n",
        "                test_index = list(set(np.arange(20)) - set(train_index)) # omniglot has 20 images per character\n",
        "                chars = chars[test_index]\n",
        "            for char in chars:\n",
        "                path_to_char = os.path.join(path_to_label, char)\n",
        "                image = io.imread(path_to_char)\n",
        "                label_i = np.array(label_i)\n",
        "                self.data.append([image, label_i])\n",
        "            \n",
        "        self.transform = transform\n",
        " \n",
        "    def __len__(self):\n",
        "        return len(self.data)\n",
        " \n",
        "    def __getitem__(self, idx):\n",
        "        return self.transform(self.data[idx])"
      ],
      "execution_count": 66,
      "outputs": []
    },
    {
      "cell_type": "code",
      "metadata": {
        "id": "JKmdnUzr23zq"
      },
      "source": [
        "class ToTensor(object):\n",
        "    def __call__(self, sample):\n",
        "        image, label = sample[0], sample[1]\n",
        "        image = image / 255\n",
        "        image = (image-0.92208)/0.25140\n",
        "        image = image.reshape([105,105, 1])\n",
        "        image = image.transpose((2, 0, 1))\n",
        "        image = np.array(image, np.float32)\n",
        "\n",
        "        return [torch.from_numpy(image), torch.from_numpy(label)]"
      ],
      "execution_count": 67,
      "outputs": []
    },
    {
      "cell_type": "code",
      "metadata": {
        "id": "TKeaN8-q26DG"
      },
      "source": [
        "class OmniglotAugmentedDataset(Dataset):\n",
        "    def __init__(self, path_to_chars, train, train_indices, transform):\n",
        "\n",
        "        self.data = []\n",
        "        self.path = NotImplementedError\n",
        "        \n",
        "        for label_i, (path_to_label, train_index) in enumerate(zip(path_to_chars, train_indices)):\n",
        "            chars = np.array(sorted(os.listdir(path_to_label)))\n",
        "            if train:\n",
        "                chars = chars[train_index]\n",
        "            else:\n",
        "                test_index = list(set(np.arange(20)) - set(train_index)) # omniglot has 20 images per character\n",
        "                chars = chars[test_index]\n",
        "            for char in chars:\n",
        "                path_to_char = os.path.join(path_to_label, char)\n",
        "                image = io.imread(path_to_char)\n",
        "                label_i = np.array(label_i)\n",
        "                self.data.append([image, label_i])\n",
        "            \n",
        "        self.transform = transform\n",
        " \n",
        "    def __len__(self):\n",
        "        return len(self.data)\n",
        " \n",
        "    def __getitem__(self, idx):\n",
        "        return self.transform(self.data[idx])"
      ],
      "execution_count": 68,
      "outputs": []
    },
    {
      "cell_type": "code",
      "metadata": {
        "colab": {
          "base_uri": "https://localhost:8080/",
          "height": 283
        },
        "id": "k8cy1XmD3ARt",
        "outputId": "af5431a1-ad00-445e-d839-cd823eb66322"
      },
      "source": [
        "local_task_train_data_loader = DataLoader(\n",
        "    OmniglotOriginDataset(\"/content/data/omniglot-py/images_background/Latin/\", \n",
        "                    n_class=n_class,\n",
        "                    train=True,\n",
        "                    train_index=[0],\n",
        "                    transform=transforms.Compose([\n",
        "                        ToTensor(),\n",
        "                    ])),\n",
        "    batch_size=batch_size, shuffle=True)\n",
        "\n",
        "print(\"local_task_train_data\")\n",
        "print(local_task_train_data_loader.dataset.path)\n",
        "\n",
        "for data, target in local_task_train_data_loader: # only have one batch\n",
        "    plt.figure(figsize=(10,1))\n",
        "    for i, x in enumerate(data):\n",
        "        plt.subplot(1, batch_size, i+1); plt.imshow(x[0])\n",
        "    plt.show()\n",
        "    print(\"y_true:\", target)\n",
        "    \n",
        "print(\"\\nlocal_task_test_data\")\n",
        "local_task_test_data_loader = DataLoader(\n",
        "    OmniglotOriginDataset(\"/content/data/omniglot-py/images_background/Latin\", \n",
        "                    n_class=n_class,\n",
        "                    train=False,\n",
        "                    train_index=[0],\n",
        "                    transform=transforms.Compose([\n",
        "                        ToTensor(),\n",
        "                    ])),\n",
        "    batch_size=batch_size, shuffle=True)\n",
        "\n",
        "for data, target in local_task_test_data_loader: # only have one batch\n",
        "    plt.figure(figsize=(10,1))\n",
        "    for i, x in enumerate(data):\n",
        "        plt.subplot(1, batch_size, i+1); plt.imshow(x[0])\n",
        "    plt.show()\n",
        "    print(\"y_true:\", target)\n",
        "    break"
      ],
      "execution_count": 97,
      "outputs": [
        {
          "output_type": "stream",
          "name": "stdout",
          "text": [
            "local_task_train_data\n",
            "/content/data/omniglot-py/images_background/Latin/\n"
          ]
        },
        {
          "output_type": "display_data",
          "data": {
            "image/png": "[encoded data removed]",
            "text/plain": [
              "<Figure size 720x72 with 10 Axes>"
            ]
          },
          "metadata": {
            "needs_background": "light"
          }
        },
        {
          "output_type": "stream",
          "name": "stdout",
          "text": [
            "y_true: tensor([7, 1, 4, 3, 5, 9, 0, 2, 6, 8])\n",
            "\n",
            "local_task_test_data\n"
          ]
        },
        {
          "output_type": "display_data",
          "data": {
            "image/png": "[encoded data removed]",
            "text/plain": [
              "<Figure size 720x72 with 10 Axes>"
            ]
          },
          "metadata": {
            "needs_background": "light"
          }
        },
        {
          "output_type": "stream",
          "name": "stdout",
          "text": [
            "y_true: tensor([7, 2, 4, 3, 5, 2, 5, 3, 9, 0])\n"
          ]
        }
      ]
    },
    {
      "cell_type": "code",
      "metadata": {
        "colab": {
          "base_uri": "https://localhost:8080/",
          "height": 408
        },
        "id": "U0_RoEgM3Jvg",
        "outputId": "27828c53-d54b-4c88-b19d-9260b002da87"
      },
      "source": [
        "local_task_train_data_loader = DataLoader(\n",
        "    OmniglotOriginDataset(\"/content/data/omniglot-py/images_background/Latin/\", \n",
        "                    n_class=n_class,\n",
        "                    train=True,\n",
        "                    train_index=[0],\n",
        "                    transform=transforms.Compose([\n",
        "                        ToTensor()\n",
        "                    ])),\n",
        "    batch_size=batch_size, shuffle=True)\n",
        "\n",
        "\n",
        "local_task_test_data_loader = DataLoader(\n",
        "    OmniglotOriginDataset(\"/content/data/omniglot-py/images_background/Latin/\", \n",
        "                    n_class=n_class,\n",
        "                    train=False,\n",
        "                    train_index=[0],\n",
        "                    transform=transforms.Compose([\n",
        "                        ToTensor()\n",
        "                    ])),\n",
        "    batch_size=batch_size, shuffle=True)\n",
        "\n",
        "model = OmniglotNet(n_class=10).to(device)\n",
        "optimizer = optim.SGD(model.parameters(), lr=0.01, momentum=0.5)\n",
        "\n",
        "with tqdm(range(10)) as _tqdm:\n",
        "    for epoch in _tqdm:\n",
        "        train_loss, train_acc = train(model, device, local_task_train_data_loader, optimizer, epoch)\n",
        "        test_loss, test_acc = test(model, device, local_task_test_data_loader)\n",
        "        _tqdm.set_postfix(OrderedDict(\n",
        "            epoch=epoch+1, \n",
        "            train_loss=train_loss, train_acc=train_acc, \n",
        "            test_loss=test_loss, test_acc=test_acc))\n",
        "        \n",
        "\n",
        "data, target = local_task_train_data_loader.__iter__().next()\n",
        "\n",
        "images = np.array(data).reshape(10,28,28)\n",
        "plt.figure(figsize=(10,1))\n",
        "[[plt.subplot(1,10,i+1), plt.imshow(img)] for i, img in enumerate(images)]; plt.show()\n",
        "\n",
        "print(\"y_pred:\", torch.argmax(model(data.cuda()), 1).cpu())\n",
        "print(\"y_true:\", target)"
      ],
      "execution_count": 98,
      "outputs": [
        {
          "output_type": "stream",
          "name": "stderr",
          "text": [
            "  0%|          | 0/10 [00:00<?, ?it/s]"
          ]
        },
        {
          "output_type": "stream",
          "name": "stdout",
          "text": [
            "torch.Size([10, 105, 11, 11])\n"
          ]
        },
        {
          "output_type": "stream",
          "name": "stderr",
          "text": [
            "\n"
          ]
        },
        {
          "output_type": "error",
          "ename": "RuntimeError",
          "evalue": "ignored",
          "traceback": [
            "\u001b[0;31m---------------------------------------------------------------------------\u001b[0m",
            "\u001b[0;31mRuntimeError\u001b[0m                              Traceback (most recent call last)",
            "\u001b[0;32m<ipython-input-98-cc7b8aadfdad>\u001b[0m in \u001b[0;36m<module>\u001b[0;34m()\u001b[0m\n\u001b[1;32m     25\u001b[0m \u001b[0;32mwith\u001b[0m \u001b[0mtqdm\u001b[0m\u001b[0;34m(\u001b[0m\u001b[0mrange\u001b[0m\u001b[0;34m(\u001b[0m\u001b[0;36m10\u001b[0m\u001b[0;34m)\u001b[0m\u001b[0;34m)\u001b[0m \u001b[0;32mas\u001b[0m \u001b[0m_tqdm\u001b[0m\u001b[0;34m:\u001b[0m\u001b[0;34m\u001b[0m\u001b[0;34m\u001b[0m\u001b[0m\n\u001b[1;32m     26\u001b[0m     \u001b[0;32mfor\u001b[0m \u001b[0mepoch\u001b[0m \u001b[0;32min\u001b[0m \u001b[0m_tqdm\u001b[0m\u001b[0;34m:\u001b[0m\u001b[0;34m\u001b[0m\u001b[0;34m\u001b[0m\u001b[0m\n\u001b[0;32m---> 27\u001b[0;31m         \u001b[0mtrain_loss\u001b[0m\u001b[0;34m,\u001b[0m \u001b[0mtrain_acc\u001b[0m \u001b[0;34m=\u001b[0m \u001b[0mtrain\u001b[0m\u001b[0;34m(\u001b[0m\u001b[0mmodel\u001b[0m\u001b[0;34m,\u001b[0m \u001b[0mdevice\u001b[0m\u001b[0;34m,\u001b[0m \u001b[0mlocal_task_train_data_loader\u001b[0m\u001b[0;34m,\u001b[0m \u001b[0moptimizer\u001b[0m\u001b[0;34m,\u001b[0m \u001b[0mepoch\u001b[0m\u001b[0;34m)\u001b[0m\u001b[0;34m\u001b[0m\u001b[0;34m\u001b[0m\u001b[0m\n\u001b[0m\u001b[1;32m     28\u001b[0m         \u001b[0mtest_loss\u001b[0m\u001b[0;34m,\u001b[0m \u001b[0mtest_acc\u001b[0m \u001b[0;34m=\u001b[0m \u001b[0mtest\u001b[0m\u001b[0;34m(\u001b[0m\u001b[0mmodel\u001b[0m\u001b[0;34m,\u001b[0m \u001b[0mdevice\u001b[0m\u001b[0;34m,\u001b[0m \u001b[0mlocal_task_test_data_loader\u001b[0m\u001b[0;34m)\u001b[0m\u001b[0;34m\u001b[0m\u001b[0;34m\u001b[0m\u001b[0m\n\u001b[1;32m     29\u001b[0m         _tqdm.set_postfix(OrderedDict(\n",
            "\u001b[0;32m<ipython-input-64-bb7db611704e>\u001b[0m in \u001b[0;36mtrain\u001b[0;34m(model, device, train_data_loader, optimizer, epoch)\u001b[0m\n\u001b[1;32m      6\u001b[0m     \u001b[0;32mfor\u001b[0m \u001b[0mdata\u001b[0m\u001b[0;34m,\u001b[0m \u001b[0mtarget\u001b[0m \u001b[0;32min\u001b[0m \u001b[0mtrain_data_loader\u001b[0m\u001b[0;34m:\u001b[0m\u001b[0;34m\u001b[0m\u001b[0;34m\u001b[0m\u001b[0m\n\u001b[1;32m      7\u001b[0m         \u001b[0mdata\u001b[0m\u001b[0;34m,\u001b[0m \u001b[0mtarget\u001b[0m \u001b[0;34m=\u001b[0m \u001b[0mdata\u001b[0m\u001b[0;34m.\u001b[0m\u001b[0mto\u001b[0m\u001b[0;34m(\u001b[0m\u001b[0mdevice\u001b[0m\u001b[0;34m)\u001b[0m\u001b[0;34m,\u001b[0m \u001b[0mtarget\u001b[0m\u001b[0;34m.\u001b[0m\u001b[0mto\u001b[0m\u001b[0;34m(\u001b[0m\u001b[0mdevice\u001b[0m\u001b[0;34m)\u001b[0m\u001b[0;34m\u001b[0m\u001b[0;34m\u001b[0m\u001b[0m\n\u001b[0;32m----> 8\u001b[0;31m         \u001b[0moutput\u001b[0m \u001b[0;34m=\u001b[0m \u001b[0mmodel\u001b[0m\u001b[0;34m(\u001b[0m\u001b[0mdata\u001b[0m\u001b[0;34m)\u001b[0m\u001b[0;34m\u001b[0m\u001b[0;34m\u001b[0m\u001b[0m\n\u001b[0m\u001b[1;32m      9\u001b[0m         \u001b[0mloss\u001b[0m \u001b[0;34m=\u001b[0m \u001b[0mF\u001b[0m\u001b[0;34m.\u001b[0m\u001b[0mnll_loss\u001b[0m\u001b[0;34m(\u001b[0m\u001b[0moutput\u001b[0m\u001b[0;34m,\u001b[0m \u001b[0mtarget\u001b[0m\u001b[0;34m)\u001b[0m\u001b[0;34m\u001b[0m\u001b[0;34m\u001b[0m\u001b[0m\n\u001b[1;32m     10\u001b[0m         \u001b[0mpred\u001b[0m \u001b[0;34m=\u001b[0m \u001b[0moutput\u001b[0m\u001b[0;34m.\u001b[0m\u001b[0mmax\u001b[0m\u001b[0;34m(\u001b[0m\u001b[0;36m1\u001b[0m\u001b[0;34m,\u001b[0m \u001b[0mkeepdim\u001b[0m\u001b[0;34m=\u001b[0m\u001b[0;32mTrue\u001b[0m\u001b[0;34m)\u001b[0m\u001b[0;34m[\u001b[0m\u001b[0;36m1\u001b[0m\u001b[0;34m]\u001b[0m\u001b[0;34m\u001b[0m\u001b[0;34m\u001b[0m\u001b[0m\n",
            "\u001b[0;32m/usr/local/lib/python3.7/dist-packages/torch/nn/modules/module.py\u001b[0m in \u001b[0;36m_call_impl\u001b[0;34m(self, *input, **kwargs)\u001b[0m\n\u001b[1;32m   1049\u001b[0m         if not (self._backward_hooks or self._forward_hooks or self._forward_pre_hooks or _global_backward_hooks\n\u001b[1;32m   1050\u001b[0m                 or _global_forward_hooks or _global_forward_pre_hooks):\n\u001b[0;32m-> 1051\u001b[0;31m             \u001b[0;32mreturn\u001b[0m \u001b[0mforward_call\u001b[0m\u001b[0;34m(\u001b[0m\u001b[0;34m*\u001b[0m\u001b[0minput\u001b[0m\u001b[0;34m,\u001b[0m \u001b[0;34m**\u001b[0m\u001b[0mkwargs\u001b[0m\u001b[0;34m)\u001b[0m\u001b[0;34m\u001b[0m\u001b[0;34m\u001b[0m\u001b[0m\n\u001b[0m\u001b[1;32m   1052\u001b[0m         \u001b[0;31m# Do not call functions when jit is used\u001b[0m\u001b[0;34m\u001b[0m\u001b[0;34m\u001b[0m\u001b[0;34m\u001b[0m\u001b[0m\n\u001b[1;32m   1053\u001b[0m         \u001b[0mfull_backward_hooks\u001b[0m\u001b[0;34m,\u001b[0m \u001b[0mnon_full_backward_hooks\u001b[0m \u001b[0;34m=\u001b[0m \u001b[0;34m[\u001b[0m\u001b[0;34m]\u001b[0m\u001b[0;34m,\u001b[0m \u001b[0;34m[\u001b[0m\u001b[0;34m]\u001b[0m\u001b[0;34m\u001b[0m\u001b[0;34m\u001b[0m\u001b[0m\n",
            "\u001b[0;32m<ipython-input-96-d0c6786345f2>\u001b[0m in \u001b[0;36mforward\u001b[0;34m(self, x)\u001b[0m\n\u001b[1;32m     39\u001b[0m         \u001b[0;31m# x = x.view(x.shape[0]*x.shape[1],*x.shape[2:])\u001b[0m\u001b[0;34m\u001b[0m\u001b[0;34m\u001b[0m\u001b[0;34m\u001b[0m\u001b[0m\n\u001b[1;32m     40\u001b[0m         \u001b[0;31m#x = x.view(x.size(0), self.h)\u001b[0m\u001b[0;34m\u001b[0m\u001b[0;34m\u001b[0m\u001b[0;34m\u001b[0m\u001b[0m\n\u001b[0;32m---> 41\u001b[0;31m         \u001b[0mx\u001b[0m \u001b[0;34m=\u001b[0m \u001b[0mself\u001b[0m\u001b[0;34m.\u001b[0m\u001b[0mfc\u001b[0m\u001b[0;34m(\u001b[0m\u001b[0mx\u001b[0m\u001b[0;34m)\u001b[0m\u001b[0;34m\u001b[0m\u001b[0;34m\u001b[0m\u001b[0m\n\u001b[0m\u001b[1;32m     42\u001b[0m         \u001b[0mx\u001b[0m \u001b[0;34m=\u001b[0m \u001b[0mF\u001b[0m\u001b[0;34m.\u001b[0m\u001b[0mlog_softmax\u001b[0m\u001b[0;34m(\u001b[0m\u001b[0mx\u001b[0m\u001b[0;34m,\u001b[0m \u001b[0mdim\u001b[0m\u001b[0;34m=\u001b[0m\u001b[0;36m1\u001b[0m\u001b[0;34m)\u001b[0m\u001b[0;34m\u001b[0m\u001b[0;34m\u001b[0m\u001b[0m\n\u001b[1;32m     43\u001b[0m \u001b[0;34m\u001b[0m\u001b[0m\n",
            "\u001b[0;32m/usr/local/lib/python3.7/dist-packages/torch/nn/modules/module.py\u001b[0m in \u001b[0;36m_call_impl\u001b[0;34m(self, *input, **kwargs)\u001b[0m\n\u001b[1;32m   1049\u001b[0m         if not (self._backward_hooks or self._forward_hooks or self._forward_pre_hooks or _global_backward_hooks\n\u001b[1;32m   1050\u001b[0m                 or _global_forward_hooks or _global_forward_pre_hooks):\n\u001b[0;32m-> 1051\u001b[0;31m             \u001b[0;32mreturn\u001b[0m \u001b[0mforward_call\u001b[0m\u001b[0;34m(\u001b[0m\u001b[0;34m*\u001b[0m\u001b[0minput\u001b[0m\u001b[0;34m,\u001b[0m \u001b[0;34m**\u001b[0m\u001b[0mkwargs\u001b[0m\u001b[0;34m)\u001b[0m\u001b[0;34m\u001b[0m\u001b[0;34m\u001b[0m\u001b[0m\n\u001b[0m\u001b[1;32m   1052\u001b[0m         \u001b[0;31m# Do not call functions when jit is used\u001b[0m\u001b[0;34m\u001b[0m\u001b[0;34m\u001b[0m\u001b[0;34m\u001b[0m\u001b[0m\n\u001b[1;32m   1053\u001b[0m         \u001b[0mfull_backward_hooks\u001b[0m\u001b[0;34m,\u001b[0m \u001b[0mnon_full_backward_hooks\u001b[0m \u001b[0;34m=\u001b[0m \u001b[0;34m[\u001b[0m\u001b[0;34m]\u001b[0m\u001b[0;34m,\u001b[0m \u001b[0;34m[\u001b[0m\u001b[0;34m]\u001b[0m\u001b[0;34m\u001b[0m\u001b[0;34m\u001b[0m\u001b[0m\n",
            "\u001b[0;32m/usr/local/lib/python3.7/dist-packages/torch/nn/modules/linear.py\u001b[0m in \u001b[0;36mforward\u001b[0;34m(self, input)\u001b[0m\n\u001b[1;32m     94\u001b[0m \u001b[0;34m\u001b[0m\u001b[0m\n\u001b[1;32m     95\u001b[0m     \u001b[0;32mdef\u001b[0m \u001b[0mforward\u001b[0m\u001b[0;34m(\u001b[0m\u001b[0mself\u001b[0m\u001b[0;34m,\u001b[0m \u001b[0minput\u001b[0m\u001b[0;34m:\u001b[0m \u001b[0mTensor\u001b[0m\u001b[0;34m)\u001b[0m \u001b[0;34m->\u001b[0m \u001b[0mTensor\u001b[0m\u001b[0;34m:\u001b[0m\u001b[0;34m\u001b[0m\u001b[0;34m\u001b[0m\u001b[0m\n\u001b[0;32m---> 96\u001b[0;31m         \u001b[0;32mreturn\u001b[0m \u001b[0mF\u001b[0m\u001b[0;34m.\u001b[0m\u001b[0mlinear\u001b[0m\u001b[0;34m(\u001b[0m\u001b[0minput\u001b[0m\u001b[0;34m,\u001b[0m \u001b[0mself\u001b[0m\u001b[0;34m.\u001b[0m\u001b[0mweight\u001b[0m\u001b[0;34m,\u001b[0m \u001b[0mself\u001b[0m\u001b[0;34m.\u001b[0m\u001b[0mbias\u001b[0m\u001b[0;34m)\u001b[0m\u001b[0;34m\u001b[0m\u001b[0;34m\u001b[0m\u001b[0m\n\u001b[0m\u001b[1;32m     97\u001b[0m \u001b[0;34m\u001b[0m\u001b[0m\n\u001b[1;32m     98\u001b[0m     \u001b[0;32mdef\u001b[0m \u001b[0mextra_repr\u001b[0m\u001b[0;34m(\u001b[0m\u001b[0mself\u001b[0m\u001b[0;34m)\u001b[0m \u001b[0;34m->\u001b[0m \u001b[0mstr\u001b[0m\u001b[0;34m:\u001b[0m\u001b[0;34m\u001b[0m\u001b[0;34m\u001b[0m\u001b[0m\n",
            "\u001b[0;32m/usr/local/lib/python3.7/dist-packages/torch/nn/functional.py\u001b[0m in \u001b[0;36mlinear\u001b[0;34m(input, weight, bias)\u001b[0m\n\u001b[1;32m   1845\u001b[0m     \u001b[0;32mif\u001b[0m \u001b[0mhas_torch_function_variadic\u001b[0m\u001b[0;34m(\u001b[0m\u001b[0minput\u001b[0m\u001b[0;34m,\u001b[0m \u001b[0mweight\u001b[0m\u001b[0;34m)\u001b[0m\u001b[0;34m:\u001b[0m\u001b[0;34m\u001b[0m\u001b[0;34m\u001b[0m\u001b[0m\n\u001b[1;32m   1846\u001b[0m         \u001b[0;32mreturn\u001b[0m \u001b[0mhandle_torch_function\u001b[0m\u001b[0;34m(\u001b[0m\u001b[0mlinear\u001b[0m\u001b[0;34m,\u001b[0m \u001b[0;34m(\u001b[0m\u001b[0minput\u001b[0m\u001b[0;34m,\u001b[0m \u001b[0mweight\u001b[0m\u001b[0;34m)\u001b[0m\u001b[0;34m,\u001b[0m \u001b[0minput\u001b[0m\u001b[0;34m,\u001b[0m \u001b[0mweight\u001b[0m\u001b[0;34m,\u001b[0m \u001b[0mbias\u001b[0m\u001b[0;34m=\u001b[0m\u001b[0mbias\u001b[0m\u001b[0;34m)\u001b[0m\u001b[0;34m\u001b[0m\u001b[0;34m\u001b[0m\u001b[0m\n\u001b[0;32m-> 1847\u001b[0;31m     \u001b[0;32mreturn\u001b[0m \u001b[0mtorch\u001b[0m\u001b[0;34m.\u001b[0m\u001b[0m_C\u001b[0m\u001b[0;34m.\u001b[0m\u001b[0m_nn\u001b[0m\u001b[0;34m.\u001b[0m\u001b[0mlinear\u001b[0m\u001b[0;34m(\u001b[0m\u001b[0minput\u001b[0m\u001b[0;34m,\u001b[0m \u001b[0mweight\u001b[0m\u001b[0;34m,\u001b[0m \u001b[0mbias\u001b[0m\u001b[0;34m)\u001b[0m\u001b[0;34m\u001b[0m\u001b[0;34m\u001b[0m\u001b[0m\n\u001b[0m\u001b[1;32m   1848\u001b[0m \u001b[0;34m\u001b[0m\u001b[0m\n\u001b[1;32m   1849\u001b[0m \u001b[0;34m\u001b[0m\u001b[0m\n",
            "\u001b[0;31mRuntimeError\u001b[0m: mat1 and mat2 shapes cannot be multiplied (11550x11 and 105x10)"
          ]
        }
      ]
    },
    {
      "cell_type": "code",
      "metadata": {
        "colab": {
          "base_uri": "https://localhost:8080/"
        },
        "id": "IUywXQmN354C",
        "outputId": "27b7847e-1a0d-4c8b-9fa5-e9d66dc20c4b"
      },
      "source": [
        "%cd .."
      ],
      "execution_count": 24,
      "outputs": [
        {
          "output_type": "stream",
          "name": "stdout",
          "text": [
            "/content\n"
          ]
        }
      ]
    },
    {
      "cell_type": "code",
      "metadata": {
        "colab": {
          "base_uri": "https://localhost:8080/"
        },
        "id": "ol-eYnkM37ji",
        "outputId": "cd5902b1-7694-4cc5-dca3-e6cf07fbd88e"
      },
      "source": [
        "%ls"
      ],
      "execution_count": 32,
      "outputs": [
        {
          "output_type": "stream",
          "name": "stdout",
          "text": [
            " \u001b[0m\u001b[01;34mAlphabet_of_the_Magi\u001b[0m/\n",
            " \u001b[01;34mAnglo-Saxon_Futhorc\u001b[0m/\n",
            " \u001b[01;34mArcadian\u001b[0m/\n",
            " \u001b[01;34mArmenian\u001b[0m/\n",
            "\u001b[01;34m'Asomtavruli_(Georgian)'\u001b[0m/\n",
            " \u001b[01;34mBalinese\u001b[0m/\n",
            " \u001b[01;34mBengali\u001b[0m/\n",
            "\u001b[01;34m'Blackfoot_(Canadian_Aboriginal_Syllabics)'\u001b[0m/\n",
            " \u001b[01;34mBraille\u001b[0m/\n",
            "\u001b[01;34m'Burmese_(Myanmar)'\u001b[0m/\n",
            " \u001b[01;34mCyrillic\u001b[0m/\n",
            " \u001b[01;34mEarly_Aramaic\u001b[0m/\n",
            " \u001b[01;34mFuturama\u001b[0m/\n",
            " \u001b[01;34mGrantha\u001b[0m/\n",
            " \u001b[01;34mGreek\u001b[0m/\n",
            " \u001b[01;34mGujarati\u001b[0m/\n",
            " \u001b[01;34mHebrew\u001b[0m/\n",
            "\u001b[01;34m'Inuktitut_(Canadian_Aboriginal_Syllabics)'\u001b[0m/\n",
            "\u001b[01;34m'Japanese_(hiragana)'\u001b[0m/\n",
            "\u001b[01;34m'Japanese_(katakana)'\u001b[0m/\n",
            " \u001b[01;34mKorean\u001b[0m/\n",
            " \u001b[01;34mLatin\u001b[0m/\n",
            "\u001b[01;34m'Malay_(Jawi_-_Arabic)'\u001b[0m/\n",
            "\u001b[01;34m'Mkhedruli_(Georgian)'\u001b[0m/\n",
            " \u001b[01;34mN_Ko\u001b[0m/\n",
            "\u001b[01;34m'Ojibwe_(Canadian_Aboriginal_Syllabics)'\u001b[0m/\n",
            " \u001b[01;34mSanskrit\u001b[0m/\n",
            "\u001b[01;34m'Syriac_(Estrangelo)'\u001b[0m/\n",
            " \u001b[01;34mTagalog\u001b[0m/\n",
            " \u001b[01;34mTifinagh\u001b[0m/\n"
          ]
        }
      ]
    },
    {
      "cell_type": "code",
      "metadata": {
        "colab": {
          "base_uri": "https://localhost:8080/"
        },
        "id": "DCFZbA4N384h",
        "outputId": "56d5ec4f-a7d6-4121-dc8f-4927c6327a84"
      },
      "source": [
        "%cd data"
      ],
      "execution_count": 27,
      "outputs": [
        {
          "output_type": "stream",
          "name": "stdout",
          "text": [
            "/content/data\n"
          ]
        }
      ]
    },
    {
      "cell_type": "code",
      "metadata": {
        "colab": {
          "base_uri": "https://localhost:8080/"
        },
        "id": "w8cTLznG4VLj",
        "outputId": "6e60b951-eec2-478a-bfbb-850f4244ca5c"
      },
      "source": [
        "%cd omniglot-py/"
      ],
      "execution_count": 29,
      "outputs": [
        {
          "output_type": "stream",
          "name": "stdout",
          "text": [
            "/content/data/omniglot-py\n"
          ]
        }
      ]
    },
    {
      "cell_type": "code",
      "metadata": {
        "colab": {
          "base_uri": "https://localhost:8080/"
        },
        "id": "PT7dICAE4Y0b",
        "outputId": "9b6f325c-5d26-4e12-f29b-ba9e12f4dadc"
      },
      "source": [
        "%cd images_background/"
      ],
      "execution_count": 31,
      "outputs": [
        {
          "output_type": "stream",
          "name": "stdout",
          "text": [
            "/content/data/omniglot-py/images_background\n"
          ]
        }
      ]
    },
    {
      "cell_type": "code",
      "metadata": {
        "colab": {
          "base_uri": "https://localhost:8080/"
        },
        "id": "yJ6BxsPV4cCz",
        "outputId": "eaae7d8f-e405-4119-e4bb-c5bed12f5a8c"
      },
      "source": [
        "%cd Latin"
      ],
      "execution_count": 34,
      "outputs": [
        {
          "output_type": "stream",
          "name": "stdout",
          "text": [
            "/content/data/omniglot-py/images_background/Latin\n"
          ]
        }
      ]
    },
    {
      "cell_type": "code",
      "metadata": {
        "id": "Rm8MdnMV4i5n"
      },
      "source": [
        ""
      ],
      "execution_count": null,
      "outputs": []
    }
  ]
}