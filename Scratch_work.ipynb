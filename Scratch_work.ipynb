{
  "nbformat": 4,
  "nbformat_minor": 0,
  "metadata": {
    "accelerator": "GPU",
    "colab": {
      "name": "Scratch_work.ipynb",
      "provenance": [],
      "authorship_tag": "ABX9TyMxuoj2y4PPiywq4qSimxgs",
      "include_colab_link": true
    },
    "kernelspec": {
      "display_name": "Python 3",
      "name": "python3"
    },
    "language_info": {
      "name": "python"
    }
  },
  "cells": [
    {
      "cell_type": "markdown",
      "metadata": {
        "id": "view-in-github",
        "colab_type": "text"
      },
      "source": [
        "<a href=\"https://colab.research.google.com/github/mjhoover1/Robust_MAML/blob/main/Scratch_work.ipynb\" target=\"_parent\"><img src=\"https://colab.research.google.com/assets/colab-badge.svg\" alt=\"Open In Colab\"/></a>"
      ]
    },
    {
      "cell_type": "code",
      "metadata": {
        "colab": {
          "base_uri": "https://localhost:8080/"
        },
        "id": "-Ac68pq2EN6O",
        "outputId": "69487ae8-dac9-4b1c-d94c-eaf3fc4ff189"
      },
      "source": [
        "!pip install torchmeta"
      ],
      "execution_count": 3,
      "outputs": [
        {
          "output_type": "stream",
          "name": "stdout",
          "text": [
            "Requirement already satisfied: torchmeta in /usr/local/lib/python3.7/dist-packages (1.8.0)\n",
            "Requirement already satisfied: torchvision<0.11.0,>=0.5.0 in /usr/local/lib/python3.7/dist-packages (from torchmeta) (0.10.0+cu102)\n",
            "Requirement already satisfied: tqdm>=4.0.0 in /usr/local/lib/python3.7/dist-packages (from torchmeta) (4.62.3)\n",
            "Requirement already satisfied: h5py in /usr/local/lib/python3.7/dist-packages (from torchmeta) (3.1.0)\n",
            "Requirement already satisfied: torch<1.10.0,>=1.4.0 in /usr/local/lib/python3.7/dist-packages (from torchmeta) (1.9.0+cu102)\n",
            "Requirement already satisfied: Pillow>=7.0.0 in /usr/local/lib/python3.7/dist-packages (from torchmeta) (7.1.2)\n",
            "Requirement already satisfied: requests in /usr/local/lib/python3.7/dist-packages (from torchmeta) (2.23.0)\n",
            "Requirement already satisfied: ordered-set in /usr/local/lib/python3.7/dist-packages (from torchmeta) (4.0.2)\n",
            "Requirement already satisfied: numpy>=1.14.0 in /usr/local/lib/python3.7/dist-packages (from torchmeta) (1.19.5)\n",
            "Requirement already satisfied: typing-extensions in /usr/local/lib/python3.7/dist-packages (from torch<1.10.0,>=1.4.0->torchmeta) (3.7.4.3)\n",
            "Requirement already satisfied: cached-property in /usr/local/lib/python3.7/dist-packages (from h5py->torchmeta) (1.5.2)\n",
            "Requirement already satisfied: chardet<4,>=3.0.2 in /usr/local/lib/python3.7/dist-packages (from requests->torchmeta) (3.0.4)\n",
            "Requirement already satisfied: idna<3,>=2.5 in /usr/local/lib/python3.7/dist-packages (from requests->torchmeta) (2.10)\n",
            "Requirement already satisfied: certifi>=2017.4.17 in /usr/local/lib/python3.7/dist-packages (from requests->torchmeta) (2021.5.30)\n",
            "Requirement already satisfied: urllib3!=1.25.0,!=1.25.1,<1.26,>=1.21.1 in /usr/local/lib/python3.7/dist-packages (from requests->torchmeta) (1.24.3)\n"
          ]
        }
      ]
    },
    {
      "cell_type": "code",
      "metadata": {
        "id": "IPxp4K5CELmF"
      },
      "source": [
        "import torchmeta\n",
        "from torchmeta.utils.data import BatchMetaDataLoader\n",
        "from torchvision.transforms import Compose, Resize, ToTensor\n"
      ],
      "execution_count": 4,
      "outputs": []
    },
    {
      "cell_type": "code",
      "metadata": {
        "id": "iwQ4BVX_ENLt"
      },
      "source": [
        "# dataset = torchmeta.datasets.MiniImagenet(\"data\", num_classes_per_task=5, transform=Compose([ToTensor()]), meta_train=True,\n",
        "# download=True)\n",
        "# dataloader = BatchMetaDataLoader(dataset, batch_size=16, num_workers=4)\n",
        "# print(dataset)"
      ],
      "execution_count": 5,
      "outputs": []
    },
    {
      "cell_type": "code",
      "metadata": {
        "id": "AH4PUVMjE2Zx"
      },
      "source": [
        "# from torchmeta.datasets.helpers import omniglot\n",
        "# from torchmeta.utils.data import BatchMetaDataLoader\n",
        "\n",
        "# dataset = omniglot(\"data\", ways=5, shots=5, test_shots=15, meta_train=True, download=True)\n",
        "\n",
        "# dataloader = BatchMetaDataLoader(dataset, batch_size=16, num_workers=4)\n",
        "\n",
        "# for batch in dataloader:\n",
        "#     train_inputs, train_targets = batch[\"train\"]\n",
        "#     print('Train inputs shape: {0}'.format(train_inputs.shape))    # (16, 25, 1, 28, 28)\n",
        "#     print('Train targets shape: {0}'.format(train_targets.shape))  # (16, 25)\n",
        "\n",
        "#     test_inputs, test_targets = batch[\"test\"]\n",
        "#     print('Test inputs shape: {0}'.format(test_inputs.shape))      # (16, 75, 1, 28, 28)\n",
        "#     print('Test targets shape: {0}'.format(test_targets.shape))    # (16, 75)"
      ],
      "execution_count": 6,
      "outputs": []
    },
    {
      "cell_type": "code",
      "metadata": {
        "id": "ULZzDEAqH70q"
      },
      "source": [
        "import torch\n",
        "import torch.nn as nn\n",
        "from torchmeta.modules import (MetaModule, MetaSequential, MetaConv2d, MetaBatchNorm2d, MetaLinear)\n",
        "\n",
        "def conv3x3(in_channels, out_channels):\n",
        "  return MetaSequential(\n",
        "      MetaConv2d(in_channels, out_channels, kernel_size=3, padding=1),\n",
        "      MetaBatchNorm2d(out_channels, momentum=1., track_running_stats=False),\n",
        "      nn.ReLU(),\n",
        "      nn.MaxPool2d(2)\n",
        "  )\n",
        "\n",
        "class ConvolutionalNeuralNetwork(MetaModule):\n",
        "  def __init__(self, in_channels, out_features, hidden_size=64):\n",
        "    super(ConvolutionalNeuralNetwork, self).__init__()\n",
        "    self.in_channels = in_channels\n",
        "    self.out_features = out_features\n",
        "    self.hidden_size = hidden_size\n",
        "\n",
        "    self.features = MetaSequential(\n",
        "        conv3x3(in_channels, hidden_size),\n",
        "        conv3x3(hidden_size, hidden_size),\n",
        "        conv3x3(hidden_size, hidden_size),\n",
        "        conv3x3(hidden_size, hidden_size)\n",
        "    )\n",
        "\n",
        "    self.classifier = MetaLinear(hidden_size, out_features)\n",
        "\n",
        "  def forward(self, inputs, params=None):\n",
        "    features = self.features(inputs, params=self.get_subdict(params, 'features'))\n",
        "    features = features.view((features.size(0), -1))\n",
        "    logits = self.classifier(features, params=self.get_subdict(params, 'classifier'))\n",
        "    return logits"
      ],
      "execution_count": 7,
      "outputs": []
    },
    {
      "cell_type": "code",
      "metadata": {
        "id": "vQVZBvyTLXQ-"
      },
      "source": [
        "import os\n",
        "import torch\n",
        "import torch.nn.functional as F\n",
        "from tqdm import tqdm\n",
        "import logging\n",
        "\n",
        "\n",
        "from torchmeta.datasets.helpers import omniglot\n",
        "from torchmeta.utils.data import BatchMetaDataLoader\n",
        "from torchmeta.utils.gradient_based import gradient_update_parameters\n",
        "\n",
        "\n",
        "def train(folder, device, num_shots=5, num_ways=5, batch_size=16, num_batches=100, num_workers=1, hidden_size=64, step_size=.4, first_order=True, output_folder=None):\n",
        "  dataset = omniglot(folder, shots=num_shots, ways=num_ways, shuffle=True, test_shots=15, \n",
        "                    meta_train=True, download=True)\n",
        "  dataloader = BatchMetaDataLoader(dataset, batch_size=batch_size, shuffle=True, \n",
        "                                  num_workers=num_workers)\n",
        "\n",
        "  model = ConvolutionalNeuralNetwork(1, num_ways, hidden_size=hidden_size)\n",
        "  model.to(device=device)\n",
        "  model.train()\n",
        "  meta_optimizer = torch.optim.SGD(model.parameters(), lr=1e-3)\n",
        "\n",
        "  # Training loop\n",
        "  with tqdm(dataloader, total=num_batches) as pbar:\n",
        "    for batch_idx, batch in enumerate(pbar):\n",
        "\n",
        "      model.zero_grad()\n",
        "\n",
        "      train_inputs, train_targets = batch['train']\n",
        "      train_inputs = train_inputs.to(device=device)\n",
        "      train_targets = train_targets.to(device=device)\n",
        "\n",
        "      test_inputs, test_targets = batch['test']\n",
        "      test_inputs = test_inputs.to(device=device)\n",
        "      test_targets = test_targets.to(device=device)\n",
        "      \n",
        "      outer_loss = torch.tensor(0., device=device)\n",
        "      accuracy = torch.tensor(0., device=device)\n",
        "      for task_idx, (train_input, train_target, test_input,\n",
        "                     test_target) in enumerate(zip(train_inputs, train_targets,\n",
        "                                                   test_inputs, test_targets)):\n",
        "                       train_logit = model(train_input)\n",
        "                       inner_loss = F.cross_entropy(train_logit, train_target)\n",
        "\n",
        "                       model.zero_grad()\n",
        "                       params = gradient_update_parameters(model,\n",
        "                                                           inner_loss,\n",
        "                                                           step_size=step_size,\n",
        "                                                           first_order=first_order)\n",
        "                       \n",
        "                       test_logit = model(test_input, params=params)\n",
        "                       outer_loss += F.cross_entropy(test_logit, test_target)\n",
        "\n",
        "                       with torch.no_grad():\n",
        "                         accuracy += get_accuracy(test_logit, test_target)\n",
        "      outer_loss.div_(batch_size)\n",
        "      accuracy.div_(batch_size)\n",
        "\n",
        "      outer_loss.backward()\n",
        "      meta_optimizer.step()\n",
        "\n",
        "      pbar.set_postfix(accuracy='{0:.4f}'.format(accuracy.item()))\n",
        "      if batch_idx >= num_batches: break"
      ],
      "execution_count": 8,
      "outputs": []
    },
    {
      "cell_type": "code",
      "metadata": {
        "id": "AX1XdEvvMPX7"
      },
      "source": [
        "from collections import OrderedDict\n",
        "\n",
        "def get_accuracy(logits, targets):\n",
        "    \"\"\"Compute the accuracy (after adaptation) of MAML on the test/query points\n",
        "\n",
        "    Parameters\n",
        "    ----------\n",
        "    logits : `torch.FloatTensor` instance\n",
        "        Outputs/logits of the model on the query points. This tensor has shape\n",
        "        `(num_examples, num_classes)`.\n",
        "    targets : `torch.LongTensor` instance\n",
        "        A tensor containing the targets of the query points. This tensor has \n",
        "        shape `(num_examples,)`.\n",
        "        \n",
        "    Returns\n",
        "    -------\n",
        "    accuracy : `torch.FloatTensor` instance\n",
        "        Mean accuracy on the query points\n",
        "    \"\"\"\n",
        "    _, predictions = torch.max(logits, dim=-1)\n",
        "    return torch.mean(predictions.eq(targets).float())"
      ],
      "execution_count": 9,
      "outputs": []
    },
    {
      "cell_type": "code",
      "metadata": {
        "colab": {
          "base_uri": "https://localhost:8080/"
        },
        "id": "y_0Ll84WMhKP",
        "outputId": "c990a64d-30dc-4c11-b4a3-e35b98cefe52"
      },
      "source": [
        "def get_default_device():\n",
        "    \"\"\"Pick GPU if available, else CPU\"\"\"\n",
        "    if torch.cuda.is_available():\n",
        "        return torch.device('cuda')\n",
        "    else:\n",
        "        return torch.device('cpu')\n",
        "\n",
        "device = get_default_device()\n",
        "device"
      ],
      "execution_count": 10,
      "outputs": [
        {
          "output_type": "execute_result",
          "data": {
            "text/plain": [
              "device(type='cuda')"
            ]
          },
          "metadata": {},
          "execution_count": 10
        }
      ]
    },
    {
      "cell_type": "code",
      "metadata": {
        "colab": {
          "base_uri": "https://localhost:8080/",
          "height": 337
        },
        "id": "2Ey6VdG6g_3_",
        "outputId": "af0b305b-1183-4220-f97c-956347171349"
      },
      "source": [
        "dataset = omniglot(\"data\", shots=5, ways=5, shuffle=True, test_shots=15, \n",
        "                  meta_train=True, download=True)\n",
        "dataloader = BatchMetaDataLoader(dataset, batch_size=16, shuffle=True, \n",
        "                                num_workers=1)\n",
        "\n",
        "# test_image = test_inputs[0]\n",
        "# test_image\n",
        "# show_example(*test_image[0])\n",
        "\n",
        "X = set()\n",
        "for batch in dataloader:\n",
        "  train_inputs, train_targets = batch[\"train\"]\n",
        "  show_example(*train_inputs[0][0])\n",
        "  print(train_targets[0][0])\n",
        "  break\n",
        "  # for target in train_inputs:\n",
        "  #   # print(target[0])\n",
        "  #   print(*target[0].shape)\n",
        "  #   show_example(*target[0])\n",
        "  #   # s = set(target.tolist())\n",
        "  #   # X = X.union(s)\n",
        "  #   # print(X)"
      ],
      "execution_count": 15,
      "outputs": [
        {
          "output_type": "stream",
          "name": "stderr",
          "text": [
            "/usr/local/lib/python3.7/dist-packages/torchvision/transforms/functional.py:974: UserWarning: Argument interpolation should be of type InterpolationMode instead of int. Please, use InterpolationMode enum.\n",
            "  \"Argument interpolation should be of type InterpolationMode instead of int. \"\n"
          ]
        },
        {
          "output_type": "stream",
          "name": "stdout",
          "text": [
            "tensor(1)\n"
          ]
        },
        {
          "output_type": "display_data",
          "data": {
            "image/png": "[encoded data removed]",
            "text/plain": [
              "<Figure size 432x288 with 1 Axes>"
            ]
          },
          "metadata": {
            "needs_background": "light"
          }
        }
      ]
    },
    {
      "cell_type": "code",
      "metadata": {
        "colab": {
          "base_uri": "https://localhost:8080/",
          "height": 1000
        },
        "id": "KWtqewCzMW2i",
        "outputId": "1f0df30c-6ad2-4661-dec7-5390d3774bfd"
      },
      "source": [
        "train(\"data\", device)"
      ],
      "execution_count": 12,
      "outputs": [
        {
          "output_type": "stream",
          "name": "stderr",
          "text": [
            "/usr/local/lib/python3.7/dist-packages/torchvision/transforms/functional.py:974: UserWarning: Argument interpolation should be of type InterpolationMode instead of int. Please, use InterpolationMode enum.\n",
            "  \"Argument interpolation should be of type InterpolationMode instead of int. \"\n"
          ]
        },
        {
          "output_type": "stream",
          "name": "stdout",
          "text": [
            "{0, 1, 2, 3, 4}\n",
            "{0, 1, 2, 3, 4}\n",
            "{0, 1, 2, 3, 4}\n",
            "{0, 1, 2, 3, 4}\n",
            "{0, 1, 2, 3, 4}\n",
            "{0, 1, 2, 3, 4}\n",
            "{0, 1, 2, 3, 4}\n",
            "{0, 1, 2, 3, 4}\n",
            "{0, 1, 2, 3, 4}\n",
            "{0, 1, 2, 3, 4}\n",
            "{0, 1, 2, 3, 4}\n",
            "{0, 1, 2, 3, 4}\n",
            "{0, 1, 2, 3, 4}\n",
            "{0, 1, 2, 3, 4}\n",
            "{0, 1, 2, 3, 4}\n",
            "{0, 1, 2, 3, 4}\n",
            "{0, 1, 2, 3, 4}\n",
            "{0, 1, 2, 3, 4}\n",
            "{0, 1, 2, 3, 4}\n",
            "{0, 1, 2, 3, 4}\n",
            "{0, 1, 2, 3, 4}\n",
            "{0, 1, 2, 3, 4}\n",
            "{0, 1, 2, 3, 4}\n",
            "{0, 1, 2, 3, 4}\n",
            "{0, 1, 2, 3, 4}\n",
            "{0, 1, 2, 3, 4}\n",
            "{0, 1, 2, 3, 4}\n",
            "{0, 1, 2, 3, 4}\n",
            "{0, 1, 2, 3, 4}\n",
            "{0, 1, 2, 3, 4}\n",
            "{0, 1, 2, 3, 4}\n",
            "{0, 1, 2, 3, 4}\n",
            "{0, 1, 2, 3, 4}\n",
            "{0, 1, 2, 3, 4}\n",
            "{0, 1, 2, 3, 4}\n",
            "{0, 1, 2, 3, 4}\n",
            "{0, 1, 2, 3, 4}\n",
            "{0, 1, 2, 3, 4}\n",
            "{0, 1, 2, 3, 4}\n",
            "{0, 1, 2, 3, 4}\n",
            "{0, 1, 2, 3, 4}\n",
            "{0, 1, 2, 3, 4}\n",
            "{0, 1, 2, 3, 4}\n",
            "{0, 1, 2, 3, 4}\n",
            "{0, 1, 2, 3, 4}\n",
            "{0, 1, 2, 3, 4}\n",
            "{0, 1, 2, 3, 4}\n",
            "{0, 1, 2, 3, 4}\n",
            "{0, 1, 2, 3, 4}\n",
            "{0, 1, 2, 3, 4}\n",
            "{0, 1, 2, 3, 4}\n",
            "{0, 1, 2, 3, 4}\n",
            "{0, 1, 2, 3, 4}\n",
            "{0, 1, 2, 3, 4}\n",
            "{0, 1, 2, 3, 4}\n",
            "{0, 1, 2, 3, 4}\n",
            "{0, 1, 2, 3, 4}\n",
            "{0, 1, 2, 3, 4}\n",
            "{0, 1, 2, 3, 4}\n",
            "{0, 1, 2, 3, 4}\n",
            "{0, 1, 2, 3, 4}\n",
            "{0, 1, 2, 3, 4}\n",
            "{0, 1, 2, 3, 4}\n",
            "{0, 1, 2, 3, 4}\n",
            "{0, 1, 2, 3, 4}\n",
            "{0, 1, 2, 3, 4}\n",
            "{0, 1, 2, 3, 4}\n",
            "{0, 1, 2, 3, 4}\n",
            "{0, 1, 2, 3, 4}\n",
            "{0, 1, 2, 3, 4}\n",
            "{0, 1, 2, 3, 4}\n",
            "{0, 1, 2, 3, 4}\n",
            "{0, 1, 2, 3, 4}\n",
            "{0, 1, 2, 3, 4}\n",
            "{0, 1, 2, 3, 4}\n",
            "{0, 1, 2, 3, 4}\n",
            "{0, 1, 2, 3, 4}\n",
            "{0, 1, 2, 3, 4}\n",
            "{0, 1, 2, 3, 4}\n",
            "{0, 1, 2, 3, 4}\n",
            "{0, 1, 2, 3, 4}\n",
            "{0, 1, 2, 3, 4}\n",
            "{0, 1, 2, 3, 4}\n",
            "{0, 1, 2, 3, 4}\n",
            "{0, 1, 2, 3, 4}\n",
            "{0, 1, 2, 3, 4}\n",
            "{0, 1, 2, 3, 4}\n",
            "{0, 1, 2, 3, 4}\n",
            "{0, 1, 2, 3, 4}\n",
            "{0, 1, 2, 3, 4}\n",
            "{0, 1, 2, 3, 4}\n",
            "{0, 1, 2, 3, 4}\n",
            "{0, 1, 2, 3, 4}\n",
            "{0, 1, 2, 3, 4}\n",
            "{0, 1, 2, 3, 4}\n",
            "{0, 1, 2, 3, 4}\n",
            "{0, 1, 2, 3, 4}\n",
            "{0, 1, 2, 3, 4}\n",
            "{0, 1, 2, 3, 4}\n",
            "{0, 1, 2, 3, 4}\n",
            "{0, 1, 2, 3, 4}\n",
            "{0, 1, 2, 3, 4}\n",
            "{0, 1, 2, 3, 4}\n",
            "{0, 1, 2, 3, 4}\n",
            "{0, 1, 2, 3, 4}\n",
            "{0, 1, 2, 3, 4}\n",
            "{0, 1, 2, 3, 4}\n",
            "{0, 1, 2, 3, 4}\n",
            "{0, 1, 2, 3, 4}\n",
            "{0, 1, 2, 3, 4}\n",
            "{0, 1, 2, 3, 4}\n",
            "{0, 1, 2, 3, 4}\n"
          ]
        },
        {
          "output_type": "error",
          "ename": "KeyboardInterrupt",
          "evalue": "ignored",
          "traceback": [
            "\u001b[0;31m---------------------------------------------------------------------------\u001b[0m",
            "\u001b[0;31mKeyboardInterrupt\u001b[0m                         Traceback (most recent call last)",
            "\u001b[0;32m<ipython-input-12-541872fac512>\u001b[0m in \u001b[0;36m<module>\u001b[0;34m()\u001b[0m\n\u001b[0;32m----> 1\u001b[0;31m \u001b[0mtrain\u001b[0m\u001b[0;34m(\u001b[0m\u001b[0;34m\"data\"\u001b[0m\u001b[0;34m,\u001b[0m \u001b[0mdevice\u001b[0m\u001b[0;34m)\u001b[0m\u001b[0;34m\u001b[0m\u001b[0;34m\u001b[0m\u001b[0m\n\u001b[0m",
            "\u001b[0;32m<ipython-input-11-a47fcadb9903>\u001b[0m in \u001b[0;36mtrain\u001b[0;34m(folder, device, num_shots, num_ways, batch_size, num_batches, num_workers, hidden_size, step_size, first_order, output_folder)\u001b[0m\n\u001b[1;32m     18\u001b[0m \u001b[0;34m\u001b[0m\u001b[0m\n\u001b[1;32m     19\u001b[0m   \u001b[0mX\u001b[0m \u001b[0;34m=\u001b[0m \u001b[0mset\u001b[0m\u001b[0;34m(\u001b[0m\u001b[0;34m)\u001b[0m\u001b[0;34m\u001b[0m\u001b[0;34m\u001b[0m\u001b[0m\n\u001b[0;32m---> 20\u001b[0;31m   \u001b[0;32mfor\u001b[0m \u001b[0mbatch\u001b[0m \u001b[0;32min\u001b[0m \u001b[0mdataloader\u001b[0m\u001b[0;34m:\u001b[0m\u001b[0;34m\u001b[0m\u001b[0;34m\u001b[0m\u001b[0m\n\u001b[0m\u001b[1;32m     21\u001b[0m     \u001b[0mtrain_inputs\u001b[0m\u001b[0;34m,\u001b[0m \u001b[0mtrain_targets\u001b[0m \u001b[0;34m=\u001b[0m \u001b[0mbatch\u001b[0m\u001b[0;34m[\u001b[0m\u001b[0;34m\"test\"\u001b[0m\u001b[0;34m]\u001b[0m\u001b[0;34m\u001b[0m\u001b[0;34m\u001b[0m\u001b[0m\n\u001b[1;32m     22\u001b[0m     \u001b[0;32mfor\u001b[0m \u001b[0mtarget\u001b[0m \u001b[0;32min\u001b[0m \u001b[0mtrain_targets\u001b[0m\u001b[0;34m:\u001b[0m\u001b[0;34m\u001b[0m\u001b[0;34m\u001b[0m\u001b[0m\n",
            "\u001b[0;32m/usr/local/lib/python3.7/dist-packages/torch/utils/data/dataloader.py\u001b[0m in \u001b[0;36m__next__\u001b[0;34m(self)\u001b[0m\n\u001b[1;32m    519\u001b[0m             \u001b[0;32mif\u001b[0m \u001b[0mself\u001b[0m\u001b[0;34m.\u001b[0m\u001b[0m_sampler_iter\u001b[0m \u001b[0;32mis\u001b[0m \u001b[0;32mNone\u001b[0m\u001b[0;34m:\u001b[0m\u001b[0;34m\u001b[0m\u001b[0;34m\u001b[0m\u001b[0m\n\u001b[1;32m    520\u001b[0m                 \u001b[0mself\u001b[0m\u001b[0;34m.\u001b[0m\u001b[0m_reset\u001b[0m\u001b[0;34m(\u001b[0m\u001b[0;34m)\u001b[0m\u001b[0;34m\u001b[0m\u001b[0;34m\u001b[0m\u001b[0m\n\u001b[0;32m--> 521\u001b[0;31m             \u001b[0mdata\u001b[0m \u001b[0;34m=\u001b[0m \u001b[0mself\u001b[0m\u001b[0;34m.\u001b[0m\u001b[0m_next_data\u001b[0m\u001b[0;34m(\u001b[0m\u001b[0;34m)\u001b[0m\u001b[0;34m\u001b[0m\u001b[0;34m\u001b[0m\u001b[0m\n\u001b[0m\u001b[1;32m    522\u001b[0m             \u001b[0mself\u001b[0m\u001b[0;34m.\u001b[0m\u001b[0m_num_yielded\u001b[0m \u001b[0;34m+=\u001b[0m \u001b[0;36m1\u001b[0m\u001b[0;34m\u001b[0m\u001b[0;34m\u001b[0m\u001b[0m\n\u001b[1;32m    523\u001b[0m             \u001b[0;32mif\u001b[0m \u001b[0mself\u001b[0m\u001b[0;34m.\u001b[0m\u001b[0m_dataset_kind\u001b[0m \u001b[0;34m==\u001b[0m \u001b[0m_DatasetKind\u001b[0m\u001b[0;34m.\u001b[0m\u001b[0mIterable\u001b[0m \u001b[0;32mand\u001b[0m\u001b[0;31m \u001b[0m\u001b[0;31m\\\u001b[0m\u001b[0;34m\u001b[0m\u001b[0;34m\u001b[0m\u001b[0m\n",
            "\u001b[0;32m/usr/local/lib/python3.7/dist-packages/torch/utils/data/dataloader.py\u001b[0m in \u001b[0;36m_next_data\u001b[0;34m(self)\u001b[0m\n\u001b[1;32m   1184\u001b[0m \u001b[0;34m\u001b[0m\u001b[0m\n\u001b[1;32m   1185\u001b[0m             \u001b[0;32massert\u001b[0m \u001b[0;32mnot\u001b[0m \u001b[0mself\u001b[0m\u001b[0;34m.\u001b[0m\u001b[0m_shutdown\u001b[0m \u001b[0;32mand\u001b[0m \u001b[0mself\u001b[0m\u001b[0;34m.\u001b[0m\u001b[0m_tasks_outstanding\u001b[0m \u001b[0;34m>\u001b[0m \u001b[0;36m0\u001b[0m\u001b[0;34m\u001b[0m\u001b[0;34m\u001b[0m\u001b[0m\n\u001b[0;32m-> 1186\u001b[0;31m             \u001b[0midx\u001b[0m\u001b[0;34m,\u001b[0m \u001b[0mdata\u001b[0m \u001b[0;34m=\u001b[0m \u001b[0mself\u001b[0m\u001b[0;34m.\u001b[0m\u001b[0m_get_data\u001b[0m\u001b[0;34m(\u001b[0m\u001b[0;34m)\u001b[0m\u001b[0;34m\u001b[0m\u001b[0;34m\u001b[0m\u001b[0m\n\u001b[0m\u001b[1;32m   1187\u001b[0m             \u001b[0mself\u001b[0m\u001b[0;34m.\u001b[0m\u001b[0m_tasks_outstanding\u001b[0m \u001b[0;34m-=\u001b[0m \u001b[0;36m1\u001b[0m\u001b[0;34m\u001b[0m\u001b[0;34m\u001b[0m\u001b[0m\n\u001b[1;32m   1188\u001b[0m             \u001b[0;32mif\u001b[0m \u001b[0mself\u001b[0m\u001b[0;34m.\u001b[0m\u001b[0m_dataset_kind\u001b[0m \u001b[0;34m==\u001b[0m \u001b[0m_DatasetKind\u001b[0m\u001b[0;34m.\u001b[0m\u001b[0mIterable\u001b[0m\u001b[0;34m:\u001b[0m\u001b[0;34m\u001b[0m\u001b[0;34m\u001b[0m\u001b[0m\n",
            "\u001b[0;32m/usr/local/lib/python3.7/dist-packages/torch/utils/data/dataloader.py\u001b[0m in \u001b[0;36m_get_data\u001b[0;34m(self)\u001b[0m\n\u001b[1;32m   1150\u001b[0m         \u001b[0;32melse\u001b[0m\u001b[0;34m:\u001b[0m\u001b[0;34m\u001b[0m\u001b[0;34m\u001b[0m\u001b[0m\n\u001b[1;32m   1151\u001b[0m             \u001b[0;32mwhile\u001b[0m \u001b[0;32mTrue\u001b[0m\u001b[0;34m:\u001b[0m\u001b[0;34m\u001b[0m\u001b[0;34m\u001b[0m\u001b[0m\n\u001b[0;32m-> 1152\u001b[0;31m                 \u001b[0msuccess\u001b[0m\u001b[0;34m,\u001b[0m \u001b[0mdata\u001b[0m \u001b[0;34m=\u001b[0m \u001b[0mself\u001b[0m\u001b[0;34m.\u001b[0m\u001b[0m_try_get_data\u001b[0m\u001b[0;34m(\u001b[0m\u001b[0;34m)\u001b[0m\u001b[0;34m\u001b[0m\u001b[0;34m\u001b[0m\u001b[0m\n\u001b[0m\u001b[1;32m   1153\u001b[0m                 \u001b[0;32mif\u001b[0m \u001b[0msuccess\u001b[0m\u001b[0;34m:\u001b[0m\u001b[0;34m\u001b[0m\u001b[0;34m\u001b[0m\u001b[0m\n\u001b[1;32m   1154\u001b[0m                     \u001b[0;32mreturn\u001b[0m \u001b[0mdata\u001b[0m\u001b[0;34m\u001b[0m\u001b[0;34m\u001b[0m\u001b[0m\n",
            "\u001b[0;32m/usr/local/lib/python3.7/dist-packages/torch/utils/data/dataloader.py\u001b[0m in \u001b[0;36m_try_get_data\u001b[0;34m(self, timeout)\u001b[0m\n\u001b[1;32m    988\u001b[0m         \u001b[0;31m#   (bool: whether successfully get data, any: data if successful else None)\u001b[0m\u001b[0;34m\u001b[0m\u001b[0;34m\u001b[0m\u001b[0;34m\u001b[0m\u001b[0m\n\u001b[1;32m    989\u001b[0m         \u001b[0;32mtry\u001b[0m\u001b[0;34m:\u001b[0m\u001b[0;34m\u001b[0m\u001b[0;34m\u001b[0m\u001b[0m\n\u001b[0;32m--> 990\u001b[0;31m             \u001b[0mdata\u001b[0m \u001b[0;34m=\u001b[0m \u001b[0mself\u001b[0m\u001b[0;34m.\u001b[0m\u001b[0m_data_queue\u001b[0m\u001b[0;34m.\u001b[0m\u001b[0mget\u001b[0m\u001b[0;34m(\u001b[0m\u001b[0mtimeout\u001b[0m\u001b[0;34m=\u001b[0m\u001b[0mtimeout\u001b[0m\u001b[0;34m)\u001b[0m\u001b[0;34m\u001b[0m\u001b[0;34m\u001b[0m\u001b[0m\n\u001b[0m\u001b[1;32m    991\u001b[0m             \u001b[0;32mreturn\u001b[0m \u001b[0;34m(\u001b[0m\u001b[0;32mTrue\u001b[0m\u001b[0;34m,\u001b[0m \u001b[0mdata\u001b[0m\u001b[0;34m)\u001b[0m\u001b[0;34m\u001b[0m\u001b[0;34m\u001b[0m\u001b[0m\n\u001b[1;32m    992\u001b[0m         \u001b[0;32mexcept\u001b[0m \u001b[0mException\u001b[0m \u001b[0;32mas\u001b[0m \u001b[0me\u001b[0m\u001b[0;34m:\u001b[0m\u001b[0;34m\u001b[0m\u001b[0;34m\u001b[0m\u001b[0m\n",
            "\u001b[0;32m/usr/lib/python3.7/multiprocessing/queues.py\u001b[0m in \u001b[0;36mget\u001b[0;34m(self, block, timeout)\u001b[0m\n\u001b[1;32m    102\u001b[0m                 \u001b[0;32mif\u001b[0m \u001b[0mblock\u001b[0m\u001b[0;34m:\u001b[0m\u001b[0;34m\u001b[0m\u001b[0;34m\u001b[0m\u001b[0m\n\u001b[1;32m    103\u001b[0m                     \u001b[0mtimeout\u001b[0m \u001b[0;34m=\u001b[0m \u001b[0mdeadline\u001b[0m \u001b[0;34m-\u001b[0m \u001b[0mtime\u001b[0m\u001b[0;34m.\u001b[0m\u001b[0mmonotonic\u001b[0m\u001b[0;34m(\u001b[0m\u001b[0;34m)\u001b[0m\u001b[0;34m\u001b[0m\u001b[0;34m\u001b[0m\u001b[0m\n\u001b[0;32m--> 104\u001b[0;31m                     \u001b[0;32mif\u001b[0m \u001b[0;32mnot\u001b[0m \u001b[0mself\u001b[0m\u001b[0;34m.\u001b[0m\u001b[0m_poll\u001b[0m\u001b[0;34m(\u001b[0m\u001b[0mtimeout\u001b[0m\u001b[0;34m)\u001b[0m\u001b[0;34m:\u001b[0m\u001b[0;34m\u001b[0m\u001b[0;34m\u001b[0m\u001b[0m\n\u001b[0m\u001b[1;32m    105\u001b[0m                         \u001b[0;32mraise\u001b[0m \u001b[0mEmpty\u001b[0m\u001b[0;34m\u001b[0m\u001b[0;34m\u001b[0m\u001b[0m\n\u001b[1;32m    106\u001b[0m                 \u001b[0;32melif\u001b[0m \u001b[0;32mnot\u001b[0m \u001b[0mself\u001b[0m\u001b[0;34m.\u001b[0m\u001b[0m_poll\u001b[0m\u001b[0;34m(\u001b[0m\u001b[0;34m)\u001b[0m\u001b[0;34m:\u001b[0m\u001b[0;34m\u001b[0m\u001b[0;34m\u001b[0m\u001b[0m\n",
            "\u001b[0;32m/usr/lib/python3.7/multiprocessing/connection.py\u001b[0m in \u001b[0;36mpoll\u001b[0;34m(self, timeout)\u001b[0m\n\u001b[1;32m    255\u001b[0m         \u001b[0mself\u001b[0m\u001b[0;34m.\u001b[0m\u001b[0m_check_closed\u001b[0m\u001b[0;34m(\u001b[0m\u001b[0;34m)\u001b[0m\u001b[0;34m\u001b[0m\u001b[0;34m\u001b[0m\u001b[0m\n\u001b[1;32m    256\u001b[0m         \u001b[0mself\u001b[0m\u001b[0;34m.\u001b[0m\u001b[0m_check_readable\u001b[0m\u001b[0;34m(\u001b[0m\u001b[0;34m)\u001b[0m\u001b[0;34m\u001b[0m\u001b[0;34m\u001b[0m\u001b[0m\n\u001b[0;32m--> 257\u001b[0;31m         \u001b[0;32mreturn\u001b[0m \u001b[0mself\u001b[0m\u001b[0;34m.\u001b[0m\u001b[0m_poll\u001b[0m\u001b[0;34m(\u001b[0m\u001b[0mtimeout\u001b[0m\u001b[0;34m)\u001b[0m\u001b[0;34m\u001b[0m\u001b[0;34m\u001b[0m\u001b[0m\n\u001b[0m\u001b[1;32m    258\u001b[0m \u001b[0;34m\u001b[0m\u001b[0m\n\u001b[1;32m    259\u001b[0m     \u001b[0;32mdef\u001b[0m \u001b[0m__enter__\u001b[0m\u001b[0;34m(\u001b[0m\u001b[0mself\u001b[0m\u001b[0;34m)\u001b[0m\u001b[0;34m:\u001b[0m\u001b[0;34m\u001b[0m\u001b[0;34m\u001b[0m\u001b[0m\n",
            "\u001b[0;32m/usr/lib/python3.7/multiprocessing/connection.py\u001b[0m in \u001b[0;36m_poll\u001b[0;34m(self, timeout)\u001b[0m\n\u001b[1;32m    412\u001b[0m \u001b[0;34m\u001b[0m\u001b[0m\n\u001b[1;32m    413\u001b[0m     \u001b[0;32mdef\u001b[0m \u001b[0m_poll\u001b[0m\u001b[0;34m(\u001b[0m\u001b[0mself\u001b[0m\u001b[0;34m,\u001b[0m \u001b[0mtimeout\u001b[0m\u001b[0;34m)\u001b[0m\u001b[0;34m:\u001b[0m\u001b[0;34m\u001b[0m\u001b[0;34m\u001b[0m\u001b[0m\n\u001b[0;32m--> 414\u001b[0;31m         \u001b[0mr\u001b[0m \u001b[0;34m=\u001b[0m \u001b[0mwait\u001b[0m\u001b[0;34m(\u001b[0m\u001b[0;34m[\u001b[0m\u001b[0mself\u001b[0m\u001b[0;34m]\u001b[0m\u001b[0;34m,\u001b[0m \u001b[0mtimeout\u001b[0m\u001b[0;34m)\u001b[0m\u001b[0;34m\u001b[0m\u001b[0;34m\u001b[0m\u001b[0m\n\u001b[0m\u001b[1;32m    415\u001b[0m         \u001b[0;32mreturn\u001b[0m \u001b[0mbool\u001b[0m\u001b[0;34m(\u001b[0m\u001b[0mr\u001b[0m\u001b[0;34m)\u001b[0m\u001b[0;34m\u001b[0m\u001b[0;34m\u001b[0m\u001b[0m\n\u001b[1;32m    416\u001b[0m \u001b[0;34m\u001b[0m\u001b[0m\n",
            "\u001b[0;32m/usr/lib/python3.7/multiprocessing/connection.py\u001b[0m in \u001b[0;36mwait\u001b[0;34m(object_list, timeout)\u001b[0m\n\u001b[1;32m    919\u001b[0m \u001b[0;34m\u001b[0m\u001b[0m\n\u001b[1;32m    920\u001b[0m             \u001b[0;32mwhile\u001b[0m \u001b[0;32mTrue\u001b[0m\u001b[0;34m:\u001b[0m\u001b[0;34m\u001b[0m\u001b[0;34m\u001b[0m\u001b[0m\n\u001b[0;32m--> 921\u001b[0;31m                 \u001b[0mready\u001b[0m \u001b[0;34m=\u001b[0m \u001b[0mselector\u001b[0m\u001b[0;34m.\u001b[0m\u001b[0mselect\u001b[0m\u001b[0;34m(\u001b[0m\u001b[0mtimeout\u001b[0m\u001b[0;34m)\u001b[0m\u001b[0;34m\u001b[0m\u001b[0;34m\u001b[0m\u001b[0m\n\u001b[0m\u001b[1;32m    922\u001b[0m                 \u001b[0;32mif\u001b[0m \u001b[0mready\u001b[0m\u001b[0;34m:\u001b[0m\u001b[0;34m\u001b[0m\u001b[0;34m\u001b[0m\u001b[0m\n\u001b[1;32m    923\u001b[0m                     \u001b[0;32mreturn\u001b[0m \u001b[0;34m[\u001b[0m\u001b[0mkey\u001b[0m\u001b[0;34m.\u001b[0m\u001b[0mfileobj\u001b[0m \u001b[0;32mfor\u001b[0m \u001b[0;34m(\u001b[0m\u001b[0mkey\u001b[0m\u001b[0;34m,\u001b[0m \u001b[0mevents\u001b[0m\u001b[0;34m)\u001b[0m \u001b[0;32min\u001b[0m \u001b[0mready\u001b[0m\u001b[0;34m]\u001b[0m\u001b[0;34m\u001b[0m\u001b[0;34m\u001b[0m\u001b[0m\n",
            "\u001b[0;32m/usr/lib/python3.7/selectors.py\u001b[0m in \u001b[0;36mselect\u001b[0;34m(self, timeout)\u001b[0m\n\u001b[1;32m    413\u001b[0m         \u001b[0mready\u001b[0m \u001b[0;34m=\u001b[0m \u001b[0;34m[\u001b[0m\u001b[0;34m]\u001b[0m\u001b[0;34m\u001b[0m\u001b[0;34m\u001b[0m\u001b[0m\n\u001b[1;32m    414\u001b[0m         \u001b[0;32mtry\u001b[0m\u001b[0;34m:\u001b[0m\u001b[0;34m\u001b[0m\u001b[0;34m\u001b[0m\u001b[0m\n\u001b[0;32m--> 415\u001b[0;31m             \u001b[0mfd_event_list\u001b[0m \u001b[0;34m=\u001b[0m \u001b[0mself\u001b[0m\u001b[0;34m.\u001b[0m\u001b[0m_selector\u001b[0m\u001b[0;34m.\u001b[0m\u001b[0mpoll\u001b[0m\u001b[0;34m(\u001b[0m\u001b[0mtimeout\u001b[0m\u001b[0;34m)\u001b[0m\u001b[0;34m\u001b[0m\u001b[0;34m\u001b[0m\u001b[0m\n\u001b[0m\u001b[1;32m    416\u001b[0m         \u001b[0;32mexcept\u001b[0m \u001b[0mInterruptedError\u001b[0m\u001b[0;34m:\u001b[0m\u001b[0;34m\u001b[0m\u001b[0;34m\u001b[0m\u001b[0m\n\u001b[1;32m    417\u001b[0m             \u001b[0;32mreturn\u001b[0m \u001b[0mready\u001b[0m\u001b[0;34m\u001b[0m\u001b[0;34m\u001b[0m\u001b[0m\n",
            "\u001b[0;31mKeyboardInterrupt\u001b[0m: "
          ]
        }
      ]
    },
    {
      "cell_type": "code",
      "metadata": {
        "colab": {
          "base_uri": "https://localhost:8080/",
          "height": 235
        },
        "id": "DTPUtocwMe7N",
        "outputId": "914cfa94-cd7d-4de6-dbd4-802b853c35d2"
      },
      "source": [
        "for batch in dataloader:\n",
        "    train_inputs, train_targets = batch[\"train\"]\n",
        "    print('Train inputs shape: {0}'.format(train_inputs.shape))    # (16, 25, 1, 28, 28)\n",
        "    print('Train targets shape: {0}'.format(train_targets.shape))  # (16, 25)\n",
        "\n",
        "    test_inputs, test_targets = batch[\"test\"]\n",
        "    print('Test inputs shape: {0}'.format(test_inputs))      # (16, 75, 1, 28, 28)\n",
        "    print('Test targets shape: {0}'.format(test_targets.shape))    # (16, 75)\n"
      ],
      "execution_count": 10,
      "outputs": [
        {
          "output_type": "error",
          "ename": "NameError",
          "evalue": "ignored",
          "traceback": [
            "\u001b[0;31m---------------------------------------------------------------------------\u001b[0m",
            "\u001b[0;31mNameError\u001b[0m                                 Traceback (most recent call last)",
            "\u001b[0;32m<ipython-input-10-e9cf9960381d>\u001b[0m in \u001b[0;36m<module>\u001b[0;34m()\u001b[0m\n\u001b[0;32m----> 1\u001b[0;31m \u001b[0;32mfor\u001b[0m \u001b[0mbatch\u001b[0m \u001b[0;32min\u001b[0m \u001b[0mdataloader\u001b[0m\u001b[0;34m:\u001b[0m\u001b[0;34m\u001b[0m\u001b[0;34m\u001b[0m\u001b[0m\n\u001b[0m\u001b[1;32m      2\u001b[0m     \u001b[0mtrain_inputs\u001b[0m\u001b[0;34m,\u001b[0m \u001b[0mtrain_targets\u001b[0m \u001b[0;34m=\u001b[0m \u001b[0mbatch\u001b[0m\u001b[0;34m[\u001b[0m\u001b[0;34m\"train\"\u001b[0m\u001b[0;34m]\u001b[0m\u001b[0;34m\u001b[0m\u001b[0;34m\u001b[0m\u001b[0m\n\u001b[1;32m      3\u001b[0m     \u001b[0mprint\u001b[0m\u001b[0;34m(\u001b[0m\u001b[0;34m'Train inputs shape: {0}'\u001b[0m\u001b[0;34m.\u001b[0m\u001b[0mformat\u001b[0m\u001b[0;34m(\u001b[0m\u001b[0mtrain_inputs\u001b[0m\u001b[0;34m.\u001b[0m\u001b[0mshape\u001b[0m\u001b[0;34m)\u001b[0m\u001b[0;34m)\u001b[0m    \u001b[0;31m# (16, 25, 1, 28, 28)\u001b[0m\u001b[0;34m\u001b[0m\u001b[0;34m\u001b[0m\u001b[0m\n\u001b[1;32m      4\u001b[0m     \u001b[0mprint\u001b[0m\u001b[0;34m(\u001b[0m\u001b[0;34m'Train targets shape: {0}'\u001b[0m\u001b[0;34m.\u001b[0m\u001b[0mformat\u001b[0m\u001b[0;34m(\u001b[0m\u001b[0mtrain_targets\u001b[0m\u001b[0;34m.\u001b[0m\u001b[0mshape\u001b[0m\u001b[0;34m)\u001b[0m\u001b[0;34m)\u001b[0m  \u001b[0;31m# (16, 25)\u001b[0m\u001b[0;34m\u001b[0m\u001b[0;34m\u001b[0m\u001b[0m\n\u001b[1;32m      5\u001b[0m \u001b[0;34m\u001b[0m\u001b[0m\n",
            "\u001b[0;31mNameError\u001b[0m: name 'dataloader' is not defined"
          ]
        }
      ]
    },
    {
      "cell_type": "code",
      "metadata": {
        "colab": {
          "base_uri": "https://localhost:8080/",
          "height": 183
        },
        "id": "lX92AW9XPFgz",
        "outputId": "cf732347-6932-4167-c785-c8a6a0a4c5e9"
      },
      "source": [
        "test_image = test_inputs[0]\n",
        "test_image"
      ],
      "execution_count": 13,
      "outputs": [
        {
          "output_type": "error",
          "ename": "NameError",
          "evalue": "ignored",
          "traceback": [
            "\u001b[0;31m---------------------------------------------------------------------------\u001b[0m",
            "\u001b[0;31mNameError\u001b[0m                                 Traceback (most recent call last)",
            "\u001b[0;32m<ipython-input-13-b5c964673c02>\u001b[0m in \u001b[0;36m<module>\u001b[0;34m()\u001b[0m\n\u001b[0;32m----> 1\u001b[0;31m \u001b[0mtest_image\u001b[0m \u001b[0;34m=\u001b[0m \u001b[0mtest_inputs\u001b[0m\u001b[0;34m[\u001b[0m\u001b[0;36m0\u001b[0m\u001b[0;34m]\u001b[0m\u001b[0;34m\u001b[0m\u001b[0;34m\u001b[0m\u001b[0m\n\u001b[0m\u001b[1;32m      2\u001b[0m \u001b[0mtest_image\u001b[0m\u001b[0;34m\u001b[0m\u001b[0;34m\u001b[0m\u001b[0m\n",
            "\u001b[0;31mNameError\u001b[0m: name 'test_inputs' is not defined"
          ]
        }
      ]
    },
    {
      "cell_type": "code",
      "metadata": {
        "id": "eI26vKccPF3A"
      },
      "source": [
        "import matplotlib\n",
        "import matplotlib.pyplot as plt\n",
        "%matplotlib inline\n",
        "\n",
        "def show_example(img):\n",
        "    plt.imshow(img)"
      ],
      "execution_count": 13,
      "outputs": []
    },
    {
      "cell_type": "code",
      "metadata": {
        "colab": {
          "base_uri": "https://localhost:8080/",
          "height": 165
        },
        "id": "o16eNdawPTta",
        "outputId": "ae4ea60c-777c-473f-e0ba-f3b2bc94e20c"
      },
      "source": [
        "show_example(*test_image[0])"
      ],
      "execution_count": 16,
      "outputs": [
        {
          "output_type": "error",
          "ename": "NameError",
          "evalue": "ignored",
          "traceback": [
            "\u001b[0;31m---------------------------------------------------------------------------\u001b[0m",
            "\u001b[0;31mNameError\u001b[0m                                 Traceback (most recent call last)",
            "\u001b[0;32m<ipython-input-16-cd9d18a3ef17>\u001b[0m in \u001b[0;36m<module>\u001b[0;34m()\u001b[0m\n\u001b[0;32m----> 1\u001b[0;31m \u001b[0mshow_example\u001b[0m\u001b[0;34m(\u001b[0m\u001b[0;34m*\u001b[0m\u001b[0mtest_image\u001b[0m\u001b[0;34m[\u001b[0m\u001b[0;36m0\u001b[0m\u001b[0;34m]\u001b[0m\u001b[0;34m)\u001b[0m\u001b[0;34m\u001b[0m\u001b[0;34m\u001b[0m\u001b[0m\n\u001b[0m",
            "\u001b[0;31mNameError\u001b[0m: name 'test_image' is not defined"
          ]
        }
      ]
    },
    {
      "cell_type": "code",
      "metadata": {
        "id": "iLezU9-iPZfW"
      },
      "source": [
        "test_targets[0][0]"
      ],
      "execution_count": null,
      "outputs": []
    },
    {
      "cell_type": "code",
      "metadata": {
        "id": "QdKchCeXPoXd"
      },
      "source": [
        "x = set()"
      ],
      "execution_count": null,
      "outputs": []
    },
    {
      "cell_type": "code",
      "metadata": {
        "id": "C-B7TdtZZO6Z"
      },
      "source": [
        "for batch in "
      ],
      "execution_count": null,
      "outputs": []
    },
    {
      "cell_type": "code",
      "metadata": {
        "id": "EicsxR-NZQnJ"
      },
      "source": [
        "X = set()\n",
        "for batch in dataloader:\n",
        "    train_inputs, train_targets = batch[\"test\"]\n",
        "    for target in train_targets:\n",
        "      s = set(target.tolist())\n",
        "      X = X.union(s)\n",
        "      print(X)\n",
        "    # print('Train inputs shape: {0}'.format(train_inputs.shape))    # (16, 25, 1, 28, 28)\n",
        "    # print('Train targets shape: {0}'.format(train_targets.shape))  # (16, 25)\n",
        "\n",
        "    # test_inputs, test_targets = batch[\"test\"]\n",
        "    # print('Test inputs shape: {0}'.format(test_inputs))      # (16, 75, 1, 28, 28)\n",
        "    # print('Test targets shape: {0}'.format(test_targets.shape))    # (16, 75)"
      ],
      "execution_count": null,
      "outputs": []
    },
    {
      "cell_type": "code",
      "metadata": {
        "id": "Mb7byqTQcD8_"
      },
      "source": [
        "x = set(train_targets[2].tolist())\n",
        "# x = set(train_targets[2])"
      ],
      "execution_count": null,
      "outputs": []
    },
    {
      "cell_type": "code",
      "metadata": {
        "id": "T1FZNxuDcIfa"
      },
      "source": [
        "x"
      ],
      "execution_count": null,
      "outputs": []
    },
    {
      "cell_type": "code",
      "metadata": {
        "id": "qUsBGl7Pc8rP"
      },
      "source": [
        ""
      ],
      "execution_count": null,
      "outputs": []
    }
  ]
}